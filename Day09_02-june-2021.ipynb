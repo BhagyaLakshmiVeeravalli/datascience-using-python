{
 "cells": [
  {
   "cell_type": "markdown",
   "id": "c129c594",
   "metadata": {},
   "source": [
    "### RECAP :\n",
    "\n",
    "- Strings\n",
    "- String methods\n",
    "- List Intro..."
   ]
  },
  {
   "cell_type": "markdown",
   "id": "409ae7c6",
   "metadata": {},
   "source": [
    "### TODAY'S OBJECTIVE :\n",
    "\n",
    "- Accessing elements of list.\n",
    "    - Indexing.\n",
    "    - Slicing.\n",
    "- List methods.\n",
    "- Tuple\n",
    "    - Accessing elements of Tuple\n",
    "        - Indexing\n",
    "        - slicing\n",
    "        \n",
    "    - Tuple methods"
   ]
  },
  {
   "cell_type": "code",
   "execution_count": 1,
   "id": "cc279787",
   "metadata": {},
   "outputs": [],
   "source": [
    "li = [1, 2, 5, 4, 8, 85]"
   ]
  },
  {
   "cell_type": "code",
   "execution_count": 2,
   "id": "8840ca88",
   "metadata": {},
   "outputs": [
    {
     "name": "stdout",
     "output_type": "stream",
     "text": [
      "6\n"
     ]
    }
   ],
   "source": [
    "print(len(li))"
   ]
  },
  {
   "cell_type": "code",
   "execution_count": 3,
   "id": "b56b416e",
   "metadata": {},
   "outputs": [
    {
     "name": "stdout",
     "output_type": "stream",
     "text": [
      "85 1 105\n"
     ]
    }
   ],
   "source": [
    "print(max(li), min(li), sum(li))"
   ]
  },
  {
   "cell_type": "code",
   "execution_count": 4,
   "id": "05cac041",
   "metadata": {},
   "outputs": [
    {
     "name": "stdout",
     "output_type": "stream",
     "text": [
      "7\n"
     ]
    },
    {
     "ename": "TypeError",
     "evalue": "'<' not supported between instances of 'str' and 'int'",
     "output_type": "error",
     "traceback": [
      "\u001b[1;31m---------------------------------------------------------------------------\u001b[0m",
      "\u001b[1;31mTypeError\u001b[0m                                 Traceback (most recent call last)",
      "\u001b[1;32m<ipython-input-4-fa628a248256>\u001b[0m in \u001b[0;36m<module>\u001b[1;34m\u001b[0m\n\u001b[0;32m      2\u001b[0m \u001b[1;33m\u001b[0m\u001b[0m\n\u001b[0;32m      3\u001b[0m \u001b[0mprint\u001b[0m\u001b[1;33m(\u001b[0m\u001b[0mlen\u001b[0m\u001b[1;33m(\u001b[0m\u001b[0mli2\u001b[0m\u001b[1;33m)\u001b[0m\u001b[1;33m)\u001b[0m\u001b[1;33m\u001b[0m\u001b[1;33m\u001b[0m\u001b[0m\n\u001b[1;32m----> 4\u001b[1;33m \u001b[0mprint\u001b[0m\u001b[1;33m(\u001b[0m\u001b[0mmin\u001b[0m\u001b[1;33m(\u001b[0m\u001b[0mli2\u001b[0m\u001b[1;33m)\u001b[0m\u001b[1;33m)\u001b[0m\u001b[1;33m\u001b[0m\u001b[1;33m\u001b[0m\u001b[0m\n\u001b[0m",
      "\u001b[1;31mTypeError\u001b[0m: '<' not supported between instances of 'str' and 'int'"
     ]
    }
   ],
   "source": [
    "li2 = [1, 2, 5, 4, 8, 85, 'Python']\n",
    "\n",
    "print(len(li2))\n",
    "print(min(li2))"
   ]
  },
  {
   "cell_type": "markdown",
   "id": "04146371",
   "metadata": {},
   "source": [
    "### Accessing Elements from List :\n",
    "\n",
    "- indexing\n",
    "    - +ve\n",
    "    - -ve\n",
    "- slicing\n",
    "    - +ve\n",
    "    - -ve"
   ]
  },
  {
   "cell_type": "code",
   "execution_count": 5,
   "id": "e8ac57c2",
   "metadata": {},
   "outputs": [
    {
     "name": "stdout",
     "output_type": "stream",
     "text": [
      "1\n"
     ]
    }
   ],
   "source": [
    "print(li[0])"
   ]
  },
  {
   "cell_type": "code",
   "execution_count": 6,
   "id": "2de5f055",
   "metadata": {},
   "outputs": [
    {
     "name": "stdout",
     "output_type": "stream",
     "text": [
      "85\n"
     ]
    }
   ],
   "source": [
    "print(li[5])"
   ]
  },
  {
   "cell_type": "code",
   "execution_count": 7,
   "id": "800d782b",
   "metadata": {},
   "outputs": [
    {
     "name": "stdout",
     "output_type": "stream",
     "text": [
      "8\n"
     ]
    }
   ],
   "source": [
    "print(li[-2])"
   ]
  },
  {
   "cell_type": "code",
   "execution_count": 8,
   "id": "3a96828b",
   "metadata": {},
   "outputs": [
    {
     "name": "stdout",
     "output_type": "stream",
     "text": [
      "1\n"
     ]
    }
   ],
   "source": [
    "print(li[-6])"
   ]
  },
  {
   "cell_type": "code",
   "execution_count": 9,
   "id": "59f56b1d",
   "metadata": {},
   "outputs": [
    {
     "ename": "IndexError",
     "evalue": "list index out of range",
     "output_type": "error",
     "traceback": [
      "\u001b[1;31m---------------------------------------------------------------------------\u001b[0m",
      "\u001b[1;31mIndexError\u001b[0m                                Traceback (most recent call last)",
      "\u001b[1;32m<ipython-input-9-c96b4b304720>\u001b[0m in \u001b[0;36m<module>\u001b[1;34m\u001b[0m\n\u001b[1;32m----> 1\u001b[1;33m \u001b[0mprint\u001b[0m\u001b[1;33m(\u001b[0m\u001b[0mli\u001b[0m\u001b[1;33m[\u001b[0m\u001b[1;36m7\u001b[0m\u001b[1;33m]\u001b[0m\u001b[1;33m)\u001b[0m\u001b[1;33m\u001b[0m\u001b[1;33m\u001b[0m\u001b[0m\n\u001b[0m",
      "\u001b[1;31mIndexError\u001b[0m: list index out of range"
     ]
    }
   ],
   "source": [
    "print(li[7])"
   ]
  },
  {
   "cell_type": "code",
   "execution_count": 10,
   "id": "4447d30f",
   "metadata": {},
   "outputs": [
    {
     "ename": "TypeError",
     "evalue": "list indices must be integers or slices, not float",
     "output_type": "error",
     "traceback": [
      "\u001b[1;31m---------------------------------------------------------------------------\u001b[0m",
      "\u001b[1;31mTypeError\u001b[0m                                 Traceback (most recent call last)",
      "\u001b[1;32m<ipython-input-10-f165e6fb7646>\u001b[0m in \u001b[0;36m<module>\u001b[1;34m\u001b[0m\n\u001b[1;32m----> 1\u001b[1;33m \u001b[0mprint\u001b[0m\u001b[1;33m(\u001b[0m\u001b[0mli\u001b[0m\u001b[1;33m[\u001b[0m\u001b[1;36m1.2\u001b[0m\u001b[1;33m]\u001b[0m\u001b[1;33m)\u001b[0m\u001b[1;33m\u001b[0m\u001b[1;33m\u001b[0m\u001b[0m\n\u001b[0m",
      "\u001b[1;31mTypeError\u001b[0m: list indices must be integers or slices, not float"
     ]
    }
   ],
   "source": [
    "print(li[1.2])"
   ]
  },
  {
   "cell_type": "markdown",
   "id": "424578f2",
   "metadata": {},
   "source": [
    "list_var[SI : EI]"
   ]
  },
  {
   "cell_type": "code",
   "execution_count": 12,
   "id": "0d275e31",
   "metadata": {},
   "outputs": [
    {
     "name": "stdout",
     "output_type": "stream",
     "text": [
      "[1] [1, 2] [1, 2] [1, 2, 5, 4, 8, 85] [5, 4, 8, 85]\n"
     ]
    }
   ],
   "source": [
    "print(li[0 : 1], li[0 : 2], li[ : 2], li[0 : ], li[2 : ])"
   ]
  },
  {
   "cell_type": "code",
   "execution_count": 21,
   "id": "15627232",
   "metadata": {},
   "outputs": [
    {
     "name": "stdout",
     "output_type": "stream",
     "text": [
      "[1, 2, 5, 4] [8, 85] [8, 85] [8, 85] [1, 2, 5]\n"
     ]
    }
   ],
   "source": [
    "print(li[ : -2], li[-2 :  ], li[4 : ], li[len(li) - 2 : ], li[ : -3])"
   ]
  },
  {
   "cell_type": "code",
   "execution_count": 51,
   "id": "bc039dc8",
   "metadata": {},
   "outputs": [
    {
     "name": "stdout",
     "output_type": "stream",
     "text": [
      "[8, 85]\n"
     ]
    }
   ],
   "source": [
    "print(li[4::])"
   ]
  },
  {
   "cell_type": "code",
   "execution_count": 52,
   "id": "26e06899",
   "metadata": {},
   "outputs": [
    {
     "name": "stdout",
     "output_type": "stream",
     "text": [
      "[85, 8, 4, 5, 2, 1]\n",
      "[85, 4, 2]\n"
     ]
    }
   ],
   "source": [
    "print(li[ : : -1])\n",
    "print(li[ : : -2])"
   ]
  },
  {
   "cell_type": "code",
   "execution_count": 59,
   "id": "8a555bca",
   "metadata": {},
   "outputs": [
    {
     "name": "stdout",
     "output_type": "stream",
     "text": [
      "[1, 5, 8]\n"
     ]
    }
   ],
   "source": [
    "print(li[: : 2])"
   ]
  },
  {
   "cell_type": "code",
   "execution_count": 54,
   "id": "30c02da8",
   "metadata": {},
   "outputs": [
    {
     "name": "stdout",
     "output_type": "stream",
     "text": [
      "[5, 4, 8, 85]\n"
     ]
    }
   ],
   "source": [
    "print(li[2 : : ])"
   ]
  },
  {
   "cell_type": "code",
   "execution_count": 57,
   "id": "3af2818f",
   "metadata": {},
   "outputs": [
    {
     "name": "stdout",
     "output_type": "stream",
     "text": [
      "[1, 2]\n"
     ]
    }
   ],
   "source": [
    "print(li[ : 2 : ])"
   ]
  },
  {
   "cell_type": "code",
   "execution_count": 62,
   "id": "1cf906f6",
   "metadata": {},
   "outputs": [
    {
     "name": "stdout",
     "output_type": "stream",
     "text": [
      "[8, 85]\n"
     ]
    }
   ],
   "source": [
    "print(li[4 : : 1])"
   ]
  },
  {
   "cell_type": "code",
   "execution_count": 64,
   "id": "83bc4348",
   "metadata": {},
   "outputs": [
    {
     "data": {
      "text/plain": [
       "'PYTHON'"
      ]
     },
     "execution_count": 64,
     "metadata": {},
     "output_type": "execute_result"
    }
   ],
   "source": [
    "li2[-1].upper()"
   ]
  },
  {
   "cell_type": "code",
   "execution_count": 65,
   "id": "a1523378",
   "metadata": {},
   "outputs": [
    {
     "data": {
      "text/plain": [
       "'Python'"
      ]
     },
     "execution_count": 65,
     "metadata": {},
     "output_type": "execute_result"
    }
   ],
   "source": [
    "li2[-1].strip()"
   ]
  },
  {
   "cell_type": "code",
   "execution_count": 66,
   "id": "b2dbb306",
   "metadata": {},
   "outputs": [
    {
     "name": "stdout",
     "output_type": "stream",
     "text": [
      "[1, 2, 5, 4, 8] [1, 2, 5, 4, 8]\n"
     ]
    }
   ],
   "source": [
    "print(li2[0 : 5], li2[ : 5])"
   ]
  },
  {
   "cell_type": "code",
   "execution_count": 68,
   "id": "85f8d870",
   "metadata": {},
   "outputs": [
    {
     "name": "stdout",
     "output_type": "stream",
     "text": [
      "[8, 85, 'Python']\n"
     ]
    }
   ],
   "source": [
    "print((li2[-3 : ]))"
   ]
  },
  {
   "cell_type": "code",
   "execution_count": 70,
   "id": "a11d7146",
   "metadata": {},
   "outputs": [
    {
     "name": "stdout",
     "output_type": "stream",
     "text": [
      "[[1, 2, 3], [4, 5, 6], [7, 8, 9]]\n"
     ]
    }
   ],
   "source": [
    "matrix = [[1, 2, 3], [4, 5, 6], [7, 8, 9]]\n",
    "print(matrix)"
   ]
  },
  {
   "cell_type": "code",
   "execution_count": 71,
   "id": "de451301",
   "metadata": {},
   "outputs": [
    {
     "name": "stdout",
     "output_type": "stream",
     "text": [
      "[1, 2, 3]\n"
     ]
    }
   ],
   "source": [
    "print(matrix[0])"
   ]
  },
  {
   "cell_type": "code",
   "execution_count": 74,
   "id": "f9e53281",
   "metadata": {},
   "outputs": [
    {
     "name": "stdout",
     "output_type": "stream",
     "text": [
      "5\n"
     ]
    }
   ],
   "source": [
    "print(matrix[1][1])"
   ]
  },
  {
   "cell_type": "code",
   "execution_count": 79,
   "id": "7fe8778a",
   "metadata": {},
   "outputs": [
    {
     "name": "stdout",
     "output_type": "stream",
     "text": [
      "[2, 3] [8]\n"
     ]
    }
   ],
   "source": [
    "print(matrix[0][1:], matrix[2][1:2])"
   ]
  },
  {
   "cell_type": "code",
   "execution_count": 80,
   "id": "6bae8013",
   "metadata": {},
   "outputs": [
    {
     "name": "stdout",
     "output_type": "stream",
     "text": [
      "[6, 5, 4]\n"
     ]
    }
   ],
   "source": [
    "print(matrix[1][ : : -1])"
   ]
  },
  {
   "cell_type": "code",
   "execution_count": 81,
   "id": "225d13b9",
   "metadata": {},
   "outputs": [
    {
     "name": "stdout",
     "output_type": "stream",
     "text": [
      "3 9\n"
     ]
    }
   ],
   "source": [
    "print(len(matrix[2]), max(matrix[2]))"
   ]
  },
  {
   "cell_type": "code",
   "execution_count": 82,
   "id": "24650514",
   "metadata": {},
   "outputs": [
    {
     "name": "stdout",
     "output_type": "stream",
     "text": [
      "[2]\n"
     ]
    }
   ],
   "source": [
    "print(matrix[0][1 : 2])"
   ]
  },
  {
   "cell_type": "code",
   "execution_count": 83,
   "id": "15d0202d",
   "metadata": {},
   "outputs": [
    {
     "name": "stdout",
     "output_type": "stream",
     "text": [
      "[1, 2, 3]\n",
      "[4, 5, 6]\n",
      "[7, 8, 9]\n"
     ]
    }
   ],
   "source": [
    "for ele in matrix :\n",
    "    print(ele)"
   ]
  },
  {
   "cell_type": "code",
   "execution_count": 84,
   "id": "428ba604",
   "metadata": {},
   "outputs": [
    {
     "name": "stdout",
     "output_type": "stream",
     "text": [
      "1\n",
      "2\n",
      "5\n",
      "4\n",
      "8\n",
      "85\n"
     ]
    }
   ],
   "source": [
    "for ele in li :\n",
    "    print(ele)"
   ]
  },
  {
   "cell_type": "code",
   "execution_count": 87,
   "id": "3bc7b8e3",
   "metadata": {},
   "outputs": [
    {
     "name": "stdout",
     "output_type": "stream",
     "text": [
      "2\n",
      "5\n",
      "8\n"
     ]
    }
   ],
   "source": [
    "for i in range(3) :\n",
    "    for j in range(3) :\n",
    "        if j == 1:\n",
    "            print(matrix[i][j])"
   ]
  },
  {
   "cell_type": "code",
   "execution_count": 88,
   "id": "5c921970",
   "metadata": {},
   "outputs": [
    {
     "name": "stdout",
     "output_type": "stream",
     "text": [
      "2\n",
      "5\n",
      "8\n"
     ]
    }
   ],
   "source": [
    "for ele in matrix :\n",
    "    print(ele[1])"
   ]
  },
  {
   "cell_type": "code",
   "execution_count": 89,
   "id": "bb6459fe",
   "metadata": {},
   "outputs": [
    {
     "name": "stdout",
     "output_type": "stream",
     "text": [
      "[[1, 2, 3], [4, 5, 6], [7, 8, 9]] [7, 8, 9]\n"
     ]
    }
   ],
   "source": [
    "print(matrix[:], matrix[:][2])"
   ]
  },
  {
   "cell_type": "code",
   "execution_count": 90,
   "id": "a3eaac62",
   "metadata": {},
   "outputs": [
    {
     "name": "stdout",
     "output_type": "stream",
     "text": [
      "[2, 3]\n",
      "[5, 6]\n",
      "[8, 9]\n",
      "2 3\n",
      "5 6\n",
      "8 9\n"
     ]
    }
   ],
   "source": [
    "for ele in matrix :\n",
    "    print(ele[1 : ])\n",
    "    \n",
    "for ele in matrix :\n",
    "    print(ele[1], ele[2])"
   ]
  },
  {
   "cell_type": "markdown",
   "id": "7d4f7693",
   "metadata": {},
   "source": [
    "### LIST METHODS : "
   ]
  },
  {
   "cell_type": "code",
   "execution_count": 100,
   "id": "db666c3e",
   "metadata": {},
   "outputs": [],
   "source": [
    "empty = []"
   ]
  },
  {
   "cell_type": "code",
   "execution_count": 101,
   "id": "c4fd495d",
   "metadata": {},
   "outputs": [
    {
     "name": "stdout",
     "output_type": "stream",
     "text": [
      "[[1, 2, 3], 5]\n"
     ]
    }
   ],
   "source": [
    "\n",
    "empty.append([1, 2, 3])\n",
    "empty.append(5)\n",
    "\n",
    "print(empty)"
   ]
  },
  {
   "cell_type": "code",
   "execution_count": 102,
   "id": "dbf7dd77",
   "metadata": {},
   "outputs": [
    {
     "name": "stdout",
     "output_type": "stream",
     "text": [
      "Enter elements to add tp list : 2\n",
      "Enter elements to add tp list : 36\n",
      "Enter elements to add tp list : 12\n",
      "Enter elements to add tp list : 36\n",
      "Enter elements to add tp list : 32\n"
     ]
    }
   ],
   "source": [
    "for i in range(5) :\n",
    "    empty.append(input(\"Enter elements to add tp list : \"))"
   ]
  },
  {
   "cell_type": "code",
   "execution_count": 103,
   "id": "05249c76",
   "metadata": {},
   "outputs": [
    {
     "name": "stdout",
     "output_type": "stream",
     "text": [
      "[[1, 2, 3], 5, '2', '36', '12', '36', '32']\n"
     ]
    }
   ],
   "source": [
    "print(empty)"
   ]
  },
  {
   "cell_type": "code",
   "execution_count": 108,
   "id": "58315ece",
   "metadata": {},
   "outputs": [
    {
     "ename": "KeyboardInterrupt",
     "evalue": "",
     "output_type": "error",
     "traceback": [
      "\u001b[1;31m---------------------------------------------------------------------------\u001b[0m",
      "\u001b[1;31mKeyboardInterrupt\u001b[0m                         Traceback (most recent call last)",
      "\u001b[1;32m<ipython-input-108-9fa8a21ebc34>\u001b[0m in \u001b[0;36m<module>\u001b[1;34m\u001b[0m\n\u001b[0;32m      1\u001b[0m \u001b[0ma\u001b[0m \u001b[1;33m=\u001b[0m \u001b[1;33m[\u001b[0m\u001b[1;34m'a'\u001b[0m\u001b[1;33m]\u001b[0m\u001b[1;33m\u001b[0m\u001b[1;33m\u001b[0m\u001b[0m\n\u001b[0;32m      2\u001b[0m \u001b[1;32mfor\u001b[0m \u001b[0mi\u001b[0m \u001b[1;32min\u001b[0m \u001b[0ma\u001b[0m \u001b[1;33m:\u001b[0m\u001b[1;33m\u001b[0m\u001b[1;33m\u001b[0m\u001b[0m\n\u001b[1;32m----> 3\u001b[1;33m     \u001b[0ma\u001b[0m\u001b[1;33m.\u001b[0m\u001b[0mappend\u001b[0m\u001b[1;33m(\u001b[0m\u001b[0mi\u001b[0m\u001b[1;33m.\u001b[0m\u001b[0mupper\u001b[0m\u001b[1;33m(\u001b[0m\u001b[1;33m)\u001b[0m\u001b[1;33m)\u001b[0m\u001b[1;33m\u001b[0m\u001b[1;33m\u001b[0m\u001b[0m\n\u001b[0m\u001b[0;32m      4\u001b[0m \u001b[1;33m\u001b[0m\u001b[0m\n\u001b[0;32m      5\u001b[0m \u001b[0mprint\u001b[0m\u001b[1;33m(\u001b[0m\u001b[0ma\u001b[0m\u001b[1;33m)\u001b[0m\u001b[1;33m\u001b[0m\u001b[1;33m\u001b[0m\u001b[0m\n",
      "\u001b[1;31mKeyboardInterrupt\u001b[0m: "
     ]
    }
   ],
   "source": [
    "a = ['a']\n",
    "for i in a :\n",
    "    a.append(i.upper())\n",
    "    \n",
    "print(a)"
   ]
  },
  {
   "cell_type": "code",
   "execution_count": 109,
   "id": "39bc018b",
   "metadata": {},
   "outputs": [
    {
     "name": "stderr",
     "output_type": "stream",
     "text": [
      "IOPub data rate exceeded.\n",
      "The notebook server will temporarily stop sending output\n",
      "to the client in order to avoid crashing it.\n",
      "To change this limit, set the config variable\n",
      "`--NotebookApp.iopub_data_rate_limit`.\n",
      "\n",
      "Current values:\n",
      "NotebookApp.iopub_data_rate_limit=1000000.0 (bytes/sec)\n",
      "NotebookApp.rate_limit_window=3.0 (secs)\n",
      "\n"
     ]
    }
   ],
   "source": [
    "print(a)"
   ]
  },
  {
   "cell_type": "code",
   "execution_count": 29,
   "id": "1f1f2219",
   "metadata": {},
   "outputs": [],
   "source": [
    "li =  [1, 2, 3, 4]\n",
    "\n",
    "empty = [5, 55, [1, 2, 3], '53', 'gr', 'fre', '343']"
   ]
  },
  {
   "cell_type": "code",
   "execution_count": 30,
   "id": "e9afdbb8",
   "metadata": {},
   "outputs": [
    {
     "name": "stdout",
     "output_type": "stream",
     "text": [
      "[5, 55, [1, 2, 3], '53', 'gr', 'fre', '343', 1, 2, 3, 4]\n"
     ]
    }
   ],
   "source": [
    "empty.extend(li)\n",
    "\n",
    "print(empty)"
   ]
  },
  {
   "cell_type": "code",
   "execution_count": 31,
   "id": "7783963c",
   "metadata": {},
   "outputs": [
    {
     "name": "stdout",
     "output_type": "stream",
     "text": [
      "[5, 55, [1, 2, 3], '53', 'gr', 'fre', '343', 1, 2, 3, 4, 1, 2, 3, 4]\n"
     ]
    }
   ],
   "source": [
    "print(empty + li)"
   ]
  },
  {
   "cell_type": "code",
   "execution_count": 32,
   "id": "07b0a218",
   "metadata": {},
   "outputs": [
    {
     "name": "stdout",
     "output_type": "stream",
     "text": [
      "[5, 55, [1, 2, 3], '53', 'gr', 'fre', '343', 1, 2, 3, 4, 1, 2, 3, 4]\n"
     ]
    }
   ],
   "source": [
    "emp2 = empty + li\n",
    "\n",
    "print(emp2)"
   ]
  },
  {
   "cell_type": "code",
   "execution_count": 33,
   "id": "f5ad66f2",
   "metadata": {},
   "outputs": [
    {
     "name": "stdout",
     "output_type": "stream",
     "text": [
      "[1, 2, 3]\n"
     ]
    }
   ],
   "source": [
    "print(emp2[2])"
   ]
  },
  {
   "cell_type": "code",
   "execution_count": 34,
   "id": "7bb34168",
   "metadata": {},
   "outputs": [
    {
     "name": "stdout",
     "output_type": "stream",
     "text": [
      "[5, 55, [1, 2, 3, 4], '53', 'gr', 'fre', '343', 1, 2, 3, 4, 1, 2, 3, 4]\n"
     ]
    }
   ],
   "source": [
    "emp2[2] = li\n",
    "\n",
    "print(emp2)"
   ]
  },
  {
   "cell_type": "code",
   "execution_count": 35,
   "id": "51e1ac11",
   "metadata": {},
   "outputs": [
    {
     "name": "stdout",
     "output_type": "stream",
     "text": [
      "[5, 55, 1, 2, 3, 4, 'gr', 'fre', '343', 1, 2, 3, 4, 1, 2, 3, 4]\n"
     ]
    }
   ],
   "source": [
    "emp2[2 : 4] = li\n",
    "\n",
    "print(emp2)"
   ]
  },
  {
   "cell_type": "code",
   "execution_count": 36,
   "id": "d8886419",
   "metadata": {},
   "outputs": [
    {
     "name": "stdout",
     "output_type": "stream",
     "text": [
      "[5, 10, 55, 1, 2, 3, 4, 'gr', 'fre', '343', 1, 2, 3, 4, 1, 2, 3, 4]\n"
     ]
    }
   ],
   "source": [
    "emp2.insert(1, 10) #element 10 is inserted at index 1.\n",
    "\n",
    "print(emp2)"
   ]
  },
  {
   "cell_type": "code",
   "execution_count": 37,
   "id": "a050c930",
   "metadata": {},
   "outputs": [
    {
     "name": "stdout",
     "output_type": "stream",
     "text": [
      "[5, 10, 55, 1, 2, 3, 4, 'gr', 'fre', '343', 1, 2, 3, 4, 1, 2, 3]\n"
     ]
    }
   ],
   "source": [
    "emp2.pop()\n",
    "\n",
    "print(emp2) #LIFO -> last in first out"
   ]
  },
  {
   "cell_type": "code",
   "execution_count": 38,
   "id": "57831d62",
   "metadata": {},
   "outputs": [
    {
     "name": "stdout",
     "output_type": "stream",
     "text": [
      "[5, 10, 1, 2, 3, 4, 'gr', 'fre', '343', 1, 2, 3, 4, 1, 2, 3]\n"
     ]
    }
   ],
   "source": [
    "emp2.pop(2)\n",
    "\n",
    "print(emp2)"
   ]
  },
  {
   "cell_type": "code",
   "execution_count": 39,
   "id": "69be9d4c",
   "metadata": {},
   "outputs": [
    {
     "name": "stdout",
     "output_type": "stream",
     "text": [
      "[5, 10, 1, 2, 3, 4, 'fre', '343', 1, 2, 3, 4, 1, 2, 3]\n"
     ]
    }
   ],
   "source": [
    "emp2.remove('gr')\n",
    "\n",
    "print(emp2)"
   ]
  },
  {
   "cell_type": "code",
   "execution_count": 40,
   "id": "d4bf14e0",
   "metadata": {},
   "outputs": [
    {
     "ename": "ValueError",
     "evalue": "list.remove(x): x not in list",
     "output_type": "error",
     "traceback": [
      "\u001b[1;31m---------------------------------------------------------------------------\u001b[0m",
      "\u001b[1;31mValueError\u001b[0m                                Traceback (most recent call last)",
      "\u001b[1;32m<ipython-input-40-fc601216e614>\u001b[0m in \u001b[0;36m<module>\u001b[1;34m\u001b[0m\n\u001b[1;32m----> 1\u001b[1;33m \u001b[0mprint\u001b[0m\u001b[1;33m(\u001b[0m\u001b[0memp2\u001b[0m\u001b[1;33m.\u001b[0m\u001b[0mremove\u001b[0m\u001b[1;33m(\u001b[0m\u001b[1;34m'gr'\u001b[0m\u001b[1;33m)\u001b[0m\u001b[1;33m)\u001b[0m\u001b[1;33m\u001b[0m\u001b[1;33m\u001b[0m\u001b[0m\n\u001b[0m",
      "\u001b[1;31mValueError\u001b[0m: list.remove(x): x not in list"
     ]
    }
   ],
   "source": [
    "print(emp2.remove('gr'))"
   ]
  },
  {
   "cell_type": "code",
   "execution_count": 41,
   "id": "591d7e06",
   "metadata": {},
   "outputs": [
    {
     "name": "stdout",
     "output_type": "stream",
     "text": [
      "3\n",
      "[5, 10, 1, 2, 3, 4, 'fre', '343', 1, 2, 3, 4, 1, 2]\n"
     ]
    }
   ],
   "source": [
    "print(emp2.pop())\n",
    "\n",
    "print(emp2)"
   ]
  },
  {
   "cell_type": "code",
   "execution_count": 42,
   "id": "952c290b",
   "metadata": {},
   "outputs": [
    {
     "name": "stdout",
     "output_type": "stream",
     "text": [
      "[5, 10, 1, 2, 3, 4, 'fre', '343', 1, 2, 3, 4, 1, 2] [5, 10, 1, 2, 3, 4, 'fre', '343', 1, 2, 3, 4, 1, 2]\n"
     ]
    }
   ],
   "source": [
    "emp3 = emp2\n",
    "\n",
    "print(emp3, emp2)"
   ]
  },
  {
   "cell_type": "code",
   "execution_count": 44,
   "id": "ddf57948",
   "metadata": {},
   "outputs": [
    {
     "name": "stdout",
     "output_type": "stream",
     "text": [
      "1369390175680 1369390175680\n"
     ]
    }
   ],
   "source": [
    "print(id(emp2), id(emp3))"
   ]
  },
  {
   "cell_type": "code",
   "execution_count": 45,
   "id": "f5aa7203",
   "metadata": {},
   "outputs": [
    {
     "name": "stdout",
     "output_type": "stream",
     "text": [
      "2\n",
      "[5, 10, 1, 2, 3, 4, 'fre', '343', 1, 2, 3, 4, 1] [5, 10, 1, 2, 3, 4, 'fre', '343', 1, 2, 3, 4, 1]\n"
     ]
    }
   ],
   "source": [
    "print(emp3.pop())\n",
    "\n",
    "print(emp2, emp3)"
   ]
  },
  {
   "cell_type": "code",
   "execution_count": 46,
   "id": "d17314b4",
   "metadata": {},
   "outputs": [
    {
     "name": "stdout",
     "output_type": "stream",
     "text": [
      "1369390175680 1369389777088\n",
      "[5, 10, 1, 2, 3, 4, 'fre', '343', 1, 2, 3, 4, 1] [5, 10, 1, 2, 3, 4, 'fre', '343', 1, 2, 3, 4, 1]\n"
     ]
    }
   ],
   "source": [
    "emp3 = emp2.copy()\n",
    "\n",
    "print(id(emp2), id(emp3))\n",
    "print(emp2, emp3)"
   ]
  },
  {
   "cell_type": "code",
   "execution_count": 47,
   "id": "237875a5",
   "metadata": {},
   "outputs": [
    {
     "name": "stdout",
     "output_type": "stream",
     "text": [
      "1\n",
      "[5, 10, 1, 2, 3, 4, 'fre', '343', 1, 2, 3, 4, 1] [5, 10, 1, 2, 3, 4, 'fre', '343', 1, 2, 3, 4]\n"
     ]
    }
   ],
   "source": [
    "print(emp3.pop())\n",
    "\n",
    "print(emp2, emp3)"
   ]
  },
  {
   "cell_type": "code",
   "execution_count": 48,
   "id": "55bc007f",
   "metadata": {},
   "outputs": [
    {
     "name": "stdout",
     "output_type": "stream",
     "text": [
      "3\n"
     ]
    }
   ],
   "source": [
    "print(emp2.count(1))"
   ]
  },
  {
   "cell_type": "code",
   "execution_count": 49,
   "id": "2e74f1ec",
   "metadata": {},
   "outputs": [
    {
     "name": "stdout",
     "output_type": "stream",
     "text": [
      "6\n"
     ]
    }
   ],
   "source": [
    "print(emp2.index('fre'))"
   ]
  },
  {
   "cell_type": "code",
   "execution_count": 50,
   "id": "2261af46",
   "metadata": {},
   "outputs": [
    {
     "name": "stdout",
     "output_type": "stream",
     "text": [
      "[1, 4, 3, 2, 1, '343', 'fre', 4, 3, 2, 1, 10, 5]\n"
     ]
    }
   ],
   "source": [
    "emp2.reverse()\n",
    "\n",
    "print(emp2)"
   ]
  },
  {
   "cell_type": "code",
   "execution_count": 51,
   "id": "64708469",
   "metadata": {},
   "outputs": [
    {
     "ename": "TypeError",
     "evalue": "'<' not supported between instances of 'str' and 'int'",
     "output_type": "error",
     "traceback": [
      "\u001b[1;31m---------------------------------------------------------------------------\u001b[0m",
      "\u001b[1;31mTypeError\u001b[0m                                 Traceback (most recent call last)",
      "\u001b[1;32m<ipython-input-51-23685cdcbf21>\u001b[0m in \u001b[0;36m<module>\u001b[1;34m\u001b[0m\n\u001b[1;32m----> 1\u001b[1;33m \u001b[0memp3\u001b[0m\u001b[1;33m.\u001b[0m\u001b[0msort\u001b[0m\u001b[1;33m(\u001b[0m\u001b[1;33m)\u001b[0m\u001b[1;33m\u001b[0m\u001b[1;33m\u001b[0m\u001b[0m\n\u001b[0m\u001b[0;32m      2\u001b[0m \u001b[1;33m\u001b[0m\u001b[0m\n\u001b[0;32m      3\u001b[0m \u001b[0mprint\u001b[0m\u001b[1;33m(\u001b[0m\u001b[0memp3\u001b[0m\u001b[1;33m)\u001b[0m\u001b[1;33m\u001b[0m\u001b[1;33m\u001b[0m\u001b[0m\n",
      "\u001b[1;31mTypeError\u001b[0m: '<' not supported between instances of 'str' and 'int'"
     ]
    }
   ],
   "source": [
    "emp3.sort()\n",
    "\n",
    "print(emp3)"
   ]
  },
  {
   "cell_type": "code",
   "execution_count": 52,
   "id": "a6d008df",
   "metadata": {},
   "outputs": [
    {
     "name": "stdout",
     "output_type": "stream",
     "text": [
      "[1, 3, 4, 5, 6, 22, 45, 54, 90]\n"
     ]
    }
   ],
   "source": [
    "li3 = [5, 3, 6, 22, 54, 1, 4, 90, 45]\n",
    "\n",
    "li3.sort()\n",
    "\n",
    "print(li3)"
   ]
  },
  {
   "cell_type": "code",
   "execution_count": 55,
   "id": "427843dd",
   "metadata": {},
   "outputs": [
    {
     "name": "stdout",
     "output_type": "stream",
     "text": [
      "[90, 54, 45, 22, 6, 5, 4, 3, 1]\n"
     ]
    }
   ],
   "source": [
    "li3 = [5, 3, 6, 22, 54, 1, 4, 90, 45]\n",
    "\n",
    "li3.sort(reverse=True)\n",
    "\n",
    "print(li3)"
   ]
  },
  {
   "cell_type": "code",
   "execution_count": 57,
   "id": "4808e935",
   "metadata": {},
   "outputs": [
    {
     "name": "stdout",
     "output_type": "stream",
     "text": [
      "[[1, 20, 3], [6, 75, 8], [7, 5, 6]]\n"
     ]
    }
   ],
   "source": [
    "matrix = [[1, 20, 3], [7, 5, 6], [6, 75, 8]]\n",
    "matrix.sort()\n",
    "\n",
    "print(matrix)"
   ]
  },
  {
   "cell_type": "code",
   "execution_count": 58,
   "id": "3a348f15",
   "metadata": {},
   "outputs": [
    {
     "name": "stdout",
     "output_type": "stream",
     "text": [
      "[[7, 5, 6], [1, 20, 3], [6, 75, 8]]\n"
     ]
    }
   ],
   "source": [
    "matrix = [[1, 20, 3], [7, 5, 6], [6, 75, 8]]\n",
    "matrix.sort(key = lambda x : x[1])\n",
    "\n",
    "print(matrix)"
   ]
  },
  {
   "cell_type": "code",
   "execution_count": 59,
   "id": "1327c7d1",
   "metadata": {},
   "outputs": [
    {
     "name": "stdout",
     "output_type": "stream",
     "text": [
      "[[1, 20, 3], [6, 75, 8], [7, 5, 6]]\n",
      "[[7, 5, 6], [1, 20, 3], [6, 75, 8]]\n"
     ]
    }
   ],
   "source": [
    "print(sorted(matrix))\n",
    "\n",
    "print(matrix)"
   ]
  },
  {
   "cell_type": "code",
   "execution_count": 61,
   "id": "caee28cb",
   "metadata": {},
   "outputs": [
    {
     "name": "stdout",
     "output_type": "stream",
     "text": [
      "[[6, 75, 8], [1, 20, 3], [7, 5, 6]]\n"
     ]
    }
   ],
   "source": [
    "print(list(reversed(matrix)))"
   ]
  },
  {
   "cell_type": "code",
   "execution_count": 62,
   "id": "e1c3ccb1",
   "metadata": {},
   "outputs": [
    {
     "name": "stdout",
     "output_type": "stream",
     "text": [
      "[]\n"
     ]
    }
   ],
   "source": [
    "emp3.clear()\n",
    "\n",
    "print(emp3)"
   ]
  },
  {
   "cell_type": "code",
   "execution_count": 63,
   "id": "be8b25de",
   "metadata": {},
   "outputs": [
    {
     "ename": "NameError",
     "evalue": "name 'emp3' is not defined",
     "output_type": "error",
     "traceback": [
      "\u001b[1;31m---------------------------------------------------------------------------\u001b[0m",
      "\u001b[1;31mNameError\u001b[0m                                 Traceback (most recent call last)",
      "\u001b[1;32m<ipython-input-63-70167493e5a1>\u001b[0m in \u001b[0;36m<module>\u001b[1;34m\u001b[0m\n\u001b[0;32m      1\u001b[0m \u001b[1;32mdel\u001b[0m \u001b[0memp3\u001b[0m\u001b[1;33m\u001b[0m\u001b[1;33m\u001b[0m\u001b[0m\n\u001b[0;32m      2\u001b[0m \u001b[1;33m\u001b[0m\u001b[0m\n\u001b[1;32m----> 3\u001b[1;33m \u001b[0mprint\u001b[0m\u001b[1;33m(\u001b[0m\u001b[0memp3\u001b[0m\u001b[1;33m)\u001b[0m\u001b[1;33m\u001b[0m\u001b[1;33m\u001b[0m\u001b[0m\n\u001b[0m",
      "\u001b[1;31mNameError\u001b[0m: name 'emp3' is not defined"
     ]
    }
   ],
   "source": [
    "del emp3\n",
    "\n",
    "print(emp3)"
   ]
  },
  {
   "cell_type": "markdown",
   "id": "d9621cc7",
   "metadata": {},
   "source": [
    "### TUPLES :\n",
    "\n",
    "Sorting the Group of non - homogenous group of the data.\n",
    "- It is created using '()'.\n",
    "- It is immutable.\n",
    "- It is iterable.\n",
    "- It is ordered."
   ]
  },
  {
   "cell_type": "code",
   "execution_count": 64,
   "id": "344b6e70",
   "metadata": {},
   "outputs": [],
   "source": [
    "t1 = ()\n",
    "t2 = tuple()"
   ]
  },
  {
   "cell_type": "code",
   "execution_count": 65,
   "id": "56b3961e",
   "metadata": {},
   "outputs": [],
   "source": [
    "t1 = (1, 2, 3, 'Python', (1, 2, 3), [1, 2, 3])"
   ]
  },
  {
   "cell_type": "code",
   "execution_count": 66,
   "id": "6c917acb",
   "metadata": {},
   "outputs": [
    {
     "name": "stdout",
     "output_type": "stream",
     "text": [
      "1 (1, 2, 3) 3\n"
     ]
    }
   ],
   "source": [
    "print(t1[0], t1[-2], t1[2])"
   ]
  },
  {
   "cell_type": "code",
   "execution_count": 67,
   "id": "5dcd89d9",
   "metadata": {},
   "outputs": [
    {
     "name": "stdout",
     "output_type": "stream",
     "text": [
      "(1, 2)\n"
     ]
    }
   ],
   "source": [
    "print(t1[0 : 2])"
   ]
  },
  {
   "cell_type": "code",
   "execution_count": 68,
   "id": "edf0398c",
   "metadata": {},
   "outputs": [
    {
     "ename": "TypeError",
     "evalue": "'tuple' object does not support item assignment",
     "output_type": "error",
     "traceback": [
      "\u001b[1;31m---------------------------------------------------------------------------\u001b[0m",
      "\u001b[1;31mTypeError\u001b[0m                                 Traceback (most recent call last)",
      "\u001b[1;32m<ipython-input-68-f8552766aa0a>\u001b[0m in \u001b[0;36m<module>\u001b[1;34m\u001b[0m\n\u001b[1;32m----> 1\u001b[1;33m \u001b[0mt1\u001b[0m\u001b[1;33m[\u001b[0m\u001b[1;36m0\u001b[0m\u001b[1;33m]\u001b[0m \u001b[1;33m=\u001b[0m \u001b[1;36m55\u001b[0m\u001b[1;33m\u001b[0m\u001b[1;33m\u001b[0m\u001b[0m\n\u001b[0m",
      "\u001b[1;31mTypeError\u001b[0m: 'tuple' object does not support item assignment"
     ]
    }
   ],
   "source": [
    "t1[0] = 55"
   ]
  },
  {
   "cell_type": "code",
   "execution_count": 69,
   "id": "ec09160a",
   "metadata": {},
   "outputs": [
    {
     "name": "stdout",
     "output_type": "stream",
     "text": [
      "1\n",
      "2\n",
      "3\n",
      "Python\n",
      "(1, 2, 3)\n",
      "[1, 2, 3]\n"
     ]
    }
   ],
   "source": [
    "for ele in t1 :\n",
    "    print(ele)"
   ]
  },
  {
   "cell_type": "code",
   "execution_count": 70,
   "id": "a21de9e1",
   "metadata": {},
   "outputs": [
    {
     "name": "stdout",
     "output_type": "stream",
     "text": [
      "6\n"
     ]
    }
   ],
   "source": [
    "print(len(t1))"
   ]
  },
  {
   "cell_type": "markdown",
   "id": "5a435117",
   "metadata": {},
   "source": [
    "### TUPLE METHODS : "
   ]
  },
  {
   "cell_type": "code",
   "execution_count": 71,
   "id": "a7c0d17b",
   "metadata": {},
   "outputs": [
    {
     "name": "stdout",
     "output_type": "stream",
     "text": [
      "1\n"
     ]
    }
   ],
   "source": [
    "print(t1.count(1))"
   ]
  },
  {
   "cell_type": "code",
   "execution_count": 72,
   "id": "0112a095",
   "metadata": {},
   "outputs": [
    {
     "name": "stdout",
     "output_type": "stream",
     "text": [
      "3\n"
     ]
    }
   ],
   "source": [
    "print(t1.index('Python'))"
   ]
  },
  {
   "cell_type": "markdown",
   "id": "04b201d3",
   "metadata": {},
   "source": [
    "### TASKS :"
   ]
  },
  {
   "cell_type": "code",
   "execution_count": 74,
   "id": "fb5967c9",
   "metadata": {},
   "outputs": [],
   "source": [
    "s = \"\"\"Python is an interpreted high-level general-purpose programming language. Python's design philosophy emphasizes code readability with its notable use of significant indentation. Its language constructs as well as its object-oriented approach aim to help programmers write clear, logical code for small and large-scale projects.[30]\n",
    "\n",
    "Python is dynamically-typed and garbage-collected. It supports multiple programming paradigms, including structured (particularly, procedural), object-oriented and functional programming. Python is often described as a \"batteries included\" language due to its comprehensive standard library.[31]\n",
    "\n",
    "Guido van Rossum began working on Python in the late 1980s, as a successor to the ABC programming language, and first released it in 1991 as Python 0.9.0.[32] Python 2.0 was released in 2000 and introduced new features, such as list comprehensions and a garbage collection system using reference counting. Python 3.0 was released in 2008 and was a major revision of the language that is not completely backward-compatible and much Python 2 code does not run unmodified on Python 3. Python 2 was discontinued with version 2.7.18 in 2020.\"\"\"\n"
   ]
  },
  {
   "cell_type": "code",
   "execution_count": 75,
   "id": "58d4ddfb",
   "metadata": {},
   "outputs": [
    {
     "name": "stdout",
     "output_type": "stream",
     "text": [
      "['Python', 'is', 'an', 'interpreted', 'high-level', 'general-purpose', 'programming', 'language.', \"Python's\", 'design', 'philosophy', 'emphasizes', 'code', 'readability', 'with', 'its', 'notable', 'use', 'of', 'significant', 'indentation.', 'Its', 'language', 'constructs', 'as', 'well', 'as', 'its', 'object-oriented', 'approach', 'aim', 'to', 'help', 'programmers', 'write', 'clear,', 'logical', 'code', 'for', 'small', 'and', 'large-scale', 'projects.[30]', 'Python', 'is', 'dynamically-typed', 'and', 'garbage-collected.', 'It', 'supports', 'multiple', 'programming', 'paradigms,', 'including', 'structured', '(particularly,', 'procedural),', 'object-oriented', 'and', 'functional', 'programming.', 'Python', 'is', 'often', 'described', 'as', 'a', '\"batteries', 'included\"', 'language', 'due', 'to', 'its', 'comprehensive', 'standard', 'library.[31]', 'Guido', 'van', 'Rossum', 'began', 'working', 'on', 'Python', 'in', 'the', 'late', '1980s,', 'as', 'a', 'successor', 'to', 'the', 'ABC', 'programming', 'language,', 'and', 'first', 'released', 'it', 'in', '1991', 'as', 'Python', '0.9.0.[32]', 'Python', '2.0', 'was', 'released', 'in', '2000', 'and', 'introduced', 'new', 'features,', 'such', 'as', 'list', 'comprehensions', 'and', 'a', 'garbage', 'collection', 'system', 'using', 'reference', 'counting.', 'Python', '3.0', 'was', 'released', 'in', '2008', 'and', 'was', 'a', 'major', 'revision', 'of', 'the', 'language', 'that', 'is', 'not', 'completely', 'backward-compatible', 'and', 'much', 'Python', '2', 'code', 'does', 'not', 'run', 'unmodified', 'on', 'Python', '3.', 'Python', '2', 'was', 'discontinued', 'with', 'version', '2.7.18', 'in', '2020.']\n"
     ]
    }
   ],
   "source": [
    "print(s.split())"
   ]
  },
  {
   "cell_type": "code",
   "execution_count": 76,
   "id": "50c51a0b",
   "metadata": {},
   "outputs": [
    {
     "name": "stdout",
     "output_type": "stream",
     "text": [
      "yo\n",
      "yyyyy\n"
     ]
    }
   ],
   "source": [
    "print('y' + 'o')\n",
    "\n",
    "print('y' * 5)"
   ]
  },
  {
   "cell_type": "markdown",
   "id": "4ee99a06",
   "metadata": {},
   "source": [
    "### WORK :\n",
    "\n",
    "- Reverse every element in list and update them in another list.\n",
    "- Extract lolwer-case alphabets from ech elements and update in anoter list.\n",
    "- Remove special characters from the element and update in another list.\n",
    "- Get the middle character of every element and update in another list.\n",
    "- "
   ]
  },
  {
   "cell_type": "code",
   "execution_count": null,
   "id": "e4298cc6",
   "metadata": {},
   "outputs": [],
   "source": []
  }
 ],
 "metadata": {
  "kernelspec": {
   "display_name": "Python 3",
   "language": "python",
   "name": "python3"
  },
  "language_info": {
   "codemirror_mode": {
    "name": "ipython",
    "version": 3
   },
   "file_extension": ".py",
   "mimetype": "text/x-python",
   "name": "python",
   "nbconvert_exporter": "python",
   "pygments_lexer": "ipython3",
   "version": "3.8.8"
  }
 },
 "nbformat": 4,
 "nbformat_minor": 5
}
