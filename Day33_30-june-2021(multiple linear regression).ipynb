{
 "cells": [
  {
   "cell_type": "markdown",
   "id": "5ca65118",
   "metadata": {},
   "source": [
    "## Multiple Linear Regression:\n",
    "\n",
    "- one dependent variable and multiple independent variables.\n",
    "- y = b0 + b1x1 + b2x2 ....... + nnxn\n",
    "- price of the house"
   ]
  },
  {
   "cell_type": "markdown",
   "id": "a6c46d92",
   "metadata": {},
   "source": [
    "## Process using sklearn :\n",
    "\n",
    "- Read the data\n",
    "- Cleaning/ analyzing\n",
    "- Seperate the features and target\n",
    "- Train/ test the data\n",
    "- Select the required model\n",
    "- fit our training data\n",
    "- predict "
   ]
  },
  {
   "cell_type": "code",
   "execution_count": 1,
   "id": "edc8c76b",
   "metadata": {},
   "outputs": [],
   "source": [
    "# Reading the data\n",
    "import pandas as pd\n",
    "\n",
    "data = pd.read_csv(\"FuelConsumptionCo2.csv\")"
   ]
  },
  {
   "cell_type": "code",
   "execution_count": 2,
   "id": "458c277c",
   "metadata": {},
   "outputs": [
    {
     "data": {
      "text/html": [
       "<div>\n",
       "<style scoped>\n",
       "    .dataframe tbody tr th:only-of-type {\n",
       "        vertical-align: middle;\n",
       "    }\n",
       "\n",
       "    .dataframe tbody tr th {\n",
       "        vertical-align: top;\n",
       "    }\n",
       "\n",
       "    .dataframe thead th {\n",
       "        text-align: right;\n",
       "    }\n",
       "</style>\n",
       "<table border=\"1\" class=\"dataframe\">\n",
       "  <thead>\n",
       "    <tr style=\"text-align: right;\">\n",
       "      <th></th>\n",
       "      <th>MODELYEAR</th>\n",
       "      <th>MAKE</th>\n",
       "      <th>MODEL</th>\n",
       "      <th>VEHICLECLASS</th>\n",
       "      <th>ENGINESIZE</th>\n",
       "      <th>CYLINDERS</th>\n",
       "      <th>TRANSMISSION</th>\n",
       "      <th>FUELTYPE</th>\n",
       "      <th>FUELCONSUMPTION_CITY</th>\n",
       "      <th>FUELCONSUMPTION_HWY</th>\n",
       "      <th>FUELCONSUMPTION_COMB</th>\n",
       "      <th>FUELCONSUMPTION_COMB_MPG</th>\n",
       "      <th>CO2EMISSIONS</th>\n",
       "    </tr>\n",
       "  </thead>\n",
       "  <tbody>\n",
       "    <tr>\n",
       "      <th>0</th>\n",
       "      <td>2014</td>\n",
       "      <td>ACURA</td>\n",
       "      <td>ILX</td>\n",
       "      <td>COMPACT</td>\n",
       "      <td>2.0</td>\n",
       "      <td>4</td>\n",
       "      <td>AS5</td>\n",
       "      <td>Z</td>\n",
       "      <td>9.9</td>\n",
       "      <td>6.7</td>\n",
       "      <td>8.5</td>\n",
       "      <td>33</td>\n",
       "      <td>196</td>\n",
       "    </tr>\n",
       "    <tr>\n",
       "      <th>1</th>\n",
       "      <td>2014</td>\n",
       "      <td>ACURA</td>\n",
       "      <td>ILX</td>\n",
       "      <td>COMPACT</td>\n",
       "      <td>2.4</td>\n",
       "      <td>4</td>\n",
       "      <td>M6</td>\n",
       "      <td>Z</td>\n",
       "      <td>11.2</td>\n",
       "      <td>7.7</td>\n",
       "      <td>9.6</td>\n",
       "      <td>29</td>\n",
       "      <td>221</td>\n",
       "    </tr>\n",
       "    <tr>\n",
       "      <th>2</th>\n",
       "      <td>2014</td>\n",
       "      <td>ACURA</td>\n",
       "      <td>ILX HYBRID</td>\n",
       "      <td>COMPACT</td>\n",
       "      <td>1.5</td>\n",
       "      <td>4</td>\n",
       "      <td>AV7</td>\n",
       "      <td>Z</td>\n",
       "      <td>6.0</td>\n",
       "      <td>5.8</td>\n",
       "      <td>5.9</td>\n",
       "      <td>48</td>\n",
       "      <td>136</td>\n",
       "    </tr>\n",
       "    <tr>\n",
       "      <th>3</th>\n",
       "      <td>2014</td>\n",
       "      <td>ACURA</td>\n",
       "      <td>MDX 4WD</td>\n",
       "      <td>SUV - SMALL</td>\n",
       "      <td>3.5</td>\n",
       "      <td>6</td>\n",
       "      <td>AS6</td>\n",
       "      <td>Z</td>\n",
       "      <td>12.7</td>\n",
       "      <td>9.1</td>\n",
       "      <td>11.1</td>\n",
       "      <td>25</td>\n",
       "      <td>255</td>\n",
       "    </tr>\n",
       "    <tr>\n",
       "      <th>4</th>\n",
       "      <td>2014</td>\n",
       "      <td>ACURA</td>\n",
       "      <td>RDX AWD</td>\n",
       "      <td>SUV - SMALL</td>\n",
       "      <td>3.5</td>\n",
       "      <td>6</td>\n",
       "      <td>AS6</td>\n",
       "      <td>Z</td>\n",
       "      <td>12.1</td>\n",
       "      <td>8.7</td>\n",
       "      <td>10.6</td>\n",
       "      <td>27</td>\n",
       "      <td>244</td>\n",
       "    </tr>\n",
       "  </tbody>\n",
       "</table>\n",
       "</div>"
      ],
      "text/plain": [
       "   MODELYEAR   MAKE       MODEL VEHICLECLASS  ENGINESIZE  CYLINDERS  \\\n",
       "0       2014  ACURA         ILX      COMPACT         2.0          4   \n",
       "1       2014  ACURA         ILX      COMPACT         2.4          4   \n",
       "2       2014  ACURA  ILX HYBRID      COMPACT         1.5          4   \n",
       "3       2014  ACURA     MDX 4WD  SUV - SMALL         3.5          6   \n",
       "4       2014  ACURA     RDX AWD  SUV - SMALL         3.5          6   \n",
       "\n",
       "  TRANSMISSION FUELTYPE  FUELCONSUMPTION_CITY  FUELCONSUMPTION_HWY  \\\n",
       "0          AS5        Z                   9.9                  6.7   \n",
       "1           M6        Z                  11.2                  7.7   \n",
       "2          AV7        Z                   6.0                  5.8   \n",
       "3          AS6        Z                  12.7                  9.1   \n",
       "4          AS6        Z                  12.1                  8.7   \n",
       "\n",
       "   FUELCONSUMPTION_COMB  FUELCONSUMPTION_COMB_MPG  CO2EMISSIONS  \n",
       "0                   8.5                        33           196  \n",
       "1                   9.6                        29           221  \n",
       "2                   5.9                        48           136  \n",
       "3                  11.1                        25           255  \n",
       "4                  10.6                        27           244  "
      ]
     },
     "execution_count": 2,
     "metadata": {},
     "output_type": "execute_result"
    }
   ],
   "source": [
    "data.head()"
   ]
  },
  {
   "cell_type": "code",
   "execution_count": 3,
   "id": "a24865f2",
   "metadata": {},
   "outputs": [
    {
     "data": {
      "text/plain": [
       "(1067, 13)"
      ]
     },
     "execution_count": 3,
     "metadata": {},
     "output_type": "execute_result"
    }
   ],
   "source": [
    "data.shape"
   ]
  },
  {
   "cell_type": "code",
   "execution_count": 4,
   "id": "bce25e14",
   "metadata": {},
   "outputs": [
    {
     "data": {
      "text/plain": [
       "MODELYEAR                   0\n",
       "MAKE                        0\n",
       "MODEL                       0\n",
       "VEHICLECLASS                0\n",
       "ENGINESIZE                  0\n",
       "CYLINDERS                   0\n",
       "TRANSMISSION                0\n",
       "FUELTYPE                    0\n",
       "FUELCONSUMPTION_CITY        0\n",
       "FUELCONSUMPTION_HWY         0\n",
       "FUELCONSUMPTION_COMB        0\n",
       "FUELCONSUMPTION_COMB_MPG    0\n",
       "CO2EMISSIONS                0\n",
       "dtype: int64"
      ]
     },
     "execution_count": 4,
     "metadata": {},
     "output_type": "execute_result"
    }
   ],
   "source": [
    "data.isnull().sum()"
   ]
  },
  {
   "cell_type": "code",
   "execution_count": 5,
   "id": "fdfe069c",
   "metadata": {},
   "outputs": [
    {
     "data": {
      "text/plain": [
       "2014    1067\n",
       "Name: MODELYEAR, dtype: int64"
      ]
     },
     "execution_count": 5,
     "metadata": {},
     "output_type": "execute_result"
    }
   ],
   "source": [
    "data['MODELYEAR'].value_counts()"
   ]
  },
  {
   "cell_type": "code",
   "execution_count": 6,
   "id": "4e9e3490",
   "metadata": {},
   "outputs": [],
   "source": [
    "x = data[['FUELCONSUMPTION_CITY', 'FUELCONSUMPTION_HWY','FUELCONSUMPTION_COMB']]\n",
    "y = data['CO2EMISSIONS']\n"
   ]
  },
  {
   "cell_type": "code",
   "execution_count": 7,
   "id": "2aaaebd9",
   "metadata": {},
   "outputs": [
    {
     "data": {
      "text/html": [
       "<div>\n",
       "<style scoped>\n",
       "    .dataframe tbody tr th:only-of-type {\n",
       "        vertical-align: middle;\n",
       "    }\n",
       "\n",
       "    .dataframe tbody tr th {\n",
       "        vertical-align: top;\n",
       "    }\n",
       "\n",
       "    .dataframe thead th {\n",
       "        text-align: right;\n",
       "    }\n",
       "</style>\n",
       "<table border=\"1\" class=\"dataframe\">\n",
       "  <thead>\n",
       "    <tr style=\"text-align: right;\">\n",
       "      <th></th>\n",
       "      <th>FUELCONSUMPTION_CITY</th>\n",
       "      <th>FUELCONSUMPTION_HWY</th>\n",
       "      <th>FUELCONSUMPTION_COMB</th>\n",
       "    </tr>\n",
       "  </thead>\n",
       "  <tbody>\n",
       "    <tr>\n",
       "      <th>554</th>\n",
       "      <td>15.7</td>\n",
       "      <td>10.3</td>\n",
       "      <td>13.3</td>\n",
       "    </tr>\n",
       "    <tr>\n",
       "      <th>1053</th>\n",
       "      <td>11.7</td>\n",
       "      <td>9.4</td>\n",
       "      <td>10.7</td>\n",
       "    </tr>\n",
       "    <tr>\n",
       "      <th>675</th>\n",
       "      <td>12.7</td>\n",
       "      <td>9.1</td>\n",
       "      <td>11.1</td>\n",
       "    </tr>\n",
       "    <tr>\n",
       "      <th>536</th>\n",
       "      <td>14.5</td>\n",
       "      <td>9.5</td>\n",
       "      <td>12.3</td>\n",
       "    </tr>\n",
       "    <tr>\n",
       "      <th>264</th>\n",
       "      <td>21.5</td>\n",
       "      <td>14.6</td>\n",
       "      <td>18.4</td>\n",
       "    </tr>\n",
       "    <tr>\n",
       "      <th>...</th>\n",
       "      <td>...</td>\n",
       "      <td>...</td>\n",
       "      <td>...</td>\n",
       "    </tr>\n",
       "    <tr>\n",
       "      <th>1040</th>\n",
       "      <td>7.9</td>\n",
       "      <td>5.7</td>\n",
       "      <td>6.9</td>\n",
       "    </tr>\n",
       "    <tr>\n",
       "      <th>892</th>\n",
       "      <td>12.2</td>\n",
       "      <td>8.1</td>\n",
       "      <td>10.4</td>\n",
       "    </tr>\n",
       "    <tr>\n",
       "      <th>434</th>\n",
       "      <td>17.1</td>\n",
       "      <td>12.7</td>\n",
       "      <td>15.1</td>\n",
       "    </tr>\n",
       "    <tr>\n",
       "      <th>925</th>\n",
       "      <td>20.7</td>\n",
       "      <td>12.8</td>\n",
       "      <td>17.1</td>\n",
       "    </tr>\n",
       "    <tr>\n",
       "      <th>771</th>\n",
       "      <td>14.8</td>\n",
       "      <td>10.2</td>\n",
       "      <td>12.7</td>\n",
       "    </tr>\n",
       "  </tbody>\n",
       "</table>\n",
       "<p>746 rows × 3 columns</p>\n",
       "</div>"
      ],
      "text/plain": [
       "      FUELCONSUMPTION_CITY  FUELCONSUMPTION_HWY  FUELCONSUMPTION_COMB\n",
       "554                   15.7                 10.3                  13.3\n",
       "1053                  11.7                  9.4                  10.7\n",
       "675                   12.7                  9.1                  11.1\n",
       "536                   14.5                  9.5                  12.3\n",
       "264                   21.5                 14.6                  18.4\n",
       "...                    ...                  ...                   ...\n",
       "1040                   7.9                  5.7                   6.9\n",
       "892                   12.2                  8.1                  10.4\n",
       "434                   17.1                 12.7                  15.1\n",
       "925                   20.7                 12.8                  17.1\n",
       "771                   14.8                 10.2                  12.7\n",
       "\n",
       "[746 rows x 3 columns]"
      ]
     },
     "execution_count": 7,
     "metadata": {},
     "output_type": "execute_result"
    }
   ],
   "source": [
    "from sklearn.model_selection import train_test_split\n",
    "x_train, x_test, y_train, y_test = train_test_split(x, y, test_size = 0.3)\n",
    "x_train"
   ]
  },
  {
   "cell_type": "code",
   "execution_count": 8,
   "id": "ef738c47",
   "metadata": {},
   "outputs": [
    {
     "data": {
      "text/plain": [
       "(321, 3)"
      ]
     },
     "execution_count": 8,
     "metadata": {},
     "output_type": "execute_result"
    }
   ],
   "source": [
    "x_test.shape"
   ]
  },
  {
   "cell_type": "code",
   "execution_count": 9,
   "id": "6f85b9d9",
   "metadata": {},
   "outputs": [
    {
     "data": {
      "text/plain": [
       "LinearRegression()"
      ]
     },
     "execution_count": 9,
     "metadata": {},
     "output_type": "execute_result"
    }
   ],
   "source": [
    "from sklearn.linear_model import LinearRegression\n",
    "\n",
    "model = LinearRegression()\n",
    "model.fit(x_train, y_train)"
   ]
  },
  {
   "cell_type": "code",
   "execution_count": 10,
   "id": "bbd8859a",
   "metadata": {
    "scrolled": true
   },
   "outputs": [
    {
     "data": {
      "text/plain": [
       "array([332.73033081, 243.00421946, 321.49422854, 135.97669133,\n",
       "       213.04052928, 296.64698291, 201.30675904, 297.86162126,\n",
       "       257.36068477, 189.47239479, 369.37581947, 245.47996214,\n",
       "       204.80372167, 234.47339946, 338.91446132, 211.03421057,\n",
       "       289.18374127, 244.07190541, 248.95881037, 222.91493321,\n",
       "       238.63309686, 221.10203289, 400.63673519, 366.13674802,\n",
       "       240.44599718, 296.64698291, 209.96652462, 191.22082231,\n",
       "       438.5149766 , 256.22863363, 367.28691357, 270.86099694,\n",
       "       188.61624164, 334.20286034, 252.00446343, 195.86795049,\n",
       "       276.23533268, 261.34507819, 307.94755798, 251.38808706,\n",
       "       312.02466819, 220.29223813, 247.22838966, 280.99329205,\n",
       "       232.44896636, 419.64032869, 307.86497078, 181.15299999,\n",
       "       219.03124139, 209.36826265, 235.798869  , 286.49657339,\n",
       "       281.60966843, 286.49657339, 296.64698291, 388.81260814,\n",
       "       283.76304713, 261.39143658, 222.44561683, 217.68765746,\n",
       "       223.0619932 , 184.71443542, 256.01710084, 232.44896636,\n",
       "       263.46222808, 294.44724582, 255.41883887, 190.49361475,\n",
       "       249.98003033, 267.5110943 , 315.19926684, 214.8070712 ,\n",
       "       336.59601582, 230.70053884, 359.48330113, 256.7624228 ,\n",
       "       311.36193342, 164.23831239, 265.42218839, 209.54356664,\n",
       "       229.69732569, 245.22207095, 202.052081  , 280.99329205,\n",
       "       240.63941557, 213.33454167, 268.79020544, 345.80768499,\n",
       "       237.09609454, 234.60234505, 421.6647618 , 293.02107469,\n",
       "       206.2581368 , 194.84673054, 210.75820498, 180.55473802,\n",
       "       329.08641578, 218.9667686 , 357.81735321, 193.37420101,\n",
       "       262.39464974, 203.31307774, 270.32720776, 184.43842983,\n",
       "       248.3785552 , 207.55536234, 271.79973729, 245.39737494,\n",
       "       271.79973729, 395.39134504, 206.06471841, 267.5110943 ,\n",
       "       347.57422691, 209.96652462, 417.79119957, 278.98697335,\n",
       "       243.92484541, 269.11256942, 258.9158015 , 288.39206091,\n",
       "       235.00718864, 201.9694938 , 307.58907279, 218.8841814 ,\n",
       "       250.10897592, 281.01140646, 229.82627128, 369.37581947,\n",
       "       190.88045153, 265.42218839, 195.86795049, 210.84079218,\n",
       "       245.82033292, 349.7558496 , 186.65628133, 230.44264765,\n",
       "       324.4754088 , 205.65987483, 260.79317461, 208.2825699 ,\n",
       "       199.28232593, 231.85070439, 229.84438568, 232.44896636,\n",
       "       254.6735169 , 293.83086945, 182.62552952, 201.30675904,\n",
       "       303.42937539, 235.00718864, 320.10428621, 243.86037261,\n",
       "       168.86732617, 333.29247157, 187.93539247, 324.11692361,\n",
       "       213.59243285, 183.17743309, 248.10265722, 262.81760772,\n",
       "       145.31730609, 277.04512744, 256.8913684 , 180.40767802,\n",
       "       197.22964883, 210.82267778, 251.64597824, 251.32361426,\n",
       "       262.67054772, 274.82727595, 229.56838009, 246.56565489,\n",
       "       198.81300955, 218.8841814 , 299.33415079, 182.02726755,\n",
       "       191.22082231, 268.72573264, 291.88902354, 256.08157363,\n",
       "       229.82627128, 285.15298946, 276.89806745, 286.49657339,\n",
       "       256.69795001, 232.38449356, 239.10241324, 211.63247254,\n",
       "       331.51569247, 185.1837518 , 281.75672842, 324.4754088 ,\n",
       "       225.81363387, 204.0402853 , 202.84376136, 198.81300955,\n",
       "       248.89433758, 191.90167148, 237.41845852, 265.3577156 ,\n",
       "       292.35833992, 204.65666167, 221.10203289, 321.36528294,\n",
       "       228.35374175, 257.57221757, 190.08877117, 257.24985359,\n",
       "       268.59678705, 205.44834203, 268.72573264, 227.62653419,\n",
       "       262.67054772, 202.16291219, 269.6000002 , 210.90526498,\n",
       "       328.699579  , 252.62083981, 205.38386924, 246.69460048,\n",
       "       218.8197086 , 191.90167148, 243.06869225, 357.81735321,\n",
       "       229.69732569, 190.62256034, 252.19788182, 293.70192386,\n",
       "       201.9694938 , 191.15634951, 246.61201328, 249.51071395,\n",
       "       183.77569506, 284.61920028, 323.38971605, 195.31604692,\n",
       "       221.78288206, 247.09944406, 218.09250104, 312.08914098,\n",
       "       201.30675904, 191.3497679 , 191.90167148, 205.40198364,\n",
       "       233.42382792, 193.84351739, 213.59243285, 243.19763785,\n",
       "       196.53068526, 233.19428832, 222.57456242, 250.72535229,\n",
       "       255.41883887, 198.81300955, 269.94037098, 240.57494277,\n",
       "       200.28553908, 245.82033292, 218.41486502, 217.20022668,\n",
       "       198.94195514, 252.05082183, 312.81634854, 201.9694938 ,\n",
       "       145.85109527, 180.18601564, 193.43867381, 201.9694938 ,\n",
       "       228.35374175, 280.33055729, 229.09906372, 279.47440413,\n",
       "       265.3577156 , 280.99329205, 400.63673519, 307.86497078,\n",
       "       331.75546925, 208.02467872, 257.97706115, 324.4754088 ,\n",
       "       201.9694938 , 228.28926895, 198.94195514, 328.699579  ,\n",
       "       187.1255977 , 137.85406444, 183.96911345, 278.85802776,\n",
       "       314.03098689, 162.29646648, 170.2753829 , 291.87090914,\n",
       "       196.06136888, 315.26373964, 272.75648445, 236.07487458,\n",
       "       240.44599718, 194.78225774, 148.53826314, 332.04948164,\n",
       "       198.81300955, 256.08157363, 219.07759979, 350.01374078,\n",
       "       280.99329205, 215.00048959, 275.55448351, 248.10265722,\n",
       "       270.37356616, 344.65751944, 226.94568502, 268.32088906,\n",
       "       250.10897592, 217.54059746, 243.00421946, 290.46285241,\n",
       "       344.65751944, 181.83384916, 331.51569247, 251.13019587,\n",
       "       248.63644639])"
      ]
     },
     "execution_count": 10,
     "metadata": {},
     "output_type": "execute_result"
    }
   ],
   "source": [
    "y_pred = model.predict(x_test)\n",
    "y_pred"
   ]
  },
  {
   "cell_type": "code",
   "execution_count": 11,
   "id": "af4b0414",
   "metadata": {},
   "outputs": [
    {
     "data": {
      "text/plain": [
       "array([155.44960121])"
      ]
     },
     "execution_count": 11,
     "metadata": {},
     "output_type": "execute_result"
    }
   ],
   "source": [
    "model.predict([[6.0, 5.8, 5.9]])  # values of 2nd row"
   ]
  },
  {
   "cell_type": "code",
   "execution_count": 12,
   "id": "81da221c",
   "metadata": {},
   "outputs": [
    {
     "data": {
      "text/plain": [
       "82.75562967199109"
      ]
     },
     "execution_count": 12,
     "metadata": {},
     "output_type": "execute_result"
    }
   ],
   "source": [
    "from sklearn.metrics import r2_score, mean_squared_error\n",
    "r2_score(y_test, y_pred)*100"
   ]
  },
  {
   "cell_type": "code",
   "execution_count": 17,
   "id": "3c88540d",
   "metadata": {},
   "outputs": [
    {
     "data": {
      "text/plain": [
       "25.679304365500215"
      ]
     },
     "execution_count": 17,
     "metadata": {},
     "output_type": "execute_result"
    }
   ],
   "source": [
    "mean_squared_error(y_test, y_pred)**0.5"
   ]
  },
  {
   "cell_type": "code",
   "execution_count": 18,
   "id": "400572be",
   "metadata": {},
   "outputs": [
    {
     "data": {
      "text/plain": [
       "74.77009222621581"
      ]
     },
     "execution_count": 18,
     "metadata": {},
     "output_type": "execute_result"
    }
   ],
   "source": [
    "model.intercept_"
   ]
  },
  {
   "cell_type": "code",
   "execution_count": 19,
   "id": "12328d72",
   "metadata": {},
   "outputs": [
    {
     "data": {
      "text/plain": [
       "array([ 8.74267559, -5.33789174, 10.03105551])"
      ]
     },
     "execution_count": 19,
     "metadata": {},
     "output_type": "execute_result"
    }
   ],
   "source": [
    "model.coef_"
   ]
  },
  {
   "cell_type": "markdown",
   "id": "19a9e25b",
   "metadata": {},
   "source": [
    "## Polynomial Regression:"
   ]
  },
  {
   "cell_type": "code",
   "execution_count": 1,
   "id": "09f1beb9",
   "metadata": {},
   "outputs": [],
   "source": [
    "import pandas as pd\n",
    "df = pd.read_csv('china_gdp.csv')"
   ]
  },
  {
   "cell_type": "code",
   "execution_count": 2,
   "id": "b2d34ff5",
   "metadata": {},
   "outputs": [
    {
     "data": {
      "text/html": [
       "<div>\n",
       "<style scoped>\n",
       "    .dataframe tbody tr th:only-of-type {\n",
       "        vertical-align: middle;\n",
       "    }\n",
       "\n",
       "    .dataframe tbody tr th {\n",
       "        vertical-align: top;\n",
       "    }\n",
       "\n",
       "    .dataframe thead th {\n",
       "        text-align: right;\n",
       "    }\n",
       "</style>\n",
       "<table border=\"1\" class=\"dataframe\">\n",
       "  <thead>\n",
       "    <tr style=\"text-align: right;\">\n",
       "      <th></th>\n",
       "      <th>Year</th>\n",
       "      <th>Value</th>\n",
       "    </tr>\n",
       "  </thead>\n",
       "  <tbody>\n",
       "    <tr>\n",
       "      <th>0</th>\n",
       "      <td>1960</td>\n",
       "      <td>5.918412e+10</td>\n",
       "    </tr>\n",
       "    <tr>\n",
       "      <th>1</th>\n",
       "      <td>1961</td>\n",
       "      <td>4.955705e+10</td>\n",
       "    </tr>\n",
       "    <tr>\n",
       "      <th>2</th>\n",
       "      <td>1962</td>\n",
       "      <td>4.668518e+10</td>\n",
       "    </tr>\n",
       "    <tr>\n",
       "      <th>3</th>\n",
       "      <td>1963</td>\n",
       "      <td>5.009730e+10</td>\n",
       "    </tr>\n",
       "    <tr>\n",
       "      <th>4</th>\n",
       "      <td>1964</td>\n",
       "      <td>5.906225e+10</td>\n",
       "    </tr>\n",
       "  </tbody>\n",
       "</table>\n",
       "</div>"
      ],
      "text/plain": [
       "   Year         Value\n",
       "0  1960  5.918412e+10\n",
       "1  1961  4.955705e+10\n",
       "2  1962  4.668518e+10\n",
       "3  1963  5.009730e+10\n",
       "4  1964  5.906225e+10"
      ]
     },
     "execution_count": 2,
     "metadata": {},
     "output_type": "execute_result"
    }
   ],
   "source": [
    "df.head()"
   ]
  },
  {
   "cell_type": "code",
   "execution_count": 4,
   "id": "9d893cc5",
   "metadata": {},
   "outputs": [
    {
     "data": {
      "text/plain": [
       "(55, 2)"
      ]
     },
     "execution_count": 4,
     "metadata": {},
     "output_type": "execute_result"
    }
   ],
   "source": [
    "df.shape"
   ]
  },
  {
   "cell_type": "code",
   "execution_count": 5,
   "id": "1d84cf48",
   "metadata": {
    "collapsed": true
   },
   "outputs": [
    {
     "data": {
      "image/png": "[encoded data removed]",
      "text/plain": [
       "<Figure size 432x288 with 1 Axes>"
      ]
     },
     "metadata": {
      "needs_background": "light"
     },
     "output_type": "display_data"
    }
   ],
   "source": [
    "import matplotlib.pyplot as plt\n",
    "\n",
    "plt.scatter(df['Year'], df['Value'])\n",
    "plt.show()"
   ]
  },
  {
   "cell_type": "code",
   "execution_count": 11,
   "id": "5f9559da",
   "metadata": {},
   "outputs": [],
   "source": [
    "x = df['Year'].values.reshape(-1, 1)\n",
    "y = df['Value']"
   ]
  },
  {
   "cell_type": "code",
   "execution_count": 13,
   "id": "c039f160",
   "metadata": {},
   "outputs": [
    {
     "data": {
      "text/plain": [
       "LinearRegression()"
      ]
     },
     "execution_count": 13,
     "metadata": {},
     "output_type": "execute_result"
    }
   ],
   "source": [
    "from sklearn.preprocessing import PolynomialFeatures\n",
    "\n",
    "poly = PolynomialFeatures(degree = 3)\n",
    "x_poly = poly.fit_transform(x)\n",
    "\n",
    "from sklearn.linear_model import LinearRegression\n",
    "\n",
    "model = LinearRegression()\n",
    "model.fit(x_poly, y)"
   ]
  },
  {
   "cell_type": "code",
   "execution_count": 14,
   "id": "1835273b",
   "metadata": {},
   "outputs": [],
   "source": [
    "y_pred = model.predict(x_poly)"
   ]
  },
  {
   "cell_type": "code",
   "execution_count": 17,
   "id": "2487ae39",
   "metadata": {},
   "outputs": [
    {
     "data": {
      "text/plain": [
       "96.45101047000898"
      ]
     },
     "execution_count": 17,
     "metadata": {},
     "output_type": "execute_result"
    }
   ],
   "source": [
    "from sklearn.metrics import r2_score, mean_squared_error\n",
    "r2_score(y, y_pred)*100"
   ]
  },
  {
   "cell_type": "code",
   "execution_count": 18,
   "id": "024d54f8",
   "metadata": {},
   "outputs": [
    {
     "data": {
      "text/plain": [
       "2.177936487194082e+23"
      ]
     },
     "execution_count": 18,
     "metadata": {},
     "output_type": "execute_result"
    }
   ],
   "source": [
    "mean_squared_error(y, y_pred)"
   ]
  },
  {
   "cell_type": "code",
   "execution_count": 21,
   "id": "b5885050",
   "metadata": {},
   "outputs": [
    {
     "data": {
      "image/png": "[encoded data removed]",
      "text/plain": [
       "<Figure size 432x288 with 1 Axes>"
      ]
     },
     "metadata": {
      "needs_background": "light"
     },
     "output_type": "display_data"
    }
   ],
   "source": [
    "plt.scatter(df['Year'], df['Value'], c = 'red')\n",
    "plt.plot(x, y_pred, c = 'blue')\n",
    "plt.show()"
   ]
  },
  {
   "cell_type": "code",
   "execution_count": 23,
   "id": "cf59fea1",
   "metadata": {},
   "outputs": [],
   "source": [
    "acc = []\n",
    "for i in range(2, 20) :\n",
    "    poly = PolynomialFeatures(degree = i)\n",
    "    x_poly = poly.fit_transform(x)\n",
    "    model = LinearRegression()\n",
    "    model.fit(x_poly, y)\n",
    "    y_pred = model.predict(x_poly)\n",
    "    acc.append(r2_score(y, y_pred)*100)"
   ]
  },
  {
   "cell_type": "code",
   "execution_count": 24,
   "id": "07cd8fd0",
   "metadata": {
    "collapsed": true
   },
   "outputs": [
    {
     "data": {
      "text/plain": [
       "[84.24443474171446,\n",
       " 96.45101047000898,\n",
       " 96.5120230215125,\n",
       " 96.57218086535269,\n",
       " 96.63149021194226,\n",
       " 96.68995728675763,\n",
       " 96.74758835356721,\n",
       " 96.80438971170584,\n",
       " 96.86036769344585,\n",
       " 96.9155286654676,\n",
       " 96.96987902292203,\n",
       " 97.02342519173827,\n",
       " 97.07617362685119,\n",
       " 97.12813080732198,\n",
       " 97.17930323901378,\n",
       " 97.22969745112273,\n",
       " 97.27931999533536,\n",
       " 97.32817744349673]"
      ]
     },
     "execution_count": 24,
     "metadata": {},
     "output_type": "execute_result"
    }
   ],
   "source": [
    "acc"
   ]
  },
  {
   "cell_type": "code",
   "execution_count": 29,
   "id": "de95a81b",
   "metadata": {},
   "outputs": [
    {
     "data": {
      "image/png": "[encoded data removed]",
      "text/plain": [
       "<Figure size 432x288 with 1 Axes>"
      ]
     },
     "metadata": {
      "needs_background": "light"
     },
     "output_type": "display_data"
    }
   ],
   "source": [
    "import numpy as np\n",
    "\n",
    "plt.plot(np.arange(2, 20), acc)\n",
    "plt.xlabel(\"Degree of polynomial features\")\n",
    "plt.ylabel(\"Accuracy\")\n",
    "plt.show()"
   ]
  },
  {
   "cell_type": "code",
   "execution_count": null,
   "id": "dc0e7f24",
   "metadata": {},
   "outputs": [],
   "source": []
  }
 ],
 "metadata": {
  "kernelspec": {
   "display_name": "Python 3",
   "language": "python",
   "name": "python3"
  },
  "language_info": {
   "codemirror_mode": {
    "name": "ipython",
    "version": 3
   },
   "file_extension": ".py",
   "mimetype": "text/x-python",
   "name": "python",
   "nbconvert_exporter": "python",
   "pygments_lexer": "ipython3",
   "version": "3.8.8"
  }
 },
 "nbformat": 4,
 "nbformat_minor": 5
}
