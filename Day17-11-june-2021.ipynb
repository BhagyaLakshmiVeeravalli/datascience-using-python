{
 "cells": [
  {
   "cell_type": "markdown",
   "id": "10f9cd30",
   "metadata": {},
   "source": [
    "## TODAY'S OBJECTIVE :\n",
    "\n",
    "- Iterators.\n",
    "- Generator\n",
    "- Object oriented programming."
   ]
  },
  {
   "cell_type": "markdown",
   "id": "674a8e4b",
   "metadata": {},
   "source": [
    "### ITERATORS :\n",
    "\n",
    "list, string, tuple, set, dictionary."
   ]
  },
  {
   "cell_type": "markdown",
   "id": "0ae3dcad",
   "metadata": {},
   "source": [
    "50 l need \n",
    "100 l need 25 char"
   ]
  },
  {
   "cell_type": "code",
   "execution_count": 1,
   "id": "f7046212",
   "metadata": {},
   "outputs": [],
   "source": [
    "s = \"\"\"Python is an interpreted high-level general-purpose programming language. Python's design philosophy emphasizes code readability with its notable use of significant indentation. Wikipedia\n",
    "Developer: Python Software Foundation\n",
    "Stable release: 3.9.5 / 3 May 2021; 19 days ago\n",
    "Preview release: 3.10.0b1 / 3 May 2021; 19 days ago\n",
    "Typing discipline: Duck, dynamic, strong typing; gradual (since 3.5, but ignored in CPython)\n",
    "First appeared: February 1991; 30 years ago\n",
    "Paradigm: Multi-paradigm: object-oriented, procedural (imperative), functional, structured, reflective\"\"\""
   ]
  },
  {
   "cell_type": "code",
   "execution_count": 2,
   "id": "008c1349",
   "metadata": {},
   "outputs": [
    {
     "name": "stdout",
     "output_type": "stream",
     "text": [
      "<str_iterator object at 0x0000014CBD08A220>\n"
     ]
    }
   ],
   "source": [
    "it = iter(s)\n",
    "\n",
    "print(it)"
   ]
  },
  {
   "cell_type": "code",
   "execution_count": 3,
   "id": "e8869c75",
   "metadata": {},
   "outputs": [
    {
     "data": {
      "text/plain": [
       "'P'"
      ]
     },
     "execution_count": 3,
     "metadata": {},
     "output_type": "execute_result"
    }
   ],
   "source": [
    "next(it)"
   ]
  },
  {
   "cell_type": "code",
   "execution_count": 4,
   "id": "b5287452",
   "metadata": {},
   "outputs": [
    {
     "name": "stdout",
     "output_type": "stream",
     "text": [
      "y\n"
     ]
    }
   ],
   "source": [
    "print(next(it))"
   ]
  },
  {
   "cell_type": "code",
   "execution_count": 5,
   "id": "d868b7a5",
   "metadata": {
    "collapsed": true
   },
   "outputs": [
    {
     "name": "stdout",
     "output_type": "stream",
     "text": [
      "t\n",
      "h\n",
      "o\n",
      "n\n",
      " \n",
      "i\n",
      "s\n",
      " \n",
      "a\n",
      "n\n"
     ]
    }
   ],
   "source": [
    "for i in range(10) :\n",
    "    print(next(it))"
   ]
  },
  {
   "cell_type": "code",
   "execution_count": 6,
   "id": "35373c20",
   "metadata": {},
   "outputs": [
    {
     "data": {
      "text/plain": [
       "' '"
      ]
     },
     "execution_count": 6,
     "metadata": {},
     "output_type": "execute_result"
    }
   ],
   "source": [
    "next(it)"
   ]
  },
  {
   "cell_type": "code",
   "execution_count": 7,
   "id": "8867a195",
   "metadata": {},
   "outputs": [
    {
     "data": {
      "text/plain": [
       "'i'"
      ]
     },
     "execution_count": 7,
     "metadata": {},
     "output_type": "execute_result"
    }
   ],
   "source": [
    "next(it)"
   ]
  },
  {
   "cell_type": "code",
   "execution_count": 12,
   "id": "92e06d09",
   "metadata": {},
   "outputs": [],
   "source": [
    "it1 = iter('Python')\n",
    "it2 = 'python'"
   ]
  },
  {
   "cell_type": "code",
   "execution_count": 13,
   "id": "ad62695e",
   "metadata": {},
   "outputs": [
    {
     "name": "stdout",
     "output_type": "stream",
     "text": [
      "P\n",
      "y\n",
      "t\n",
      "h\n",
      "o\n",
      "n\n"
     ]
    }
   ],
   "source": [
    "for i in it1 :\n",
    "    print(i)"
   ]
  },
  {
   "cell_type": "code",
   "execution_count": 14,
   "id": "8267ff76",
   "metadata": {
    "collapsed": true
   },
   "outputs": [
    {
     "name": "stdout",
     "output_type": "stream",
     "text": [
      "p\n",
      "y\n",
      "t\n",
      "h\n",
      "o\n",
      "n\n"
     ]
    }
   ],
   "source": [
    "for j in it2 :\n",
    "    print(j)"
   ]
  },
  {
   "cell_type": "code",
   "execution_count": 15,
   "id": "0864b885",
   "metadata": {
    "collapsed": true
   },
   "outputs": [
    {
     "ename": "StopIteration",
     "evalue": "",
     "output_type": "error",
     "traceback": [
      "\u001b[1;31m---------------------------------------------------------------------------\u001b[0m",
      "\u001b[1;31mStopIteration\u001b[0m                             Traceback (most recent call last)",
      "\u001b[1;32m<ipython-input-15-a1664e0d0ec1>\u001b[0m in \u001b[0;36m<module>\u001b[1;34m\u001b[0m\n\u001b[1;32m----> 1\u001b[1;33m \u001b[0mprint\u001b[0m\u001b[1;33m(\u001b[0m\u001b[0mnext\u001b[0m\u001b[1;33m(\u001b[0m\u001b[0mit1\u001b[0m\u001b[1;33m)\u001b[0m\u001b[1;33m)\u001b[0m\u001b[1;33m\u001b[0m\u001b[1;33m\u001b[0m\u001b[0m\n\u001b[0m",
      "\u001b[1;31mStopIteration\u001b[0m: "
     ]
    }
   ],
   "source": [
    "print(next(it1))"
   ]
  },
  {
   "cell_type": "code",
   "execution_count": 16,
   "id": "0d859fad",
   "metadata": {},
   "outputs": [],
   "source": [
    "for i in it1 :\n",
    "    print(i)\n",
    "    "
   ]
  },
  {
   "cell_type": "code",
   "execution_count": 17,
   "id": "a188665a",
   "metadata": {
    "collapsed": true
   },
   "outputs": [
    {
     "name": "stdout",
     "output_type": "stream",
     "text": [
      "p\n",
      "y\n",
      "t\n",
      "h\n",
      "o\n",
      "n\n"
     ]
    }
   ],
   "source": [
    "for j in it2 :\n",
    "    print(j)"
   ]
  },
  {
   "cell_type": "code",
   "execution_count": 30,
   "id": "c2f1554f",
   "metadata": {},
   "outputs": [],
   "source": [
    "li = [1, 2, 3, 4, 5, 6]\n",
    "li2 = iter([1, 2, 3, 4, 5, 6])"
   ]
  },
  {
   "cell_type": "code",
   "execution_count": 31,
   "id": "874035fa",
   "metadata": {},
   "outputs": [
    {
     "name": "stdout",
     "output_type": "stream",
     "text": [
      "[1, 2, 3, 4, 5, 6] <list_iterator object at 0x0000014CBD08A880>\n"
     ]
    }
   ],
   "source": [
    "print(li, li2)"
   ]
  },
  {
   "cell_type": "code",
   "execution_count": 32,
   "id": "f40e295f",
   "metadata": {},
   "outputs": [
    {
     "data": {
      "text/plain": [
       "1"
      ]
     },
     "execution_count": 32,
     "metadata": {},
     "output_type": "execute_result"
    }
   ],
   "source": [
    "next(li2)"
   ]
  },
  {
   "cell_type": "code",
   "execution_count": 33,
   "id": "50cc6b62",
   "metadata": {},
   "outputs": [
    {
     "name": "stdout",
     "output_type": "stream",
     "text": [
      "2\n"
     ]
    }
   ],
   "source": [
    "print(next(li2))"
   ]
  },
  {
   "cell_type": "code",
   "execution_count": 34,
   "id": "1791b167",
   "metadata": {},
   "outputs": [
    {
     "name": "stdout",
     "output_type": "stream",
     "text": [
      "3\n"
     ]
    }
   ],
   "source": [
    "print(next(li2))\n"
   ]
  },
  {
   "cell_type": "code",
   "execution_count": 37,
   "id": "002d6e3f",
   "metadata": {},
   "outputs": [
    {
     "name": "stdout",
     "output_type": "stream",
     "text": [
      "6\n"
     ]
    }
   ],
   "source": [
    "print(next(li2))"
   ]
  },
  {
   "cell_type": "code",
   "execution_count": 38,
   "id": "102e9ead",
   "metadata": {},
   "outputs": [
    {
     "ename": "StopIteration",
     "evalue": "",
     "output_type": "error",
     "traceback": [
      "\u001b[1;31m---------------------------------------------------------------------------\u001b[0m",
      "\u001b[1;31mStopIteration\u001b[0m                             Traceback (most recent call last)",
      "\u001b[1;32m<ipython-input-38-a51a8cea1203>\u001b[0m in \u001b[0;36m<module>\u001b[1;34m\u001b[0m\n\u001b[1;32m----> 1\u001b[1;33m \u001b[0mnext\u001b[0m\u001b[1;33m(\u001b[0m\u001b[0mli2\u001b[0m\u001b[1;33m)\u001b[0m\u001b[1;33m\u001b[0m\u001b[1;33m\u001b[0m\u001b[0m\n\u001b[0m",
      "\u001b[1;31mStopIteration\u001b[0m: "
     ]
    }
   ],
   "source": [
    "next(li2)"
   ]
  },
  {
   "cell_type": "code",
   "execution_count": 39,
   "id": "8b83a0a5",
   "metadata": {},
   "outputs": [
    {
     "name": "stdout",
     "output_type": "stream",
     "text": [
      "[1, 2, 3, 4, 5, 6]\n"
     ]
    }
   ],
   "source": [
    "print(li)"
   ]
  },
  {
   "cell_type": "code",
   "execution_count": 40,
   "id": "c68f91f0",
   "metadata": {},
   "outputs": [],
   "source": [
    "li2 = iter([1, 2, 3, 4, 5, 6])"
   ]
  },
  {
   "cell_type": "code",
   "execution_count": 41,
   "id": "edb8a805",
   "metadata": {},
   "outputs": [
    {
     "name": "stdout",
     "output_type": "stream",
     "text": [
      "1\n",
      "2\n",
      "3\n"
     ]
    }
   ],
   "source": [
    "for i in range(3) :\n",
    "    print(next(li2))"
   ]
  },
  {
   "cell_type": "code",
   "execution_count": 43,
   "id": "a6b87f90",
   "metadata": {},
   "outputs": [
    {
     "ename": "StopIteration",
     "evalue": "",
     "output_type": "error",
     "traceback": [
      "\u001b[1;31m---------------------------------------------------------------------------\u001b[0m",
      "\u001b[1;31mStopIteration\u001b[0m                             Traceback (most recent call last)",
      "\u001b[1;32m<ipython-input-43-a4e1a6f37ffb>\u001b[0m in \u001b[0;36m<module>\u001b[1;34m\u001b[0m\n\u001b[0;32m      1\u001b[0m \u001b[1;32mfor\u001b[0m \u001b[0mi\u001b[0m \u001b[1;32min\u001b[0m \u001b[0mrange\u001b[0m\u001b[1;33m(\u001b[0m\u001b[1;36m3\u001b[0m\u001b[1;33m)\u001b[0m \u001b[1;33m:\u001b[0m\u001b[1;33m\u001b[0m\u001b[1;33m\u001b[0m\u001b[0m\n\u001b[1;32m----> 2\u001b[1;33m     \u001b[0mprint\u001b[0m\u001b[1;33m(\u001b[0m\u001b[0mnext\u001b[0m\u001b[1;33m(\u001b[0m\u001b[0mli2\u001b[0m\u001b[1;33m)\u001b[0m\u001b[1;33m)\u001b[0m\u001b[1;33m\u001b[0m\u001b[1;33m\u001b[0m\u001b[0m\n\u001b[0m",
      "\u001b[1;31mStopIteration\u001b[0m: "
     ]
    }
   ],
   "source": [
    "for i in range(3) :\n",
    "    print(next(li2))"
   ]
  },
  {
   "cell_type": "markdown",
   "id": "2b71134d",
   "metadata": {},
   "source": [
    "### GENERATOR :"
   ]
  },
  {
   "cell_type": "code",
   "execution_count": 54,
   "id": "9b94b7c8",
   "metadata": {},
   "outputs": [],
   "source": [
    "def gen() :\n",
    "    a = 10\n",
    "    yield a\n",
    "    \n",
    "    a **= 5\n",
    "    yield a\n",
    "    \n",
    "    a **= 10\n",
    "    yield a"
   ]
  },
  {
   "cell_type": "code",
   "execution_count": 55,
   "id": "31263b92",
   "metadata": {},
   "outputs": [],
   "source": [
    "g = gen()\n"
   ]
  },
  {
   "cell_type": "code",
   "execution_count": 56,
   "id": "8f689dc1",
   "metadata": {},
   "outputs": [
    {
     "data": {
      "text/plain": [
       "10"
      ]
     },
     "execution_count": 56,
     "metadata": {},
     "output_type": "execute_result"
    }
   ],
   "source": [
    "next(g)"
   ]
  },
  {
   "cell_type": "code",
   "execution_count": 57,
   "id": "38272e12",
   "metadata": {},
   "outputs": [
    {
     "data": {
      "text/plain": [
       "100000"
      ]
     },
     "execution_count": 57,
     "metadata": {},
     "output_type": "execute_result"
    }
   ],
   "source": [
    "next(g)"
   ]
  },
  {
   "cell_type": "code",
   "execution_count": 58,
   "id": "d34885ef",
   "metadata": {},
   "outputs": [
    {
     "data": {
      "text/plain": [
       "100000000000000000000000000000000000000000000000000"
      ]
     },
     "execution_count": 58,
     "metadata": {},
     "output_type": "execute_result"
    }
   ],
   "source": [
    "next(g)"
   ]
  },
  {
   "cell_type": "code",
   "execution_count": 59,
   "id": "576ff27e",
   "metadata": {},
   "outputs": [
    {
     "ename": "StopIteration",
     "evalue": "",
     "output_type": "error",
     "traceback": [
      "\u001b[1;31m---------------------------------------------------------------------------\u001b[0m",
      "\u001b[1;31mStopIteration\u001b[0m                             Traceback (most recent call last)",
      "\u001b[1;32m<ipython-input-59-e734f8aca5ac>\u001b[0m in \u001b[0;36m<module>\u001b[1;34m\u001b[0m\n\u001b[1;32m----> 1\u001b[1;33m \u001b[0mnext\u001b[0m\u001b[1;33m(\u001b[0m\u001b[0mg\u001b[0m\u001b[1;33m)\u001b[0m\u001b[1;33m\u001b[0m\u001b[1;33m\u001b[0m\u001b[0m\n\u001b[0m",
      "\u001b[1;31mStopIteration\u001b[0m: "
     ]
    }
   ],
   "source": [
    "next(g)"
   ]
  },
  {
   "cell_type": "code",
   "execution_count": 60,
   "id": "b97038f0",
   "metadata": {},
   "outputs": [],
   "source": [
    "t1 = (i for i in range(100))"
   ]
  },
  {
   "cell_type": "code",
   "execution_count": 61,
   "id": "4e9b9283",
   "metadata": {},
   "outputs": [
    {
     "name": "stdout",
     "output_type": "stream",
     "text": [
      "<generator object <genexpr> at 0x0000014CBD15A6D0>\n"
     ]
    }
   ],
   "source": [
    "print(t1)"
   ]
  },
  {
   "cell_type": "code",
   "execution_count": 62,
   "id": "17e30d0c",
   "metadata": {},
   "outputs": [
    {
     "data": {
      "text/plain": [
       "0"
      ]
     },
     "execution_count": 62,
     "metadata": {},
     "output_type": "execute_result"
    }
   ],
   "source": [
    "next(t1)"
   ]
  },
  {
   "cell_type": "code",
   "execution_count": 66,
   "id": "5279e53e",
   "metadata": {},
   "outputs": [],
   "source": [
    "li = range(0, 100)"
   ]
  },
  {
   "cell_type": "code",
   "execution_count": 67,
   "id": "0e767fe4",
   "metadata": {},
   "outputs": [
    {
     "name": "stdout",
     "output_type": "stream",
     "text": [
      "0\n",
      "1\n",
      "2\n",
      "3\n",
      "4\n",
      "5\n",
      "6\n",
      "7\n",
      "8\n",
      "9\n",
      "10\n"
     ]
    }
   ],
   "source": [
    "for i in li :\n",
    "    print(i)\n",
    "    if i == 10 :\n",
    "        break"
   ]
  },
  {
   "cell_type": "code",
   "execution_count": 68,
   "id": "eeb979b0",
   "metadata": {},
   "outputs": [
    {
     "name": "stdout",
     "output_type": "stream",
     "text": [
      "0\n",
      "1\n",
      "2\n",
      "3\n",
      "4\n",
      "5\n",
      "6\n",
      "7\n",
      "8\n",
      "9\n",
      "10\n"
     ]
    }
   ],
   "source": [
    "for i in li :\n",
    "    print(i)\n",
    "    if i == 10 :\n",
    "        break"
   ]
  },
  {
   "cell_type": "code",
   "execution_count": 69,
   "id": "f9eecf77",
   "metadata": {},
   "outputs": [
    {
     "name": "stdout",
     "output_type": "stream",
     "text": [
      "0\n",
      "1\n",
      "2\n",
      "3\n",
      "4\n",
      "5\n",
      "6\n",
      "7\n",
      "8\n",
      "9\n",
      "10\n"
     ]
    }
   ],
   "source": [
    "for i in li :\n",
    "    print(i)\n",
    "    if i == 10 :\n",
    "        break"
   ]
  },
  {
   "cell_type": "code",
   "execution_count": 71,
   "id": "1b1a8c11",
   "metadata": {},
   "outputs": [
    {
     "name": "stdout",
     "output_type": "stream",
     "text": [
      "1\n",
      "2\n",
      "3\n",
      "4\n",
      "5\n",
      "6\n",
      "7\n",
      "8\n",
      "9\n",
      "10\n"
     ]
    }
   ],
   "source": [
    "for i in t1 :\n",
    "    print(i)\n",
    "    if i == 10 :\n",
    "        break"
   ]
  },
  {
   "cell_type": "code",
   "execution_count": 72,
   "id": "198e04fa",
   "metadata": {},
   "outputs": [
    {
     "name": "stdout",
     "output_type": "stream",
     "text": [
      "11\n",
      "12\n",
      "13\n",
      "14\n",
      "15\n",
      "16\n",
      "17\n",
      "18\n",
      "19\n",
      "20\n"
     ]
    }
   ],
   "source": [
    "for i in t1 :\n",
    "    print(i)\n",
    "    if i == 20 :\n",
    "        break"
   ]
  },
  {
   "cell_type": "markdown",
   "id": "325d51b4",
   "metadata": {},
   "source": [
    " ### OBJECT ORIENTED PROGRAMMING IN PYTHON :\n",
    " "
   ]
  },
  {
   "cell_type": "markdown",
   "id": "360b2f86",
   "metadata": {},
   "source": [
    "- Attributes -> Variables created inside class.\n",
    "- Method -> Function created inside the class.\n",
    "- Class -> Blueprint for the object. -> Design of a thing. -> No memory.\n",
    "- Object - Instance of the class. -> It occupies memory.\n",
    "\n",
    "\n",
    "\n",
    "### Structure :\n",
    "\n",
    "```python\n",
    "\n",
    "class ClassName :\n",
    "    \"\"\"Doc string\"\"\"\n",
    "    Attributes\n",
    "    Methods\n",
    "```"
   ]
  },
  {
   "cell_type": "code",
   "execution_count": 73,
   "id": "de73b377",
   "metadata": {},
   "outputs": [],
   "source": [
    "class Student :\n",
    "    \"\"\"This is the blueprint created for student Id card.\"\"\""
   ]
  },
  {
   "cell_type": "code",
   "execution_count": 75,
   "id": "58d99519",
   "metadata": {},
   "outputs": [],
   "source": [
    "apssdc = Student()"
   ]
  },
  {
   "cell_type": "code",
   "execution_count": 76,
   "id": "722786b3",
   "metadata": {},
   "outputs": [],
   "source": [
    "class Student2 :\n",
    "    pass"
   ]
  },
  {
   "cell_type": "code",
   "execution_count": 77,
   "id": "75f17f14",
   "metadata": {},
   "outputs": [],
   "source": [
    "apssdc = Student()"
   ]
  },
  {
   "cell_type": "code",
   "execution_count": 78,
   "id": "cc2ab0a6",
   "metadata": {},
   "outputs": [
    {
     "name": "stdout",
     "output_type": "stream",
     "text": [
      "<__main__.Student object at 0x0000014CBCF79B50>\n"
     ]
    }
   ],
   "source": [
    "print(apssdc)"
   ]
  },
  {
   "cell_type": "code",
   "execution_count": 79,
   "id": "758f70e3",
   "metadata": {},
   "outputs": [
    {
     "data": {
      "text/plain": [
       "'This is the blueprint created for student Id card.'"
      ]
     },
     "execution_count": 79,
     "metadata": {},
     "output_type": "execute_result"
    }
   ],
   "source": [
    "apssdc.__doc__"
   ]
  },
  {
   "cell_type": "code",
   "execution_count": 80,
   "id": "574a1cfb",
   "metadata": {},
   "outputs": [
    {
     "data": {
      "text/plain": [
       "'This is the blueprint created for student Id card.'"
      ]
     },
     "execution_count": 80,
     "metadata": {},
     "output_type": "execute_result"
    }
   ],
   "source": [
    "Student.__doc__"
   ]
  },
  {
   "cell_type": "code",
   "execution_count": 81,
   "id": "44b78cd7",
   "metadata": {},
   "outputs": [],
   "source": [
    "class Student :\n",
    "    \"\"\"This is the blueprint created for student Id card.\"\"\"\n",
    "    college = 'SVECW'\n",
    "    branch = 'CSE'\n",
    "    collegeAddress = 'Vishnupur, Bhimavaram'"
   ]
  },
  {
   "cell_type": "code",
   "execution_count": 87,
   "id": "c7a0087e",
   "metadata": {},
   "outputs": [],
   "source": [
    "std1 = Student()\n",
    "std2 = Student()"
   ]
  },
  {
   "cell_type": "code",
   "execution_count": 88,
   "id": "9e4f48de",
   "metadata": {},
   "outputs": [
    {
     "data": {
      "text/plain": [
       "'SVECW'"
      ]
     },
     "execution_count": 88,
     "metadata": {},
     "output_type": "execute_result"
    }
   ],
   "source": [
    "std1.college"
   ]
  },
  {
   "cell_type": "code",
   "execution_count": 89,
   "id": "77fcfec9",
   "metadata": {},
   "outputs": [
    {
     "data": {
      "text/plain": [
       "'SVECW'"
      ]
     },
     "execution_count": 89,
     "metadata": {},
     "output_type": "execute_result"
    }
   ],
   "source": [
    "\n",
    "std2.college"
   ]
  },
  {
   "cell_type": "code",
   "execution_count": 91,
   "id": "53ece077",
   "metadata": {},
   "outputs": [
    {
     "data": {
      "text/plain": [
       "'Vishnupur, Bhimavaram'"
      ]
     },
     "execution_count": 91,
     "metadata": {},
     "output_type": "execute_result"
    }
   ],
   "source": [
    "std1.collegeAddress"
   ]
  },
  {
   "cell_type": "code",
   "execution_count": 96,
   "id": "db1af9fc",
   "metadata": {},
   "outputs": [],
   "source": [
    "class Student :\n",
    "    \"\"\"This is the blueprint created for student Id card.\"\"\"\n",
    "    college = 'SVECW'\n",
    "    branch = 'CSE'\n",
    "    collegeAddress = 'Vishnupur, Bhimavaram'\n",
    "    def __init__(self) : #dendur init, constructor , instance method, initializer.\n",
    "        print(\"Student object is created.\")"
   ]
  },
  {
   "cell_type": "code",
   "execution_count": 97,
   "id": "b2a4ade6",
   "metadata": {},
   "outputs": [
    {
     "name": "stdout",
     "output_type": "stream",
     "text": [
      "Student object is created.\n",
      "Student object is created.\n"
     ]
    }
   ],
   "source": [
    "std1 = Student()\n",
    "std2 = Student()"
   ]
  },
  {
   "cell_type": "code",
   "execution_count": 98,
   "id": "71c1a33d",
   "metadata": {},
   "outputs": [],
   "source": [
    "class Student :\n",
    "    \"\"\"This is the blueprint created for student Id card.\"\"\"\n",
    "    college = 'SVECW'\n",
    "    branch = 'CSE'\n",
    "    collegeAddress = 'Vishnupur, Bhimavaram'\n",
    "    def __init__(self, name, rollno, mobile) : #dendur init, constructor , instance method, initializer.\n",
    "        self.name = name\n",
    "        self.rollno = rollno\n",
    "        self.mobile = mobile\n",
    "        print(\"{} object is created.\".format(self.name))\n",
    "        "
   ]
  },
  {
   "cell_type": "code",
   "execution_count": 99,
   "id": "3fe20ebb",
   "metadata": {},
   "outputs": [
    {
     "name": "stdout",
     "output_type": "stream",
     "text": [
      "Python object is created.\n",
      "Data object is created.\n"
     ]
    }
   ],
   "source": [
    "std1 = Student('Python', '123', '9876543210')\n",
    "std2 = Student('Data', '456', '9630125478')"
   ]
  },
  {
   "cell_type": "code",
   "execution_count": 100,
   "id": "e989a393",
   "metadata": {},
   "outputs": [
    {
     "data": {
      "text/plain": [
       "'Python'"
      ]
     },
     "execution_count": 100,
     "metadata": {},
     "output_type": "execute_result"
    }
   ],
   "source": [
    "std1.name"
   ]
  },
  {
   "cell_type": "code",
   "execution_count": 101,
   "id": "fc35758e",
   "metadata": {},
   "outputs": [
    {
     "data": {
      "text/plain": [
       "('SVECW', 'SVECW')"
      ]
     },
     "execution_count": 101,
     "metadata": {},
     "output_type": "execute_result"
    }
   ],
   "source": [
    "std2.college, std1.college"
   ]
  },
  {
   "cell_type": "code",
   "execution_count": 102,
   "id": "fc872656",
   "metadata": {},
   "outputs": [
    {
     "name": "stdout",
     "output_type": "stream",
     "text": [
      "<__main__.Student object at 0x0000014CBCF7E6D0> <__main__.Student object at 0x0000014CBCF7EF10>\n"
     ]
    }
   ],
   "source": [
    "print(std1, std2)"
   ]
  },
  {
   "cell_type": "code",
   "execution_count": 114,
   "id": "1e87e7a1",
   "metadata": {},
   "outputs": [],
   "source": [
    "class Student :\n",
    "    \"\"\"This is the blueprint created for student Id card.\"\"\"\n",
    "    college = 'SVECW'\n",
    "    branch = 'CSE'\n",
    "    collegeAddress = 'Vishnupur, Bhimavaram'\n",
    "    def __init__(self, name, rollno, mobile, python, java) : #dendur init, constructor , instance method, initializer.\n",
    "        self.name = name\n",
    "        self.rollno = rollno\n",
    "        self.mobile = mobile\n",
    "        self.python = python\n",
    "        self.java = java\n",
    "        print(\"{} object is created.\".format(self.name))\n",
    "    def average(self) :\n",
    "        avg = (self.python + self.java) / 2\n",
    "        return avg\n",
    "    def py_status(self) :\n",
    "        if self.python >= 40 :\n",
    "            print(\"Hurry! you have passed python subject.\")\n",
    "        else :\n",
    "            print(\"Hurry! you have failed python subject.\")\n",
    "    def java_status(self) :\n",
    "        if self.java >=  40 :\n",
    "            print(\"Hurry! you have passed java subject.\")\n",
    "        else :\n",
    "            print(\"Hurry! you have failed java subject.\")\n",
    "        "
   ]
  },
  {
   "cell_type": "code",
   "execution_count": 118,
   "id": "f41c3a87",
   "metadata": {},
   "outputs": [
    {
     "name": "stdout",
     "output_type": "stream",
     "text": [
      "bhagya object is created.\n",
      "angel object is created.\n"
     ]
    }
   ],
   "source": [
    "std1 = Student('bhagya', '5e5', '9898989898', 63, 39)\n",
    "std2 = Student('angel', '5f5', '1234567890', 29, 79)"
   ]
  },
  {
   "cell_type": "code",
   "execution_count": 116,
   "id": "84537aad",
   "metadata": {},
   "outputs": [
    {
     "data": {
      "text/plain": [
       "51.0"
      ]
     },
     "execution_count": 116,
     "metadata": {},
     "output_type": "execute_result"
    }
   ],
   "source": [
    "std1.average()"
   ]
  },
  {
   "cell_type": "code",
   "execution_count": 117,
   "id": "53cc125b",
   "metadata": {},
   "outputs": [
    {
     "data": {
      "text/plain": [
       "54.0"
      ]
     },
     "execution_count": 117,
     "metadata": {},
     "output_type": "execute_result"
    }
   ],
   "source": [
    "std2.average()"
   ]
  },
  {
   "cell_type": "code",
   "execution_count": 120,
   "id": "863b3d3d",
   "metadata": {},
   "outputs": [],
   "source": [
    "class Student :\n",
    "    \"\"\"This is the blueprint created for student Id card.\"\"\"\n",
    "    college = 'SVECW'\n",
    "    branch = 'CSE'\n",
    "    collegeAddress = 'Vishnupur, Bhimavaram'\n",
    "    def __init__(self, name, rollno, mobile, python, java) : #dendur init, constructor , instance method, initializer.\n",
    "        self.name = name\n",
    "        self.rollno = rollno\n",
    "        self.mobile = mobile\n",
    "        self.python = python\n",
    "        self.java = java\n",
    "        print(\"{} object is created.\".format(self.name))\n",
    "    def average(self) :\n",
    "        avg = (self.python + self.java) / 2\n",
    "        return avg\n",
    "    def py_status(self, pyaddOn) :\n",
    "        self.python += pyaddOn\n",
    "        if self.python >= 40 :\n",
    "            print(\"Hurry! you have passed python subject.\")\n",
    "        else :\n",
    "            print(\"Hurry! you have failed python subject.\")\n",
    "    def java_status(self, jaddOn) :\n",
    "        self.java  += jaddOn\n",
    "        if self.java >=  40 :\n",
    "            print(\"Hurry! you have passed java subject.\")\n",
    "        else :\n",
    "            print(\"Hurry! you have failed java subject.\")\n",
    "        "
   ]
  },
  {
   "cell_type": "code",
   "execution_count": 121,
   "id": "0dba1560",
   "metadata": {},
   "outputs": [
    {
     "name": "stdout",
     "output_type": "stream",
     "text": [
      "bhagya object is created.\n",
      "angel object is created.\n"
     ]
    }
   ],
   "source": [
    "std1 = Student('bhagya', '5e5', '9898989898', 35, 65)\n",
    "std2 = Student('angel', '5f5', '1234567890', 65, 25)"
   ]
  },
  {
   "cell_type": "code",
   "execution_count": 122,
   "id": "a40afe57",
   "metadata": {},
   "outputs": [
    {
     "name": "stdout",
     "output_type": "stream",
     "text": [
      "Hurry! you have passed python subject.\n"
     ]
    }
   ],
   "source": [
    "std1.py_status(5)"
   ]
  },
  {
   "cell_type": "code",
   "execution_count": 124,
   "id": "cc1283f3",
   "metadata": {},
   "outputs": [
    {
     "data": {
      "text/plain": [
       "40"
      ]
     },
     "execution_count": 124,
     "metadata": {},
     "output_type": "execute_result"
    }
   ],
   "source": [
    "std1.python"
   ]
  },
  {
   "cell_type": "code",
   "execution_count": 125,
   "id": "9c993e63",
   "metadata": {},
   "outputs": [
    {
     "name": "stdout",
     "output_type": "stream",
     "text": [
      "Hurry! you have passed python subject.\n"
     ]
    }
   ],
   "source": [
    "std2.py_status(0)"
   ]
  },
  {
   "cell_type": "code",
   "execution_count": 135,
   "id": "0ecca87e",
   "metadata": {},
   "outputs": [],
   "source": [
    "class Student :\n",
    "    \"\"\"This is the blueprint created for student Id card.\"\"\"\n",
    "    college = 'SVECW'\n",
    "    branch = 'CSE'\n",
    "    collegeAddress = 'Vishnupur, Bhimavaram'\n",
    "    def __init__(self, name, rollno, mobile, python, java) : #dendur init, constructor , instance method, initializer.\n",
    "        self.name = name\n",
    "        self.rollno = rollno\n",
    "        self.mobile = mobile\n",
    "        self.python = python\n",
    "        self.java = java\n",
    "        print(\"{} object is created.\".format(self.name))\n",
    "    def average(self) :\n",
    "        avg = (self.python + self.java) / 2\n",
    "        return avg\n",
    "    def py_status(self, pyaddOn) :\n",
    "        self.python += pyaddOn\n",
    "        if self.python >= 40 :\n",
    "            print(\"Hurry! you have passed python subject.\")\n",
    "        else :\n",
    "            print(\"Hurry! you have failed python subject.\")\n",
    "    def java_status(self, jaddOn) :\n",
    "        self.java  += jaddOn\n",
    "        if self.java >=  40 :\n",
    "            print(\"Hurry! you have passed java subject.\")\n",
    "        else :\n",
    "            print(\"Hurry! you have failed java subject.\")\n",
    "    def __str__(self):\n",
    "        return \"This class belongs to {}\".format(self.name)"
   ]
  },
  {
   "cell_type": "code",
   "execution_count": 136,
   "id": "6f8d6d27",
   "metadata": {},
   "outputs": [
    {
     "name": "stdout",
     "output_type": "stream",
     "text": [
      "bhagya object is created.\n",
      "angel object is created.\n"
     ]
    }
   ],
   "source": [
    "std1 = Student('bhagya', '5e5', '9898989898', 35, 65)\n",
    "std2 = Student('angel', '5f5', '1234567890', 65, 25)"
   ]
  },
  {
   "cell_type": "code",
   "execution_count": 137,
   "id": "b9bb9dcc",
   "metadata": {},
   "outputs": [
    {
     "name": "stdout",
     "output_type": "stream",
     "text": [
      "This class belongs to bhagya This class belongs to angel\n"
     ]
    }
   ],
   "source": [
    "print(std1, std2)"
   ]
  },
  {
   "cell_type": "code",
   "execution_count": 142,
   "id": "57082b42",
   "metadata": {},
   "outputs": [],
   "source": [
    "class Student :\n",
    "    \"\"\"This is the blueprint created for student Id card.\"\"\"\n",
    "    college = 'SVECW'\n",
    "    branch = 'CSE'\n",
    "    collegeAddress = 'Vishnupur, Bhimavaram'\n",
    "    def __init__(self, name, rollno, mobile, python, java) : #dendur init, constructor , instance method, initializer.\n",
    "        self.name = name\n",
    "        self.rollno = rollno\n",
    "        self.mobile = mobile\n",
    "        self.python = python\n",
    "        self.java = java\n",
    "        print(\"{} object is created.\".format(self.name))\n",
    "    def average(self) :\n",
    "        avg = (self.python + self.java) / 2\n",
    "        return avg\n",
    "    def py_status(self, pyaddOn) :\n",
    "        self.python += pyaddOn\n",
    "        if self.python >= 40 :\n",
    "            print(\"Hurry! you have passed python subject.\")\n",
    "        else :\n",
    "            print(\"Hurry! you have failed python subject.\")\n",
    "    def java_status(self, jaddOn) :\n",
    "        self.java  += jaddOn\n",
    "        if self.java >=  40 :\n",
    "            print(\"Hurry! you have passed java subject.\")\n",
    "        else :\n",
    "            print(\"Hurry! you have failed java subject.\")\n",
    "    def __str__(self):\n",
    "        return \"This class belongs to {}\".format(self.name)\n",
    "    def __del__(self) : #destructor\n",
    "        print(\"{} data has deleted.\".format(self.name))"
   ]
  },
  {
   "cell_type": "code",
   "execution_count": 143,
   "id": "fcceca04",
   "metadata": {},
   "outputs": [
    {
     "name": "stderr",
     "output_type": "stream",
     "text": [
      "Exception ignored in: <function Student.__del__ at 0x0000014CBD1800D0>\n",
      "Traceback (most recent call last):\n",
      "  File \"<ipython-input-138-531676de59dc>\", line 31, in __del__\n",
      "TypeError: 'str' object is not callable\n"
     ]
    },
    {
     "name": "stdout",
     "output_type": "stream",
     "text": [
      "bhagya object is created.\n",
      "angel object is created.\n"
     ]
    }
   ],
   "source": [
    "std1 = Student('bhagya', '5e5', '9898989898', 35, 65)\n",
    "std2 = Student('angel', '5f5', '1234567890', 65, 25)"
   ]
  },
  {
   "cell_type": "code",
   "execution_count": 144,
   "id": "e32c0fe5",
   "metadata": {},
   "outputs": [
    {
     "data": {
      "text/plain": [
       "<__main__.Student at 0x14cbd14c7f0>"
      ]
     },
     "execution_count": 144,
     "metadata": {},
     "output_type": "execute_result"
    }
   ],
   "source": [
    "std1\n"
   ]
  },
  {
   "cell_type": "code",
   "execution_count": 149,
   "id": "869d0342",
   "metadata": {},
   "outputs": [],
   "source": [
    "class Student :\n",
    "    \"\"\"This is the blueprint created for student Id card.\"\"\"\n",
    "    college = 'SVECW'\n",
    "    branch = 'CSE'\n",
    "    collegeAddress = 'Vishnupur, Bhimavaram'\n",
    "    def __init__(self, name, rollno, mobile, python, java) : #dendur init, constructor , instance method, initializer.\n",
    "        self.name = name\n",
    "        self.rollno = rollno\n",
    "        self.mobile = mobile\n",
    "        self.python = python\n",
    "        self.java = java\n",
    "        print(\"{} object is created.\".format(self.name))\n",
    "    def average(self) :\n",
    "        avg = (self.python + self.java) / 2\n",
    "        return avg\n",
    "    def py_status(self, pyaddOn) :\n",
    "        self.python += pyaddOn\n",
    "        if self.python >= 40 :\n",
    "            print(\"Hurry! you have passed python subject.\")\n",
    "        else :\n",
    "            print(\"Hurry! you have failed python subject.\")\n",
    "    def java_status(self, jaddOn) :\n",
    "        self.java  += jaddOn\n",
    "        if self.java >=  40 :\n",
    "            print(\"Hurry! you have passed java subject.\")\n",
    "        else :\n",
    "            print(\"Hurry! you have failed java subject.\")\n",
    "    def __str__(self):\n",
    "        return \"This class belongs to {}\".format(self.name)\n",
    "    def __del__(self) : #decorator\n",
    "        print(\"{} data has deleted.\".format(self.name))\n",
    "        \n",
    "    @staticmethod #Decorator\n",
    "    def clgNo() :\n",
    "        return 1234567890"
   ]
  },
  {
   "cell_type": "code",
   "execution_count": 150,
   "id": "17116a2e",
   "metadata": {},
   "outputs": [
    {
     "data": {
      "text/plain": [
       "1234567890"
      ]
     },
     "execution_count": 150,
     "metadata": {},
     "output_type": "execute_result"
    }
   ],
   "source": [
    "Student.clgNo()"
   ]
  },
  {
   "cell_type": "code",
   "execution_count": 151,
   "id": "a915b5ae",
   "metadata": {},
   "outputs": [],
   "source": [
    "class Student :\n",
    "    \"\"\"This is the blueprint created for student Id card.\"\"\"\n",
    "    college = 'SVECW'\n",
    "    branch = 'CSE'\n",
    "    collegeAddress = 'Vishnupur, Bhimavaram'\n",
    "    def __init__(self, name, rollno, mobile, python, java) : #dendur init, constructor , instance method, initializer.\n",
    "        self.name = name\n",
    "        self.rollno = rollno\n",
    "        self.mobile = mobile\n",
    "        self.python = python\n",
    "        self.java = java\n",
    "        print(\"{} object is created.\".format(self.name))\n",
    "    def average(self) :\n",
    "        avg = (self.python + self.java) / 2\n",
    "        return avg\n",
    "    def py_status(self, pyaddOn) :\n",
    "        self.python += pyaddOn\n",
    "        if self.python >= 40 :\n",
    "            print(\"Hurry! you have passed python subject.\")\n",
    "        else :\n",
    "            print(\"Hurry! you have failed python subject.\")\n",
    "    def java_status(self, jaddOn) :\n",
    "        self.java  += jaddOn\n",
    "        if self.java >=  40 :\n",
    "            print(\"Hurry! you have passed java subject.\")\n",
    "        else :\n",
    "            print(\"Hurry! you have failed java subject.\")\n",
    "    def __str__(self):\n",
    "        return \"This class belongs to {}\".format(self.name)\n",
    "    def __del__(self) : #decorator\n",
    "        print(\"{} data has deleted.\".format(self.name))\n",
    "        \n",
    "    @staticmethod #Decorator\n",
    "    def clgNo() :\n",
    "        return 1234567890\n",
    "    @classmethod \n",
    "    def clgName(cls) :\n",
    "        return cls.college"
   ]
  },
  {
   "cell_type": "code",
   "execution_count": 152,
   "id": "281ecc31",
   "metadata": {},
   "outputs": [
    {
     "data": {
      "text/plain": [
       "'SVECW'"
      ]
     },
     "execution_count": 152,
     "metadata": {},
     "output_type": "execute_result"
    }
   ],
   "source": [
    "Student.clgName()"
   ]
  },
  {
   "cell_type": "markdown",
   "id": "83406398",
   "metadata": {},
   "source": [
    "- Encapsulation\n",
    "- Polymorphism\n",
    "- Inheritance\n",
    "    - Types :\n",
    "        - Multi level\n",
    "        - Hybrid\n",
    "        - Multiple\n",
    "        - Hierarchy\n",
    "    - Operator overloading\n",
    "    - Method overriding.\n",
    "- Abstraction\n"
   ]
  },
  {
   "cell_type": "code",
   "execution_count": null,
   "id": "da0aa441",
   "metadata": {},
   "outputs": [],
   "source": []
  }
 ],
 "metadata": {
  "kernelspec": {
   "display_name": "Python 3",
   "language": "python",
   "name": "python3"
  },
  "language_info": {
   "codemirror_mode": {
    "name": "ipython",
    "version": 3
   },
   "file_extension": ".py",
   "mimetype": "text/x-python",
   "name": "python",
   "nbconvert_exporter": "python",
   "pygments_lexer": "ipython3",
   "version": "3.8.8"
  }
 },
 "nbformat": 4,
 "nbformat_minor": 5
}
