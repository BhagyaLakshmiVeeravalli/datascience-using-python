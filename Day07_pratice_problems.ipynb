{
 "cells": [
  {
   "cell_type": "markdown",
   "id": "3967f062",
   "metadata": {},
   "source": [
    "## 1. Get the leap year between the given range\n",
    "    - Starting range ending range is given as input"
   ]
  },
  {
   "cell_type": "code",
   "execution_count": 4,
   "id": "d2c5e974",
   "metadata": {},
   "outputs": [
    {
     "name": "stdout",
     "output_type": "stream",
     "text": [
      "Enter starting year : 1200\n",
      "Enter ending year : 1300\n",
      "The leap years between  1200 and  1300 are : \n",
      "1200\t1204\t1208\t1212\t1216\t1220\t1224\t1228\t1232\t1236\t1240\t1244\t1248\t1252\t1256\t1260\t1264\t1268\t1272\t1276\t1280\t1284\t1288\t1292\t1296\t"
     ]
    }
   ],
   "source": [
    "SYear = int(input(\"Enter starting year : \"))\n",
    "EYear = int(input(\"Enter ending year : \"))\n",
    "print(\"The leap years between \",SYear,\"and \",EYear, \"are : \")\n",
    "\n",
    "for SYear in range (SYear, EYear) :\n",
    "    if (SYear % 4 == 0) or (SYear % 4 == 0 and SYear % 100 != 0) :\n",
    "        print(SYear, end = '\\t')"
   ]
  },
  {
   "cell_type": "markdown",
   "id": "e1193f46",
   "metadata": {},
   "source": [
    "## 2. Get the prime numbers between the given range\n"
   ]
  },
  {
   "cell_type": "code",
   "execution_count": 34,
   "id": "9f2b49e0",
   "metadata": {},
   "outputs": [
    {
     "name": "stdout",
     "output_type": "stream",
     "text": [
      "Enter starting number : 1\n",
      "Enter ending number : 30\n",
      "The prime numbers between  1 and  30 are : \n",
      "2\n",
      "3\n",
      "5\n",
      "7\n",
      "11\n",
      "13\n",
      "17\n",
      "19\n",
      "23\n",
      "29\n"
     ]
    }
   ],
   "source": [
    "SNum = int(input(\"Enter starting number : \"))\n",
    "ENum = int(input(\"Enter ending number : \"))\n",
    "print(\"The prime numbers between \",SNum,\"and \",ENum, \"are : \")\n",
    "\n",
    "for num in range (SNum, ENum) :\n",
    "    count = 0\n",
    "    if num > 1:\n",
    "        for i in range (2, num) :\n",
    "            if num % i == 0 :\n",
    "                count += 1\n",
    "        if count < 1:\n",
    "            print(num)\n"
   ]
  },
  {
   "cell_type": "markdown",
   "id": "020cd07a",
   "metadata": {},
   "source": [
    "## 3. Get n number of Fibonacci numbers"
   ]
  },
  {
   "cell_type": "code",
   "execution_count": 42,
   "id": "9e4791d9",
   "metadata": {},
   "outputs": [
    {
     "name": "stdout",
     "output_type": "stream",
     "text": [
      "Enter starting number : 10\n",
      "Enter ending number : 40\n",
      "The fibonacci numbers between  10 and  40 are : \n",
      "13\n",
      "21\n",
      "34\n"
     ]
    }
   ],
   "source": [
    "SNum = int(input(\"Enter starting number : \"))\n",
    "ENum = int(input(\"Enter ending number : \"))\n",
    "print(\"The fibonacci numbers between \",SNum,\"and \",ENum, \"are : \")\n",
    "\n",
    "f1 = 0\n",
    "f2 = 1\n",
    "\n",
    "for i in range (2, ENum) :\n",
    "    f3 = f1 + f2\n",
    "    if f3 > SNum and f3 < ENum : \n",
    "        print(f3)\n",
    "    f1 = f2\n",
    "    f2 = f3\n",
    "    \n",
    "\n"
   ]
  },
  {
   "cell_type": "code",
   "execution_count": null,
   "id": "022a4dd9",
   "metadata": {},
   "outputs": [],
   "source": []
  }
 ],
 "metadata": {
  "kernelspec": {
   "display_name": "Python 3",
   "language": "python",
   "name": "python3"
  },
  "language_info": {
   "codemirror_mode": {
    "name": "ipython",
    "version": 3
   },
   "file_extension": ".py",
   "mimetype": "text/x-python",
   "name": "python",
   "nbconvert_exporter": "python",
   "pygments_lexer": "ipython3",
   "version": "3.8.8"
  }
 },
 "nbformat": 4,
 "nbformat_minor": 5
}
