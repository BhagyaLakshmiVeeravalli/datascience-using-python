{
 "cells": [
  {
   "cell_type": "markdown",
   "id": "35562452",
   "metadata": {},
   "source": [
    "## Machine Learning\n",
    "\n",
    "- Arthur Samuel---1959(Field of study that gives the computers the ability to learn without being explicitly programmed) -3 types of Learning\n",
    "    - Supervised\n",
    "        - Regression---predict the continuous valued output---price of the house\n",
    "        - Classification---predict the discrete valued output---breast cancer(malignant,benign)\n",
    "    - Unsupervised\n",
    "        - Clustering -Dimensionality Reduction\n",
    "    - Reinforcement Learning\n",
    "    \n",
    "## Regression\n",
    "\n",
    "- relationship b/w independent variable and dependant variable -Applications\n",
    "    - Management\n",
    "    - Engineering\n",
    "    - Biological Sciences\n",
    "1. Simple Linear Regression\n",
    "- Simple-one dependant variable and one independent varaible\n",
    "- Linear---relationship is approximately using some straight line\n",
    "\n",
    "***Import the data***"
   ]
  },
  {
   "cell_type": "code",
   "execution_count": null,
   "id": "6940015b",
   "metadata": {},
   "outputs": [],
   "source": [
    "import pandas as pd\n",
    "df = pd.read_csv('salary.csv')"
   ]
  }
 ],
 "metadata": {
  "kernelspec": {
   "display_name": "Python 3",
   "language": "python",
   "name": "python3"
  },
  "language_info": {
   "codemirror_mode": {
    "name": "ipython",
    "version": 3
   },
   "file_extension": ".py",
   "mimetype": "text/x-python",
   "name": "python",
   "nbconvert_exporter": "python",
   "pygments_lexer": "ipython3",
   "version": "3.8.8"
  }
 },
 "nbformat": 4,
 "nbformat_minor": 5
}
