{
 "cells": [
  {
   "cell_type": "code",
   "execution_count": 3,
   "id": "a08e3cc8",
   "metadata": {},
   "outputs": [
    {
     "name": "stdout",
     "output_type": "stream",
     "text": [
      "Hello world\n"
     ]
    }
   ],
   "source": [
    "print(\"Hello world\")"
   ]
  },
  {
   "cell_type": "markdown",
   "id": "d9cffb15",
   "metadata": {},
   "source": [
    "We can write description in markdown\n",
    "# markdown syntax\n",
    "## markdown heading2\n",
    "### markdown heading3\n",
    "\n",
    "<h1> markdown syntax </h1>\n"
   ]
  },
  {
   "cell_type": "markdown",
   "id": "42afbfd3",
   "metadata": {},
   "source": [
    "# shortcuts for Jupiter notebook\n",
    "\n",
    "1. shift + enter - > to execute current cell.\n",
    "2. EscA - > For inserting new cell above the current cell.\n",
    "3. EscB - > For inserting new cell below the current cell.\n",
    "4. EscM - > Converting the code cell into the markdown cell.\n",
    "5. EscY - > Converting the markdown cell into the code cell.\n",
    "6. EscDD -> Delete the current cell.\n",
    "7. EscL - > For toggling the current cell line numbers. \n",
    "9. Ctrl + S -> Saving the notebook."
   ]
  },
  {
   "cell_type": "markdown",
   "id": "622b77ee",
   "metadata": {},
   "source": [
    "## Unordered list\n",
    "- Python is easy to learn.\n",
    "- Python is easy to write.\n",
    "* Python is open source.\n",
    "+ Python is high level language.\n",
    "    - High level user understandable language.\n",
    "        * Which is in English.\n",
    "            - sub point.\n",
    "                - sub point.\n",
    "            - sub point."
   ]
  },
  {
   "cell_type": "markdown",
   "id": "6fd72201",
   "metadata": {},
   "source": [
    "## Ordered list\n",
    "1. Main point\n",
    "    A. Sub point\n",
    "        a. Super sub point."
   ]
  },
  {
   "cell_type": "markdown",
   "id": "b4f0e33e",
   "metadata": {},
   "source": [
    "## Font Styles\n",
    "- I'm in **Bold** font style.\n",
    "- I'm also in __Bold__ font style.\n",
    "- I'm in *Italic* font style.\n",
    "- I'm in _Italic_ font style.\n",
    "- I'm in both ***BOld and Italic** font style.\n",
    "- I'm in both ___Bold and Italic___ font style.\n",
    "- I'm in ~Strike offed~\n",
    "- I'm in ~**Strike offed and bold**~\n",
    "- I'm in ~***Strike offed, bold and italic***~"
   ]
  },
  {
   "cell_type": "markdown",
   "id": "d3b44b21",
   "metadata": {},
   "source": [
    "## Insert image\n",
    "#### Syntax ![image Description]/(Image path)\n",
    "![Python logo](https://upload.wikimedia.org/wikipedia/commons/thumb/c/c3/Python-logo-notext.svg/768px-Python-logo-notext.svg.png)"
   ]
  },
  {
   "cell_type": "markdown",
   "id": "1878918d",
   "metadata": {},
   "source": [
    "#### Inserting Hyper Link.\n",
    "#### [Some Description] (Link)\n",
    "[Click here to view python logo](https://upload.wikimedia.org/wikipedia/commons/thumb/c/c3/Python-logo-notext.svg/768px-Python-logo-notext.svg.png)"
   ]
  },
  {
   "cell_type": "markdown",
   "id": "42020d8c",
   "metadata": {},
   "source": [
    "### Tabular data\n",
    "|Name|Roll_no|Email_id|\n",
    "|-----|-----|---------|\n",
    "|bhagya|5e5|Email1|\n",
    "|go|5c5|Email2|"
   ]
  },
  {
   "cell_type": "markdown",
   "id": "0d760ad9",
   "metadata": {},
   "source": [
    "### Inserting code\n",
    "\n",
    "### C code to print hello world\n",
    "```c\n",
    "#include<stdio.h>\n",
    "int main() \n",
    "{\n",
    "    printf(\"Hello World!\");   \n",
    "}\n",
    "```\n",
    "\n",
    "### python code to print hello world\n",
    "``` python\n",
    "print(Hello world)\n",
    "```"
   ]
  },
  {
   "cell_type": "markdown",
   "id": "ef3b6232",
   "metadata": {},
   "source": [
    "### Quotes\n",
    "\n",
    "Normal data\n",
    "> Sun rises in the east.\n",
    "\n",
    "Normal data\n",
    "Python is `easy` to learn\n"
   ]
  },
  {
   "cell_type": "markdown",
   "id": "48edda48",
   "metadata": {},
   "source": [
    "### Mathematical Formulae\n",
    "\n",
    "$$(a+b)^2 = a^2 + b^2 + 2*a*b$$\n",
    "a+b whole square formulae is $(a+b)^2 = a^2 + b^2 + 2*a*b$\n",
    "\n",
    "$\\alpha + \\beta + \\gamma + \\kappa + \\lambda + \\delta$\n",
    "\n",
    "$$\\begin{pmatrix} a & b \\\\ c & d \\end{pmatrix}$$"
   ]
  },
  {
   "cell_type": "code",
   "execution_count": null,
   "id": "6bfec0b6",
   "metadata": {},
   "outputs": [],
   "source": []
  }
 ],
 "metadata": {
  "kernelspec": {
   "display_name": "Python 3",
   "language": "python",
   "name": "python3"
  },
  "language_info": {
   "codemirror_mode": {
    "name": "ipython",
    "version": 3
   },
   "file_extension": ".py",
   "mimetype": "text/x-python",
   "name": "python",
   "nbconvert_exporter": "python",
   "pygments_lexer": "ipython3",
   "version": "3.8.8"
  }
 },
 "nbformat": 4,
 "nbformat_minor": 5
}
