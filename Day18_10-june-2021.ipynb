{
 "cells": [
  {
   "cell_type": "markdown",
   "id": "5d51d9fb",
   "metadata": {},
   "source": [
    "## TODAY'S OBJECTIVE :\n",
    "- Inheritance\n",
    "- Data encapsulation.\n",
    "- POlymorphism."
   ]
  },
  {
   "cell_type": "markdown",
   "id": "2d5fce1d",
   "metadata": {},
   "source": [
    "### Inheritance :\n",
    "- Inheritance is defined as the capability of ine class to derive or inherit the propertirs from some ither class.\n",
    "\n",
    "#### Properties :\n",
    "- represents real_world relationships.\n",
    "- reusability of predefined code.\n",
    "- transitive in nature."
   ]
  },
  {
   "cell_type": "code",
   "execution_count": 1,
   "id": "f997f0df",
   "metadata": {},
   "outputs": [],
   "source": [
    "class parent :\n",
    "    def f1(self) :\n",
    "        print(\"In parent class.\")\n",
    "class child(parent) :\n",
    "    def f2(self) :\n",
    "        print(\"In child class.\")"
   ]
  },
  {
   "cell_type": "code",
   "execution_count": 2,
   "id": "3879e4d4",
   "metadata": {
    "collapsed": true
   },
   "outputs": [
    {
     "data": {
      "text/plain": [
       "['__class__',\n",
       " '__delattr__',\n",
       " '__dict__',\n",
       " '__dir__',\n",
       " '__doc__',\n",
       " '__eq__',\n",
       " '__format__',\n",
       " '__ge__',\n",
       " '__getattribute__',\n",
       " '__gt__',\n",
       " '__hash__',\n",
       " '__init__',\n",
       " '__init_subclass__',\n",
       " '__le__',\n",
       " '__lt__',\n",
       " '__module__',\n",
       " '__ne__',\n",
       " '__new__',\n",
       " '__reduce__',\n",
       " '__reduce_ex__',\n",
       " '__repr__',\n",
       " '__setattr__',\n",
       " '__sizeof__',\n",
       " '__str__',\n",
       " '__subclasshook__',\n",
       " '__weakref__',\n",
       " 'f1']"
      ]
     },
     "execution_count": 2,
     "metadata": {},
     "output_type": "execute_result"
    }
   ],
   "source": [
    "dir(parent)"
   ]
  },
  {
   "cell_type": "code",
   "execution_count": 3,
   "id": "74960608",
   "metadata": {
    "collapsed": true
   },
   "outputs": [
    {
     "data": {
      "text/plain": [
       "['__class__',\n",
       " '__delattr__',\n",
       " '__dict__',\n",
       " '__dir__',\n",
       " '__doc__',\n",
       " '__eq__',\n",
       " '__format__',\n",
       " '__ge__',\n",
       " '__getattribute__',\n",
       " '__gt__',\n",
       " '__hash__',\n",
       " '__init__',\n",
       " '__init_subclass__',\n",
       " '__le__',\n",
       " '__lt__',\n",
       " '__module__',\n",
       " '__ne__',\n",
       " '__new__',\n",
       " '__reduce__',\n",
       " '__reduce_ex__',\n",
       " '__repr__',\n",
       " '__setattr__',\n",
       " '__sizeof__',\n",
       " '__str__',\n",
       " '__subclasshook__',\n",
       " '__weakref__',\n",
       " 'f1',\n",
       " 'f2']"
      ]
     },
     "execution_count": 3,
     "metadata": {},
     "output_type": "execute_result"
    }
   ],
   "source": [
    "dir(child)"
   ]
  },
  {
   "cell_type": "code",
   "execution_count": 4,
   "id": "92b8d8d7",
   "metadata": {},
   "outputs": [],
   "source": [
    "obj = child()"
   ]
  },
  {
   "cell_type": "code",
   "execution_count": 5,
   "id": "7bb78841",
   "metadata": {},
   "outputs": [
    {
     "name": "stdout",
     "output_type": "stream",
     "text": [
      "In parent class.\n"
     ]
    }
   ],
   "source": [
    "obj.f1()"
   ]
  },
  {
   "cell_type": "code",
   "execution_count": 6,
   "id": "989a85fe",
   "metadata": {},
   "outputs": [
    {
     "name": "stdout",
     "output_type": "stream",
     "text": [
      "In child class.\n"
     ]
    }
   ],
   "source": [
    "obj.f2()"
   ]
  },
  {
   "cell_type": "markdown",
   "id": "5599738e",
   "metadata": {},
   "source": [
    "### Types of inheritance :\n",
    "1. single inheritance.\n",
    "2. multiple inheritance.\n",
    "3. multi-level inheritance.\n",
    "4. hierarchical inheritance.\n",
    "5. hybrid inheritance."
   ]
  },
  {
   "cell_type": "markdown",
   "id": "702fe735",
   "metadata": {},
   "source": [
    "### 1. Single inheritance :"
   ]
  },
  {
   "cell_type": "code",
   "execution_count": 7,
   "id": "3f617c87",
   "metadata": {},
   "outputs": [
    {
     "name": "stdout",
     "output_type": "stream",
     "text": [
      "In child class.\n",
      "In parent class.\n"
     ]
    }
   ],
   "source": [
    "class parent :\n",
    "    def f1(self) :\n",
    "        print(\"In parent class.\")\n",
    "class child(parent) :\n",
    "    def f2(self) :\n",
    "        print(\"In child class.\")\n",
    "x = child()\n",
    "x.f2()\n",
    "x.f1()"
   ]
  },
  {
   "cell_type": "markdown",
   "id": "0f6dd09f",
   "metadata": {},
   "source": [
    "### 2. Multiple Inheritance :\n",
    "\n",
    "- One derived or child class inherit properties from one or more super classes"
   ]
  },
  {
   "cell_type": "code",
   "execution_count": 9,
   "id": "096d91d4",
   "metadata": {},
   "outputs": [],
   "source": [
    "class A:\n",
    "    def f1(Self) :\n",
    "        print(\"Class A function f1.\")\n",
    "class B:\n",
    "    def f2(self) :\n",
    "        print(\"Class B function f2.\")\n",
    "class C(A, B) :\n",
    "    def f3(self) :\n",
    "        print(\"Class C function f3.\")\n",
    "obj = C()"
   ]
  },
  {
   "cell_type": "code",
   "execution_count": 10,
   "id": "dec72076",
   "metadata": {
    "collapsed": true
   },
   "outputs": [
    {
     "data": {
      "text/plain": [
       "['__class__',\n",
       " '__delattr__',\n",
       " '__dict__',\n",
       " '__dir__',\n",
       " '__doc__',\n",
       " '__eq__',\n",
       " '__format__',\n",
       " '__ge__',\n",
       " '__getattribute__',\n",
       " '__gt__',\n",
       " '__hash__',\n",
       " '__init__',\n",
       " '__init_subclass__',\n",
       " '__le__',\n",
       " '__lt__',\n",
       " '__module__',\n",
       " '__ne__',\n",
       " '__new__',\n",
       " '__reduce__',\n",
       " '__reduce_ex__',\n",
       " '__repr__',\n",
       " '__setattr__',\n",
       " '__sizeof__',\n",
       " '__str__',\n",
       " '__subclasshook__',\n",
       " '__weakref__',\n",
       " 'f1',\n",
       " 'f2',\n",
       " 'f3']"
      ]
     },
     "execution_count": 10,
     "metadata": {},
     "output_type": "execute_result"
    }
   ],
   "source": [
    "dir(obj)"
   ]
  },
  {
   "cell_type": "code",
   "execution_count": 11,
   "id": "dbcdecfa",
   "metadata": {},
   "outputs": [
    {
     "name": "stdout",
     "output_type": "stream",
     "text": [
      "Class B function f2.\n"
     ]
    }
   ],
   "source": [
    "obj.f2()"
   ]
  },
  {
   "cell_type": "code",
   "execution_count": 12,
   "id": "d4a6b8fb",
   "metadata": {},
   "outputs": [
    {
     "name": "stdout",
     "output_type": "stream",
     "text": [
      "Class A function f1.\n",
      "Class C function f3.\n"
     ]
    }
   ],
   "source": [
    "obj.f1()\n",
    "obj.f3()"
   ]
  },
  {
   "cell_type": "markdown",
   "id": "ad0646ca",
   "metadata": {},
   "source": [
    "### 3.Multi-level Inheritance :\n",
    "\n",
    "- features of the base class and derived class are future inherited into the new derived class."
   ]
  },
  {
   "cell_type": "code",
   "execution_count": 14,
   "id": "6275f15f",
   "metadata": {},
   "outputs": [],
   "source": [
    "class GrandParent:\n",
    "    def f1(Self) :\n",
    "        print(\"Class A function f1.\")\n",
    "class Parent(GrandParent):\n",
    "    def f2(self) :\n",
    "        print(\"Class B function f2.\")\n",
    "class Child(Parent) :\n",
    "    def f3(self) :\n",
    "        print(\"Class C function f3.\")\n",
    "ob = Child()"
   ]
  },
  {
   "cell_type": "code",
   "execution_count": 15,
   "id": "a000ae18",
   "metadata": {},
   "outputs": [
    {
     "name": "stdout",
     "output_type": "stream",
     "text": [
      "Class A function f1.\n",
      "Class B function f2.\n",
      "Class C function f3.\n"
     ]
    }
   ],
   "source": [
    "ob.f1()\n",
    "ob.f2()\n",
    "ob.f3()"
   ]
  },
  {
   "cell_type": "markdown",
   "id": "bd378fb0",
   "metadata": {},
   "source": [
    "### 4.Hierarchical Inheritance :\n",
    "- When more than one derived classes can Inherit properties from single base(parent)."
   ]
  },
  {
   "cell_type": "code",
   "execution_count": 17,
   "id": "acf56f45",
   "metadata": {},
   "outputs": [],
   "source": [
    "class p1 :\n",
    "    def fun1(self) :\n",
    "        print(\"In parent class\")  \n",
    "class c1(p1) :\n",
    "    def fun2(self) :\n",
    "        print(\"In child1 class\")\n",
    "class c2(p1) :\n",
    "    def fun3(self) :\n",
    "        print(\"In child2 class\")\n",
    "        \n",
    "ob1 = c1()\n",
    "ob2 = c2()"
   ]
  },
  {
   "cell_type": "code",
   "execution_count": 18,
   "id": "22da4060",
   "metadata": {},
   "outputs": [
    {
     "name": "stdout",
     "output_type": "stream",
     "text": [
      "In parent class\n",
      "In child1 class\n"
     ]
    }
   ],
   "source": [
    "ob1.fun1()\n",
    "ob1.fun2()"
   ]
  },
  {
   "cell_type": "code",
   "execution_count": 20,
   "id": "8a34dc93",
   "metadata": {},
   "outputs": [
    {
     "name": "stdout",
     "output_type": "stream",
     "text": [
      "In parent class\n",
      "In child2 class\n"
     ]
    }
   ],
   "source": [
    "ob2.fun1()\n",
    "ob2.fun3()"
   ]
  },
  {
   "cell_type": "markdown",
   "id": "8d3d8ade",
   "metadata": {},
   "source": [
    "### 5. Hybrid Inheritance :\n",
    "- Inheritance consisting of multiple types of inheritance."
   ]
  },
  {
   "cell_type": "code",
   "execution_count": 29,
   "id": "540c63bf",
   "metadata": {},
   "outputs": [],
   "source": [
    "class clg :\n",
    "    def f1(self) :\n",
    "        print(\"function in college class\")\n",
    "class student1(clg) :\n",
    "    def f2(self) :\n",
    "        print(\"function in student1 class\")\n",
    "class student2(student1, clg) :\n",
    "    def f3(self) :\n",
    "        print(\"functon in student2 class\")\n",
    "        \n",
    "b = student2()"
   ]
  },
  {
   "cell_type": "code",
   "execution_count": 30,
   "id": "206e1d42",
   "metadata": {},
   "outputs": [
    {
     "name": "stdout",
     "output_type": "stream",
     "text": [
      "function in college class\n",
      "function in student1 class\n",
      "functon in student2 class\n"
     ]
    }
   ],
   "source": [
    "b.f1()\n",
    "b.f2()\n",
    "b.f3()"
   ]
  },
  {
   "cell_type": "markdown",
   "id": "c278baf5",
   "metadata": {},
   "source": [
    "### Data Encapsulation :\n",
    "\n",
    "- Encapsulation is one of the fundamental concept in OOPs.\n",
    "- Describes the data wrapping with one unit.\n",
    "- Restrict the accessing of variables and methods of a class directly.\n",
    "    - Private variables.\n",
    "    - Private methods.\n",
    "        - Use `__` to define a private methods or private variables."
   ]
  },
  {
   "cell_type": "markdown",
   "id": "c3defb3a",
   "metadata": {},
   "source": [
    "### Private Variables :"
   ]
  },
  {
   "cell_type": "code",
   "execution_count": 39,
   "id": "26559ddb",
   "metadata": {},
   "outputs": [],
   "source": [
    "class python :\n",
    "    def __init__(self) :\n",
    "        self.__a = 'apssdc'\n",
    "    def view(self) :\n",
    "        print(self.__a)\n",
    "    def v1(self, b) :\n",
    "        self.__a = 1000\n",
    "        print(self.__a)\n",
    "\n",
    "x = python()"
   ]
  },
  {
   "cell_type": "code",
   "execution_count": 40,
   "id": "976993fc",
   "metadata": {},
   "outputs": [
    {
     "name": "stdout",
     "output_type": "stream",
     "text": [
      "apssdc\n"
     ]
    }
   ],
   "source": [
    "x.view()"
   ]
  },
  {
   "cell_type": "code",
   "execution_count": 41,
   "id": "e5f9fba7",
   "metadata": {},
   "outputs": [
    {
     "name": "stdout",
     "output_type": "stream",
     "text": [
      "1000\n"
     ]
    }
   ],
   "source": [
    "x.v1('svecw')"
   ]
  },
  {
   "cell_type": "code",
   "execution_count": 42,
   "id": "f9005209",
   "metadata": {},
   "outputs": [],
   "source": [
    "class python :\n",
    "    def __init__(self) :\n",
    "        self.__a = 'apssdc'\n",
    "    def view(self) :\n",
    "        print(self.__a)\n",
    "    def v1(self, b) :\n",
    "        self.__a = b\n",
    "        print(self.__a)\n",
    "\n",
    "x = python()"
   ]
  },
  {
   "cell_type": "code",
   "execution_count": 43,
   "id": "08a88bb6",
   "metadata": {},
   "outputs": [
    {
     "name": "stdout",
     "output_type": "stream",
     "text": [
      "svecw\n"
     ]
    }
   ],
   "source": [
    "x.v1('svecw')"
   ]
  },
  {
   "cell_type": "code",
   "execution_count": 44,
   "id": "7b52bc5c",
   "metadata": {},
   "outputs": [],
   "source": [
    "class m1 :\n",
    "    __a = 10\n",
    "    def add(self, b) :\n",
    "        sum = self.__a + b\n",
    "        return sum\n",
    "    \n",
    "ob = m1()"
   ]
  },
  {
   "cell_type": "code",
   "execution_count": 45,
   "id": "96c0dc7c",
   "metadata": {},
   "outputs": [
    {
     "data": {
      "text/plain": [
       "35"
      ]
     },
     "execution_count": 45,
     "metadata": {},
     "output_type": "execute_result"
    }
   ],
   "source": [
    "ob.add(25)"
   ]
  },
  {
   "cell_type": "code",
   "execution_count": 46,
   "id": "9f3fe93d",
   "metadata": {},
   "outputs": [
    {
     "ename": "AttributeError",
     "evalue": "'m1' object has no attribute '__a'",
     "output_type": "error",
     "traceback": [
      "\u001b[1;31m---------------------------------------------------------------------------\u001b[0m",
      "\u001b[1;31mAttributeError\u001b[0m                            Traceback (most recent call last)",
      "\u001b[1;32m<ipython-input-46-1646835dda10>\u001b[0m in \u001b[0;36m<module>\u001b[1;34m\u001b[0m\n\u001b[1;32m----> 1\u001b[1;33m \u001b[0mob\u001b[0m\u001b[1;33m.\u001b[0m\u001b[0m__a\u001b[0m\u001b[1;33m\u001b[0m\u001b[1;33m\u001b[0m\u001b[0m\n\u001b[0m",
      "\u001b[1;31mAttributeError\u001b[0m: 'm1' object has no attribute '__a'"
     ]
    }
   ],
   "source": [
    "ob.__a"
   ]
  },
  {
   "cell_type": "markdown",
   "id": "f3256bed",
   "metadata": {},
   "source": [
    "### Private methods :\n",
    "\n",
    "- The private functions cannot be accessed outside the class"
   ]
  },
  {
   "cell_type": "code",
   "execution_count": 50,
   "id": "c715564c",
   "metadata": {},
   "outputs": [
    {
     "name": "stdout",
     "output_type": "stream",
     "text": [
      "12\n",
      "update your software\n"
     ]
    }
   ],
   "source": [
    "class car :\n",
    "    def __init__(self, x) :\n",
    "        self.x = x\n",
    "        self.__update(x)\n",
    "    def drive(self) :\n",
    "        print(\"driving\")\n",
    "    def __update(self, x) :\n",
    "        print(self.x)\n",
    "        print(\"update your software\")\n",
    "c = car(12)"
   ]
  },
  {
   "cell_type": "code",
   "execution_count": 51,
   "id": "8f673ffa",
   "metadata": {},
   "outputs": [
    {
     "name": "stdout",
     "output_type": "stream",
     "text": [
      "driving\n"
     ]
    }
   ],
   "source": [
    "c.drive()"
   ]
  },
  {
   "cell_type": "code",
   "execution_count": 52,
   "id": "fa529ad7",
   "metadata": {},
   "outputs": [
    {
     "ename": "AttributeError",
     "evalue": "'car' object has no attribute '__update'",
     "output_type": "error",
     "traceback": [
      "\u001b[1;31m---------------------------------------------------------------------------\u001b[0m",
      "\u001b[1;31mAttributeError\u001b[0m                            Traceback (most recent call last)",
      "\u001b[1;32m<ipython-input-52-e47b3e662fa7>\u001b[0m in \u001b[0;36m<module>\u001b[1;34m\u001b[0m\n\u001b[1;32m----> 1\u001b[1;33m \u001b[0mc\u001b[0m\u001b[1;33m.\u001b[0m\u001b[0m__update\u001b[0m\u001b[1;33m(\u001b[0m\u001b[1;36m2\u001b[0m\u001b[1;33m)\u001b[0m\u001b[1;33m\u001b[0m\u001b[1;33m\u001b[0m\u001b[0m\n\u001b[0m",
      "\u001b[1;31mAttributeError\u001b[0m: 'car' object has no attribute '__update'"
     ]
    }
   ],
   "source": [
    "c.__update(2)"
   ]
  },
  {
   "cell_type": "markdown",
   "id": "02e47cf0",
   "metadata": {},
   "source": [
    "### Constructor in inheritance :\n"
   ]
  },
  {
   "cell_type": "code",
   "execution_count": 57,
   "id": "c72186bd",
   "metadata": {},
   "outputs": [
    {
     "name": "stdout",
     "output_type": "stream",
     "text": [
      "p1 constructor\n",
      "belongs to c1 constructor\n"
     ]
    }
   ],
   "source": [
    "class p1 :\n",
    "    def __init__(self) :\n",
    "        print(\"p1 constructor\")\n",
    "    def fun1(self) :\n",
    "        print(\"In parent class\")  \n",
    "class c1(p1) :\n",
    "    def __init__(self) :\n",
    "        super().__init__()\n",
    "        print(\"belongs to c1 constructor\")\n",
    "    def fun2(self) :\n",
    "        print(\"In child1 class\")\n",
    "\n",
    "a1 = c1()"
   ]
  },
  {
   "cell_type": "code",
   "execution_count": 59,
   "id": "160e46c9",
   "metadata": {},
   "outputs": [
    {
     "name": "stdout",
     "output_type": "stream",
     "text": [
      "p2 constructor\n",
      "belongs to c1 constructor\n"
     ]
    }
   ],
   "source": [
    "\n",
    "class p1 :\n",
    "    def __init__(self) :\n",
    "        print(\"p1 constructor\")\n",
    "    def fun1(self) :\n",
    "        print(\"In parent class\") \n",
    "class p2 :\n",
    "    def __init__(self) :\n",
    "        print(\"p2 constructor\")\n",
    "    def fun1(self) :\n",
    "        print(\"In parent class\") \n",
    "class c1(p2, p1) :\n",
    "    def __init__(self) :\n",
    "        super().__init__()\n",
    "        print(\"belongs to c1 constructor\")\n",
    "    def fun2(self) :\n",
    "        print(\"In child1 class\")\n",
    "\n",
    "a1 = c1()"
   ]
  },
  {
   "cell_type": "code",
   "execution_count": 60,
   "id": "099d2392",
   "metadata": {},
   "outputs": [
    {
     "name": "stdout",
     "output_type": "stream",
     "text": [
      "p1 constructor\n",
      "belongs to c1 constructor\n"
     ]
    }
   ],
   "source": [
    "class p1 :\n",
    "    def __init__(self) :\n",
    "        print(\"p1 constructor\")\n",
    "    def fun1(self) :\n",
    "        print(\"In parent class\") \n",
    "class p2 :\n",
    "    def __init__(self) :\n",
    "        print(\"p2 constructor\")\n",
    "    def fun1(self) :\n",
    "        print(\"In parent class\") \n",
    "class c1(p1, p2) :\n",
    "    def __init__(self) :\n",
    "        super().__init__()\n",
    "        print(\"belongs to c1 constructor\")\n",
    "    def fun2(self) :\n",
    "        print(\"In child1 class\")\n",
    "\n",
    "a1 = c1()"
   ]
  },
  {
   "cell_type": "code",
   "execution_count": 63,
   "id": "8cf4efa5",
   "metadata": {},
   "outputs": [
    {
     "name": "stdout",
     "output_type": "stream",
     "text": [
      "p1 constructor\n",
      "belongs to c1 constructor\n"
     ]
    }
   ],
   "source": [
    "class p1 :\n",
    "    def __init__(self) :\n",
    "        print(\"p1 constructor\")\n",
    "    def fun1(self) :\n",
    "        print(\"In parent class\") \n",
    "class p2 :\n",
    "    def __init__(self) :\n",
    "        print(\"p2 constructor\")\n",
    "    def fun2(self) :\n",
    "        print(\"In parent class\") \n",
    "class c1(p1, p2) :\n",
    "    def __init__(self) :\n",
    "        super().__init__()\n",
    "        print(\"belongs to c1 constructor\")\n",
    "    def fun3(self) :\n",
    "        super().fun2()\n",
    "        print(\"In child1 class\")\n",
    "\n",
    "a1 = c1()"
   ]
  },
  {
   "cell_type": "code",
   "execution_count": 64,
   "id": "78389a32",
   "metadata": {},
   "outputs": [
    {
     "name": "stdout",
     "output_type": "stream",
     "text": [
      "In parent class\n",
      "In child1 class\n"
     ]
    }
   ],
   "source": [
    "a1.fun3()"
   ]
  },
  {
   "cell_type": "code",
   "execution_count": null,
   "id": "55e444ed",
   "metadata": {},
   "outputs": [],
   "source": []
  }
 ],
 "metadata": {
  "kernelspec": {
   "display_name": "Python 3",
   "language": "python",
   "name": "python3"
  },
  "language_info": {
   "codemirror_mode": {
    "name": "ipython",
    "version": 3
   },
   "file_extension": ".py",
   "mimetype": "text/x-python",
   "name": "python",
   "nbconvert_exporter": "python",
   "pygments_lexer": "ipython3",
   "version": "3.8.8"
  }
 },
 "nbformat": 4,
 "nbformat_minor": 5
}
