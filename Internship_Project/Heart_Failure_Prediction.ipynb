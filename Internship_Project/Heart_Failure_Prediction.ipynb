{
 "cells": [
  {
   "cell_type": "markdown",
   "id": "4a0fa6de",
   "metadata": {},
   "source": [
    "# Working on Heart Failure  Clinical Records Dataset\n",
    "\n",
    "### Loading the Dataset from the browser\n"
   ]
  },
  {
   "cell_type": "code",
   "execution_count": 1,
   "id": "b326abfb",
   "metadata": {},
   "outputs": [],
   "source": [
    "import pandas as pd\n",
    "df = pd.read_csv(\"https://raw.githubusercontent.com/BhagyaLakshmiVeeravalli/datascience-using-python/main/Internship_Project/heart_failure_clinical_records_dataset.csv\")"
   ]
  },
  {
   "cell_type": "code",
   "execution_count": 2,
   "id": "91d2c68e",
   "metadata": {},
   "outputs": [
    {
     "data": {
      "text/html": [
       "<div>\n",
       "<style scoped>\n",
       "    .dataframe tbody tr th:only-of-type {\n",
       "        vertical-align: middle;\n",
       "    }\n",
       "\n",
       "    .dataframe tbody tr th {\n",
       "        vertical-align: top;\n",
       "    }\n",
       "\n",
       "    .dataframe thead th {\n",
       "        text-align: right;\n",
       "    }\n",
       "</style>\n",
       "<table border=\"1\" class=\"dataframe\">\n",
       "  <thead>\n",
       "    <tr style=\"text-align: right;\">\n",
       "      <th></th>\n",
       "      <th>age</th>\n",
       "      <th>anaemia</th>\n",
       "      <th>creatinine_phosphokinase</th>\n",
       "      <th>diabetes</th>\n",
       "      <th>ejection_fraction</th>\n",
       "      <th>high_blood_pressure</th>\n",
       "      <th>platelets</th>\n",
       "      <th>serum_creatinine</th>\n",
       "      <th>serum_sodium</th>\n",
       "      <th>sex</th>\n",
       "      <th>smoking</th>\n",
       "      <th>time</th>\n",
       "      <th>DEATH_EVENT</th>\n",
       "    </tr>\n",
       "  </thead>\n",
       "  <tbody>\n",
       "    <tr>\n",
       "      <th>0</th>\n",
       "      <td>75.0</td>\n",
       "      <td>0</td>\n",
       "      <td>582</td>\n",
       "      <td>0</td>\n",
       "      <td>20</td>\n",
       "      <td>1</td>\n",
       "      <td>265000.00</td>\n",
       "      <td>1.9</td>\n",
       "      <td>130</td>\n",
       "      <td>1</td>\n",
       "      <td>0</td>\n",
       "      <td>4</td>\n",
       "      <td>1</td>\n",
       "    </tr>\n",
       "    <tr>\n",
       "      <th>1</th>\n",
       "      <td>55.0</td>\n",
       "      <td>0</td>\n",
       "      <td>7861</td>\n",
       "      <td>0</td>\n",
       "      <td>38</td>\n",
       "      <td>0</td>\n",
       "      <td>263358.03</td>\n",
       "      <td>1.1</td>\n",
       "      <td>136</td>\n",
       "      <td>1</td>\n",
       "      <td>0</td>\n",
       "      <td>6</td>\n",
       "      <td>1</td>\n",
       "    </tr>\n",
       "    <tr>\n",
       "      <th>2</th>\n",
       "      <td>65.0</td>\n",
       "      <td>0</td>\n",
       "      <td>146</td>\n",
       "      <td>0</td>\n",
       "      <td>20</td>\n",
       "      <td>0</td>\n",
       "      <td>162000.00</td>\n",
       "      <td>1.3</td>\n",
       "      <td>129</td>\n",
       "      <td>1</td>\n",
       "      <td>1</td>\n",
       "      <td>7</td>\n",
       "      <td>1</td>\n",
       "    </tr>\n",
       "    <tr>\n",
       "      <th>3</th>\n",
       "      <td>50.0</td>\n",
       "      <td>1</td>\n",
       "      <td>111</td>\n",
       "      <td>0</td>\n",
       "      <td>20</td>\n",
       "      <td>0</td>\n",
       "      <td>210000.00</td>\n",
       "      <td>1.9</td>\n",
       "      <td>137</td>\n",
       "      <td>1</td>\n",
       "      <td>0</td>\n",
       "      <td>7</td>\n",
       "      <td>1</td>\n",
       "    </tr>\n",
       "    <tr>\n",
       "      <th>4</th>\n",
       "      <td>65.0</td>\n",
       "      <td>1</td>\n",
       "      <td>160</td>\n",
       "      <td>1</td>\n",
       "      <td>20</td>\n",
       "      <td>0</td>\n",
       "      <td>327000.00</td>\n",
       "      <td>2.7</td>\n",
       "      <td>116</td>\n",
       "      <td>0</td>\n",
       "      <td>0</td>\n",
       "      <td>8</td>\n",
       "      <td>1</td>\n",
       "    </tr>\n",
       "  </tbody>\n",
       "</table>\n",
       "</div>"
      ],
      "text/plain": [
       "    age  anaemia  creatinine_phosphokinase  diabetes  ejection_fraction  \\\n",
       "0  75.0        0                       582         0                 20   \n",
       "1  55.0        0                      7861         0                 38   \n",
       "2  65.0        0                       146         0                 20   \n",
       "3  50.0        1                       111         0                 20   \n",
       "4  65.0        1                       160         1                 20   \n",
       "\n",
       "   high_blood_pressure  platelets  serum_creatinine  serum_sodium  sex  \\\n",
       "0                    1  265000.00               1.9           130    1   \n",
       "1                    0  263358.03               1.1           136    1   \n",
       "2                    0  162000.00               1.3           129    1   \n",
       "3                    0  210000.00               1.9           137    1   \n",
       "4                    0  327000.00               2.7           116    0   \n",
       "\n",
       "   smoking  time  DEATH_EVENT  \n",
       "0        0     4            1  \n",
       "1        0     6            1  \n",
       "2        1     7            1  \n",
       "3        0     7            1  \n",
       "4        0     8            1  "
      ]
     },
     "execution_count": 2,
     "metadata": {},
     "output_type": "execute_result"
    }
   ],
   "source": [
    "df.head()"
   ]
  },
  {
   "cell_type": "markdown",
   "id": "b4849919",
   "metadata": {},
   "source": [
    "# DATA ANALYSIS:"
   ]
  },
  {
   "cell_type": "code",
   "execution_count": 3,
   "id": "7741eb08",
   "metadata": {},
   "outputs": [
    {
     "data": {
      "text/plain": [
       "(299, 13)"
      ]
     },
     "execution_count": 3,
     "metadata": {},
     "output_type": "execute_result"
    }
   ],
   "source": [
    "# Prints number of rows and columns\n",
    "\n",
    "df.shape"
   ]
  },
  {
   "cell_type": "markdown",
   "id": "de7643bc",
   "metadata": {},
   "source": [
    ">There are 299 rows and 13 columns in this dataset"
   ]
  },
  {
   "cell_type": "markdown",
   "id": "3e3baf4e",
   "metadata": {},
   "source": [
    "### Finding the information about the Dataset"
   ]
  },
  {
   "cell_type": "code",
   "execution_count": 4,
   "id": "4526e8f8",
   "metadata": {},
   "outputs": [
    {
     "data": {
      "text/plain": [
       "<bound method DataFrame.info of       age  anaemia  creatinine_phosphokinase  diabetes  ejection_fraction  \\\n",
       "0    75.0        0                       582         0                 20   \n",
       "1    55.0        0                      7861         0                 38   \n",
       "2    65.0        0                       146         0                 20   \n",
       "3    50.0        1                       111         0                 20   \n",
       "4    65.0        1                       160         1                 20   \n",
       "..    ...      ...                       ...       ...                ...   \n",
       "294  62.0        0                        61         1                 38   \n",
       "295  55.0        0                      1820         0                 38   \n",
       "296  45.0        0                      2060         1                 60   \n",
       "297  45.0        0                      2413         0                 38   \n",
       "298  50.0        0                       196         0                 45   \n",
       "\n",
       "     high_blood_pressure  platelets  serum_creatinine  serum_sodium  sex  \\\n",
       "0                      1  265000.00               1.9           130    1   \n",
       "1                      0  263358.03               1.1           136    1   \n",
       "2                      0  162000.00               1.3           129    1   \n",
       "3                      0  210000.00               1.9           137    1   \n",
       "4                      0  327000.00               2.7           116    0   \n",
       "..                   ...        ...               ...           ...  ...   \n",
       "294                    1  155000.00               1.1           143    1   \n",
       "295                    0  270000.00               1.2           139    0   \n",
       "296                    0  742000.00               0.8           138    0   \n",
       "297                    0  140000.00               1.4           140    1   \n",
       "298                    0  395000.00               1.6           136    1   \n",
       "\n",
       "     smoking  time  DEATH_EVENT  \n",
       "0          0     4            1  \n",
       "1          0     6            1  \n",
       "2          1     7            1  \n",
       "3          0     7            1  \n",
       "4          0     8            1  \n",
       "..       ...   ...          ...  \n",
       "294        1   270            0  \n",
       "295        0   271            0  \n",
       "296        0   278            0  \n",
       "297        1   280            0  \n",
       "298        1   285            0  \n",
       "\n",
       "[299 rows x 13 columns]>"
      ]
     },
     "execution_count": 4,
     "metadata": {},
     "output_type": "execute_result"
    }
   ],
   "source": [
    "df.info"
   ]
  },
  {
   "cell_type": "code",
   "execution_count": 5,
   "id": "905b5544",
   "metadata": {},
   "outputs": [
    {
     "data": {
      "text/plain": [
       "<bound method NDFrame.describe of       age  anaemia  creatinine_phosphokinase  diabetes  ejection_fraction  \\\n",
       "0    75.0        0                       582         0                 20   \n",
       "1    55.0        0                      7861         0                 38   \n",
       "2    65.0        0                       146         0                 20   \n",
       "3    50.0        1                       111         0                 20   \n",
       "4    65.0        1                       160         1                 20   \n",
       "..    ...      ...                       ...       ...                ...   \n",
       "294  62.0        0                        61         1                 38   \n",
       "295  55.0        0                      1820         0                 38   \n",
       "296  45.0        0                      2060         1                 60   \n",
       "297  45.0        0                      2413         0                 38   \n",
       "298  50.0        0                       196         0                 45   \n",
       "\n",
       "     high_blood_pressure  platelets  serum_creatinine  serum_sodium  sex  \\\n",
       "0                      1  265000.00               1.9           130    1   \n",
       "1                      0  263358.03               1.1           136    1   \n",
       "2                      0  162000.00               1.3           129    1   \n",
       "3                      0  210000.00               1.9           137    1   \n",
       "4                      0  327000.00               2.7           116    0   \n",
       "..                   ...        ...               ...           ...  ...   \n",
       "294                    1  155000.00               1.1           143    1   \n",
       "295                    0  270000.00               1.2           139    0   \n",
       "296                    0  742000.00               0.8           138    0   \n",
       "297                    0  140000.00               1.4           140    1   \n",
       "298                    0  395000.00               1.6           136    1   \n",
       "\n",
       "     smoking  time  DEATH_EVENT  \n",
       "0          0     4            1  \n",
       "1          0     6            1  \n",
       "2          1     7            1  \n",
       "3          0     7            1  \n",
       "4          0     8            1  \n",
       "..       ...   ...          ...  \n",
       "294        1   270            0  \n",
       "295        0   271            0  \n",
       "296        0   278            0  \n",
       "297        1   280            0  \n",
       "298        1   285            0  \n",
       "\n",
       "[299 rows x 13 columns]>"
      ]
     },
     "execution_count": 5,
     "metadata": {},
     "output_type": "execute_result"
    }
   ],
   "source": [
    "df.describe"
   ]
  },
  {
   "cell_type": "markdown",
   "id": "66c6d5c4",
   "metadata": {},
   "source": [
    "### Checking for null values in the dataset"
   ]
  },
  {
   "cell_type": "code",
   "execution_count": 6,
   "id": "5aa332e2",
   "metadata": {},
   "outputs": [
    {
     "data": {
      "text/plain": [
       "age                         0\n",
       "anaemia                     0\n",
       "creatinine_phosphokinase    0\n",
       "diabetes                    0\n",
       "ejection_fraction           0\n",
       "high_blood_pressure         0\n",
       "platelets                   0\n",
       "serum_creatinine            0\n",
       "serum_sodium                0\n",
       "sex                         0\n",
       "smoking                     0\n",
       "time                        0\n",
       "DEATH_EVENT                 0\n",
       "dtype: int64"
      ]
     },
     "execution_count": 6,
     "metadata": {},
     "output_type": "execute_result"
    }
   ],
   "source": [
    "df.isnull().sum()"
   ]
  },
  {
   "cell_type": "markdown",
   "id": "624e44ac",
   "metadata": {},
   "source": [
    ">There are no null values in this dataset"
   ]
  },
  {
   "cell_type": "code",
   "execution_count": 7,
   "id": "471610ce",
   "metadata": {},
   "outputs": [
    {
     "data": {
      "text/plain": [
       "<AxesSubplot:xlabel='DEATH_EVENT', ylabel='count'>"
      ]
     },
     "execution_count": 7,
     "metadata": {},
     "output_type": "execute_result"
    },
    {
     "data": {
      "image/png": "[encoded data removed]",
      "text/plain": [
       "<Figure size 432x288 with 1 Axes>"
      ]
     },
     "metadata": {
      "needs_background": "light"
     },
     "output_type": "display_data"
    }
   ],
   "source": [
    "import seaborn as sns\n",
    "\n",
    "cols= [\"#6daa9f\",\"#774571\"]\n",
    "sns.countplot(x= df[\"DEATH_EVENT\"], palette= cols)"
   ]
  },
  {
   "cell_type": "code",
   "execution_count": 8,
   "id": "c6546737",
   "metadata": {},
   "outputs": [
    {
     "data": {
      "text/plain": [
       "<AxesSubplot:xlabel='sex', ylabel='count'>"
      ]
     },
     "execution_count": 8,
     "metadata": {},
     "output_type": "execute_result"
    },
    {
     "data": {
      "image/png": "[encoded data removed]",
      "text/plain": [
       "<Figure size 432x288 with 1 Axes>"
      ]
     },
     "metadata": {
      "needs_background": "light"
     },
     "output_type": "display_data"
    }
   ],
   "source": [
    "cols= [\"#4AA96C\",\"#F55C47\"]\n",
    "sns.countplot(x= df[\"sex\"], palette= cols)"
   ]
  },
  {
   "cell_type": "code",
   "execution_count": 9,
   "id": "11f339eb",
   "metadata": {},
   "outputs": [
    {
     "data": {
      "text/plain": [
       "<AxesSubplot:xlabel='high_blood_pressure', ylabel='count'>"
      ]
     },
     "execution_count": 9,
     "metadata": {},
     "output_type": "execute_result"
    },
    {
     "data": {
      "image/png": "[encoded data removed]",
      "text/plain": [
       "<Figure size 432x288 with 1 Axes>"
      ]
     },
     "metadata": {
      "needs_background": "light"
     },
     "output_type": "display_data"
    }
   ],
   "source": [
    "cols= [\"#335D2D\",\"#FFB0B0\"]\n",
    "sns.countplot(x= df[\"high_blood_pressure\"], palette= cols)"
   ]
  },
  {
   "cell_type": "code",
   "execution_count": 10,
   "id": "a8094d65",
   "metadata": {},
   "outputs": [
    {
     "data": {
      "image/png": "[encoded data removed]",
      "text/plain": [
       "<Figure size 936x936 with 2 Axes>"
      ]
     },
     "metadata": {
      "needs_background": "light"
     },
     "output_type": "display_data"
    }
   ],
   "source": [
    "import matplotlib.pyplot as plt\n",
    "\n",
    "plt.subplots(figsize=(13,13))\n",
    "sns.heatmap(df.corr(),annot=True, square=True);"
   ]
  },
  {
   "cell_type": "markdown",
   "id": "92dccb8b",
   "metadata": {},
   "source": [
    "# DATA PREPROCESSING:"
   ]
  },
  {
   "cell_type": "code",
   "execution_count": 11,
   "id": "f180bdab",
   "metadata": {},
   "outputs": [],
   "source": [
    "x =df.drop('DEATH_EVENT' ,axis=1).values\n",
    "y = df['DEATH_EVENT'].values "
   ]
  },
  {
   "cell_type": "code",
   "execution_count": 12,
   "id": "ce42878c",
   "metadata": {},
   "outputs": [],
   "source": [
    "from sklearn.model_selection import train_test_split\n",
    "x_train, x_test, y_train,y_test = train_test_split(x,y,test_size=0.2, random_state=0) "
   ]
  },
  {
   "cell_type": "code",
   "execution_count": 16,
   "id": "6a1e3670",
   "metadata": {},
   "outputs": [
    {
     "data": {
      "text/plain": [
       "array([[8.10e+01, 0.00e+00, 4.54e+03, ..., 1.00e+00, 1.00e+00, 1.07e+02],\n",
       "       [5.00e+01, 0.00e+00, 1.85e+02, ..., 1.00e+00, 1.00e+00, 1.12e+02],\n",
       "       [4.50e+01, 0.00e+00, 5.82e+02, ..., 1.00e+00, 0.00e+00, 6.10e+01],\n",
       "       ...,\n",
       "       [8.50e+01, 1.00e+00, 1.02e+02, ..., 0.00e+00, 0.00e+00, 9.40e+01],\n",
       "       [6.00e+01, 0.00e+00, 5.82e+02, ..., 1.00e+00, 1.00e+00, 4.00e+01],\n",
       "       [7.00e+01, 1.00e+00, 1.71e+02, ..., 1.00e+00, 1.00e+00, 1.46e+02]])"
      ]
     },
     "execution_count": 16,
     "metadata": {},
     "output_type": "execute_result"
    }
   ],
   "source": [
    "x_train"
   ]
  },
  {
   "cell_type": "code",
   "execution_count": 17,
   "id": "346da501",
   "metadata": {
    "collapsed": true
   },
   "outputs": [
    {
     "data": {
      "text/plain": [
       "array([[4.0000000e+01, 1.0000000e+00, 1.0100000e+02, 0.0000000e+00,\n",
       "        4.0000000e+01, 0.0000000e+00, 2.2600000e+05, 8.0000000e-01,\n",
       "        1.4100000e+02, 0.0000000e+00, 0.0000000e+00, 1.8700000e+02],\n",
       "       [6.0667000e+01, 1.0000000e+00, 1.5100000e+02, 1.0000000e+00,\n",
       "        4.0000000e+01, 1.0000000e+00, 2.0100000e+05, 1.0000000e+00,\n",
       "        1.3600000e+02, 0.0000000e+00, 0.0000000e+00, 1.7200000e+02],\n",
       "       [4.5000000e+01, 1.0000000e+00, 9.8100000e+02, 0.0000000e+00,\n",
       "        3.0000000e+01, 0.0000000e+00, 1.3600000e+05, 1.1000000e+00,\n",
       "        1.3700000e+02, 1.0000000e+00, 0.0000000e+00, 1.1000000e+01],\n",
       "       [5.5000000e+01, 0.0000000e+00, 5.8200000e+02, 1.0000000e+00,\n",
       "        3.5000000e+01, 1.0000000e+00, 3.7100000e+05, 7.0000000e-01,\n",
       "        1.4000000e+02, 0.0000000e+00, 0.0000000e+00, 1.9700000e+02],\n",
       "       [7.0000000e+01, 0.0000000e+00, 2.3200000e+02, 0.0000000e+00,\n",
       "        3.0000000e+01, 0.0000000e+00, 1.7300000e+05, 1.2000000e+00,\n",
       "        1.3200000e+02, 1.0000000e+00, 0.0000000e+00, 2.1000000e+02],\n",
       "       [6.5000000e+01, 1.0000000e+00, 5.9000000e+01, 1.0000000e+00,\n",
       "        6.0000000e+01, 0.0000000e+00, 1.7200000e+05, 9.0000000e-01,\n",
       "        1.3700000e+02, 0.0000000e+00, 0.0000000e+00, 1.0700000e+02],\n",
       "       [6.5000000e+01, 0.0000000e+00, 5.6000000e+01, 0.0000000e+00,\n",
       "        2.5000000e+01, 0.0000000e+00, 2.3700000e+05, 5.0000000e+00,\n",
       "        1.3000000e+02, 0.0000000e+00, 0.0000000e+00, 2.0700000e+02],\n",
       "       [5.0000000e+01, 1.0000000e+00, 1.6700000e+02, 1.0000000e+00,\n",
       "        4.5000000e+01, 0.0000000e+00, 3.6200000e+05, 1.0000000e+00,\n",
       "        1.3600000e+02, 0.0000000e+00, 0.0000000e+00, 1.8700000e+02],\n",
       "       [6.0000000e+01, 0.0000000e+00, 3.9640000e+03, 1.0000000e+00,\n",
       "        6.2000000e+01, 0.0000000e+00, 2.6335803e+05, 6.8000000e+00,\n",
       "        1.4600000e+02, 0.0000000e+00, 0.0000000e+00, 4.3000000e+01],\n",
       "       [6.3000000e+01, 0.0000000e+00, 9.3600000e+02, 0.0000000e+00,\n",
       "        3.8000000e+01, 0.0000000e+00, 3.0400000e+05, 1.1000000e+00,\n",
       "        1.3300000e+02, 1.0000000e+00, 1.0000000e+00, 8.8000000e+01],\n",
       "       [7.0000000e+01, 0.0000000e+00, 8.1000000e+01, 1.0000000e+00,\n",
       "        3.5000000e+01, 1.0000000e+00, 5.3300000e+05, 1.3000000e+00,\n",
       "        1.3900000e+02, 0.0000000e+00, 0.0000000e+00, 2.1200000e+02],\n",
       "       [8.2000000e+01, 1.0000000e+00, 3.7900000e+02, 0.0000000e+00,\n",
       "        5.0000000e+01, 0.0000000e+00, 4.7000000e+04, 1.3000000e+00,\n",
       "        1.3600000e+02, 1.0000000e+00, 0.0000000e+00, 1.3000000e+01],\n",
       "       [5.8000000e+01, 1.0000000e+00, 1.4500000e+02, 0.0000000e+00,\n",
       "        2.5000000e+01, 0.0000000e+00, 2.1900000e+05, 1.2000000e+00,\n",
       "        1.3700000e+02, 1.0000000e+00, 1.0000000e+00, 1.7000000e+02],\n",
       "       [5.5000000e+01, 0.0000000e+00, 2.0170000e+03, 0.0000000e+00,\n",
       "        2.5000000e+01, 0.0000000e+00, 3.1400000e+05, 1.1000000e+00,\n",
       "        1.3800000e+02, 1.0000000e+00, 0.0000000e+00, 2.1400000e+02],\n",
       "       [6.8000000e+01, 1.0000000e+00, 2.2000000e+02, 0.0000000e+00,\n",
       "        3.5000000e+01, 1.0000000e+00, 2.8900000e+05, 9.0000000e-01,\n",
       "        1.4000000e+02, 1.0000000e+00, 1.0000000e+00, 2.0000000e+01],\n",
       "       [6.9000000e+01, 0.0000000e+00, 5.8200000e+02, 0.0000000e+00,\n",
       "        2.0000000e+01, 0.0000000e+00, 2.6600000e+05, 1.2000000e+00,\n",
       "        1.3400000e+02, 1.0000000e+00, 1.0000000e+00, 7.3000000e+01],\n",
       "       [4.0000000e+01, 0.0000000e+00, 5.8200000e+02, 1.0000000e+00,\n",
       "        3.5000000e+01, 0.0000000e+00, 2.2200000e+05, 1.0000000e+00,\n",
       "        1.3200000e+02, 1.0000000e+00, 0.0000000e+00, 2.4400000e+02],\n",
       "       [7.0000000e+01, 0.0000000e+00, 6.6000000e+01, 1.0000000e+00,\n",
       "        4.5000000e+01, 0.0000000e+00, 2.4900000e+05, 8.0000000e-01,\n",
       "        1.3600000e+02, 1.0000000e+00, 1.0000000e+00, 8.0000000e+01],\n",
       "       [5.5000000e+01, 1.0000000e+00, 2.7940000e+03, 0.0000000e+00,\n",
       "        3.5000000e+01, 1.0000000e+00, 1.4100000e+05, 1.0000000e+00,\n",
       "        1.4000000e+02, 1.0000000e+00, 0.0000000e+00, 2.0600000e+02],\n",
       "       [5.2000000e+01, 1.0000000e+00, 1.9100000e+02, 1.0000000e+00,\n",
       "        3.0000000e+01, 1.0000000e+00, 3.3400000e+05, 1.0000000e+00,\n",
       "        1.4200000e+02, 1.0000000e+00, 1.0000000e+00, 2.1600000e+02],\n",
       "       [8.0000000e+01, 0.0000000e+00, 5.8200000e+02, 1.0000000e+00,\n",
       "        3.5000000e+01, 0.0000000e+00, 3.5000000e+05, 2.1000000e+00,\n",
       "        1.3400000e+02, 1.0000000e+00, 0.0000000e+00, 1.7400000e+02],\n",
       "       [4.2000000e+01, 0.0000000e+00, 5.2090000e+03, 0.0000000e+00,\n",
       "        3.0000000e+01, 0.0000000e+00, 2.2600000e+05, 1.0000000e+00,\n",
       "        1.4000000e+02, 1.0000000e+00, 1.0000000e+00, 8.7000000e+01],\n",
       "       [6.0000000e+01, 0.0000000e+00, 5.8200000e+02, 0.0000000e+00,\n",
       "        4.0000000e+01, 0.0000000e+00, 2.1700000e+05, 3.7000000e+00,\n",
       "        1.3400000e+02, 1.0000000e+00, 0.0000000e+00, 9.6000000e+01],\n",
       "       [5.3000000e+01, 1.0000000e+00, 2.7000000e+02, 1.0000000e+00,\n",
       "        3.5000000e+01, 0.0000000e+00, 2.2700000e+05, 3.4000000e+00,\n",
       "        1.4500000e+02, 1.0000000e+00, 0.0000000e+00, 1.0500000e+02],\n",
       "       [7.3000000e+01, 0.0000000e+00, 5.8200000e+02, 0.0000000e+00,\n",
       "        2.0000000e+01, 0.0000000e+00, 2.6335803e+05, 1.8300000e+00,\n",
       "        1.3400000e+02, 1.0000000e+00, 0.0000000e+00, 1.9800000e+02],\n",
       "       [6.0000000e+01, 1.0000000e+00, 9.6000000e+01, 1.0000000e+00,\n",
       "        6.0000000e+01, 1.0000000e+00, 2.7100000e+05, 7.0000000e-01,\n",
       "        1.3600000e+02, 0.0000000e+00, 0.0000000e+00, 9.4000000e+01],\n",
       "       [4.5000000e+01, 0.0000000e+00, 5.8200000e+02, 0.0000000e+00,\n",
       "        2.0000000e+01, 1.0000000e+00, 1.2600000e+05, 1.6000000e+00,\n",
       "        1.3500000e+02, 1.0000000e+00, 0.0000000e+00, 1.8000000e+02],\n",
       "       [5.5000000e+01, 1.0000000e+00, 1.7000000e+02, 1.0000000e+00,\n",
       "        4.0000000e+01, 0.0000000e+00, 3.3600000e+05, 1.2000000e+00,\n",
       "        1.3500000e+02, 1.0000000e+00, 0.0000000e+00, 2.5000000e+02],\n",
       "       [6.2000000e+01, 0.0000000e+00, 6.1000000e+01, 1.0000000e+00,\n",
       "        3.8000000e+01, 1.0000000e+00, 1.5500000e+05, 1.1000000e+00,\n",
       "        1.4300000e+02, 1.0000000e+00, 1.0000000e+00, 2.7000000e+02],\n",
       "       [5.3000000e+01, 0.0000000e+00, 2.0700000e+02, 1.0000000e+00,\n",
       "        4.0000000e+01, 0.0000000e+00, 2.2300000e+05, 1.2000000e+00,\n",
       "        1.3000000e+02, 0.0000000e+00, 0.0000000e+00, 2.1400000e+02],\n",
       "       [4.2000000e+01, 0.0000000e+00, 5.8200000e+02, 0.0000000e+00,\n",
       "        6.0000000e+01, 0.0000000e+00, 2.6335803e+05, 1.1800000e+00,\n",
       "        1.3700000e+02, 0.0000000e+00, 0.0000000e+00, 8.2000000e+01],\n",
       "       [4.2000000e+01, 1.0000000e+00, 2.5000000e+02, 1.0000000e+00,\n",
       "        1.5000000e+01, 0.0000000e+00, 2.1300000e+05, 1.3000000e+00,\n",
       "        1.3600000e+02, 0.0000000e+00, 0.0000000e+00, 6.5000000e+01],\n",
       "       [6.5000000e+01, 0.0000000e+00, 1.5700000e+02, 0.0000000e+00,\n",
       "        6.5000000e+01, 0.0000000e+00, 2.6335803e+05, 1.5000000e+00,\n",
       "        1.3800000e+02, 0.0000000e+00, 0.0000000e+00, 1.0000000e+01],\n",
       "       [6.0000000e+01, 0.0000000e+00, 9.6000000e+01, 1.0000000e+00,\n",
       "        3.8000000e+01, 0.0000000e+00, 2.2800000e+05, 7.5000000e-01,\n",
       "        1.4000000e+02, 0.0000000e+00, 0.0000000e+00, 9.5000000e+01],\n",
       "       [5.4000000e+01, 1.0000000e+00, 4.2700000e+02, 0.0000000e+00,\n",
       "        7.0000000e+01, 1.0000000e+00, 1.5100000e+05, 9.0000000e+00,\n",
       "        1.3700000e+02, 0.0000000e+00, 0.0000000e+00, 1.9600000e+02],\n",
       "       [7.2000000e+01, 0.0000000e+00, 2.3300000e+02, 0.0000000e+00,\n",
       "        4.5000000e+01, 1.0000000e+00, 2.3500000e+05, 2.5000000e+00,\n",
       "        1.3500000e+02, 0.0000000e+00, 0.0000000e+00, 1.1500000e+02],\n",
       "       [6.9000000e+01, 0.0000000e+00, 1.4190000e+03, 0.0000000e+00,\n",
       "        4.0000000e+01, 0.0000000e+00, 1.0500000e+05, 1.0000000e+00,\n",
       "        1.3500000e+02, 1.0000000e+00, 1.0000000e+00, 1.4700000e+02],\n",
       "       [6.5000000e+01, 0.0000000e+00, 3.9500000e+02, 1.0000000e+00,\n",
       "        2.5000000e+01, 0.0000000e+00, 2.6500000e+05, 1.2000000e+00,\n",
       "        1.3600000e+02, 1.0000000e+00, 1.0000000e+00, 1.5400000e+02],\n",
       "       [5.0000000e+01, 0.0000000e+00, 1.9600000e+02, 0.0000000e+00,\n",
       "        4.5000000e+01, 0.0000000e+00, 3.9500000e+05, 1.6000000e+00,\n",
       "        1.3600000e+02, 1.0000000e+00, 1.0000000e+00, 2.8500000e+02],\n",
       "       [9.0000000e+01, 1.0000000e+00, 4.7000000e+01, 0.0000000e+00,\n",
       "        4.0000000e+01, 1.0000000e+00, 2.0400000e+05, 2.1000000e+00,\n",
       "        1.3200000e+02, 1.0000000e+00, 1.0000000e+00, 8.0000000e+00],\n",
       "       [6.8000000e+01, 1.0000000e+00, 1.5700000e+02, 1.0000000e+00,\n",
       "        6.0000000e+01, 0.0000000e+00, 2.0800000e+05, 1.0000000e+00,\n",
       "        1.4000000e+02, 0.0000000e+00, 0.0000000e+00, 2.3700000e+02],\n",
       "       [5.7000000e+01, 1.0000000e+00, 1.1500000e+02, 0.0000000e+00,\n",
       "        2.5000000e+01, 1.0000000e+00, 1.8100000e+05, 1.1000000e+00,\n",
       "        1.4400000e+02, 1.0000000e+00, 0.0000000e+00, 7.9000000e+01],\n",
       "       [6.7000000e+01, 0.0000000e+00, 5.8200000e+02, 0.0000000e+00,\n",
       "        5.0000000e+01, 0.0000000e+00, 2.6335803e+05, 1.1800000e+00,\n",
       "        1.3700000e+02, 1.0000000e+00, 1.0000000e+00, 7.6000000e+01],\n",
       "       [6.5000000e+01, 0.0000000e+00, 9.4000000e+01, 1.0000000e+00,\n",
       "        5.0000000e+01, 1.0000000e+00, 1.8800000e+05, 1.0000000e+00,\n",
       "        1.4000000e+02, 1.0000000e+00, 0.0000000e+00, 2.9000000e+01],\n",
       "       [9.5000000e+01, 1.0000000e+00, 3.7100000e+02, 0.0000000e+00,\n",
       "        3.0000000e+01, 0.0000000e+00, 4.6100000e+05, 2.0000000e+00,\n",
       "        1.3200000e+02, 1.0000000e+00, 0.0000000e+00, 5.0000000e+01],\n",
       "       [5.0000000e+01, 0.0000000e+00, 1.5480000e+03, 0.0000000e+00,\n",
       "        3.0000000e+01, 1.0000000e+00, 2.1100000e+05, 8.0000000e-01,\n",
       "        1.3800000e+02, 1.0000000e+00, 0.0000000e+00, 1.0800000e+02],\n",
       "       [5.3000000e+01, 1.0000000e+00, 5.8200000e+02, 0.0000000e+00,\n",
       "        4.5000000e+01, 0.0000000e+00, 3.0500000e+05, 1.1000000e+00,\n",
       "        1.3700000e+02, 1.0000000e+00, 1.0000000e+00, 2.0900000e+02],\n",
       "       [4.5000000e+01, 0.0000000e+00, 5.8200000e+02, 0.0000000e+00,\n",
       "        8.0000000e+01, 0.0000000e+00, 2.6335803e+05, 1.1800000e+00,\n",
       "        1.3700000e+02, 0.0000000e+00, 0.0000000e+00, 6.3000000e+01],\n",
       "       [6.0000000e+01, 1.0000000e+00, 3.1500000e+02, 1.0000000e+00,\n",
       "        6.0000000e+01, 0.0000000e+00, 4.5400000e+05, 1.1000000e+00,\n",
       "        1.3100000e+02, 1.0000000e+00, 1.0000000e+00, 1.0000000e+01],\n",
       "       [5.0000000e+01, 0.0000000e+00, 5.8200000e+02, 1.0000000e+00,\n",
       "        3.8000000e+01, 0.0000000e+00, 3.1000000e+05, 1.9000000e+00,\n",
       "        1.3500000e+02, 1.0000000e+00, 1.0000000e+00, 3.5000000e+01],\n",
       "       [6.5000000e+01, 0.0000000e+00, 2.2400000e+02, 1.0000000e+00,\n",
       "        5.0000000e+01, 0.0000000e+00, 1.4900000e+05, 1.3000000e+00,\n",
       "        1.3700000e+02, 1.0000000e+00, 1.0000000e+00, 7.2000000e+01],\n",
       "       [6.0000000e+01, 0.0000000e+00, 3.2000000e+02, 0.0000000e+00,\n",
       "        3.5000000e+01, 0.0000000e+00, 1.3300000e+05, 1.4000000e+00,\n",
       "        1.3900000e+02, 1.0000000e+00, 0.0000000e+00, 2.5800000e+02],\n",
       "       [5.0000000e+01, 1.0000000e+00, 1.1500000e+02, 0.0000000e+00,\n",
       "        2.0000000e+01, 0.0000000e+00, 1.8900000e+05, 8.0000000e-01,\n",
       "        1.3900000e+02, 1.0000000e+00, 0.0000000e+00, 1.4600000e+02],\n",
       "       [5.5000000e+01, 0.0000000e+00, 7.4800000e+02, 0.0000000e+00,\n",
       "        4.5000000e+01, 0.0000000e+00, 2.6300000e+05, 1.3000000e+00,\n",
       "        1.3700000e+02, 1.0000000e+00, 0.0000000e+00, 8.8000000e+01],\n",
       "       [7.2000000e+01, 0.0000000e+00, 3.6400000e+02, 1.0000000e+00,\n",
       "        2.0000000e+01, 1.0000000e+00, 2.5400000e+05, 1.3000000e+00,\n",
       "        1.3600000e+02, 1.0000000e+00, 1.0000000e+00, 5.9000000e+01],\n",
       "       [6.0000000e+01, 0.0000000e+00, 1.6600000e+02, 0.0000000e+00,\n",
       "        3.0000000e+01, 0.0000000e+00, 6.2000000e+04, 1.7000000e+00,\n",
       "        1.2700000e+02, 0.0000000e+00, 0.0000000e+00, 2.0700000e+02],\n",
       "       [6.5000000e+01, 0.0000000e+00, 5.8200000e+02, 1.0000000e+00,\n",
       "        4.0000000e+01, 0.0000000e+00, 2.7000000e+05, 1.0000000e+00,\n",
       "        1.3800000e+02, 0.0000000e+00, 0.0000000e+00, 1.4000000e+02],\n",
       "       [9.5000000e+01, 1.0000000e+00, 1.1200000e+02, 0.0000000e+00,\n",
       "        4.0000000e+01, 1.0000000e+00, 1.9600000e+05, 1.0000000e+00,\n",
       "        1.3800000e+02, 0.0000000e+00, 0.0000000e+00, 2.4000000e+01],\n",
       "       [6.5000000e+01, 0.0000000e+00, 1.6880000e+03, 0.0000000e+00,\n",
       "        3.8000000e+01, 0.0000000e+00, 2.6335803e+05, 1.1000000e+00,\n",
       "        1.3800000e+02, 1.0000000e+00, 1.0000000e+00, 2.5000000e+02],\n",
       "       [5.0000000e+01, 0.0000000e+00, 1.8460000e+03, 1.0000000e+00,\n",
       "        3.5000000e+01, 0.0000000e+00, 2.6335803e+05, 1.1800000e+00,\n",
       "        1.3700000e+02, 1.0000000e+00, 1.0000000e+00, 1.1900000e+02]])"
      ]
     },
     "execution_count": 17,
     "metadata": {},
     "output_type": "execute_result"
    }
   ],
   "source": [
    "x_test"
   ]
  },
  {
   "cell_type": "code",
   "execution_count": 18,
   "id": "67377a5e",
   "metadata": {
    "collapsed": true
   },
   "outputs": [
    {
     "data": {
      "text/plain": [
       "array([0, 0, 1, 0, 0, 0, 0, 0, 0, 1, 0, 0, 0, 1, 1, 0, 1, 0, 0, 0, 0, 0,\n",
       "       0, 0, 0, 0, 0, 0, 0, 0, 0, 1, 0, 0, 0, 0, 0, 1, 1, 1, 0, 0, 1, 0,\n",
       "       0, 0, 0, 0, 0, 1, 0, 0, 0, 0, 0, 1, 1, 0, 1, 1, 1, 0, 1, 0, 1, 0,\n",
       "       0, 0, 0, 1, 0, 0, 1, 1, 0, 0, 0, 0, 1, 0, 1, 0, 0, 1, 0, 0, 1, 1,\n",
       "       0, 0, 0, 1, 0, 0, 0, 0, 1, 1, 0, 0, 0, 0, 1, 0, 1, 1, 0, 0, 1, 0,\n",
       "       0, 0, 0, 0, 1, 0, 0, 0, 0, 0, 0, 0, 0, 0, 0, 0, 0, 0, 0, 1, 0, 0,\n",
       "       1, 0, 1, 1, 0, 0, 0, 0, 0, 1, 1, 1, 0, 0, 0, 0, 0, 1, 0, 0, 0, 0,\n",
       "       0, 0, 1, 0, 0, 1, 1, 0, 1, 0, 0, 1, 0, 0, 0, 0, 0, 1, 0, 1, 1, 0,\n",
       "       1, 0, 0, 0, 1, 1, 0, 0, 1, 1, 1, 0, 0, 1, 1, 0, 0, 0, 1, 1, 0, 0,\n",
       "       1, 1, 1, 0, 0, 0, 1, 1, 0, 1, 0, 0, 0, 0, 0, 0, 0, 0, 0, 0, 1, 1,\n",
       "       1, 0, 0, 0, 1, 0, 0, 0, 0, 0, 0, 0, 1, 1, 0, 0, 0, 1, 0],\n",
       "      dtype=int64)"
      ]
     },
     "execution_count": 18,
     "metadata": {},
     "output_type": "execute_result"
    }
   ],
   "source": [
    "y_train"
   ]
  },
  {
   "cell_type": "code",
   "execution_count": 19,
   "id": "252794bf",
   "metadata": {},
   "outputs": [
    {
     "data": {
      "text/plain": [
       "array([0, 0, 1, 0, 0, 0, 0, 0, 1, 0, 0, 1, 1, 1, 1, 1, 0, 0, 0, 0, 0, 0,\n",
       "       1, 0, 1, 0, 1, 0, 0, 0, 0, 1, 1, 0, 1, 1, 0, 1, 0, 1, 0, 0, 0, 1,\n",
       "       1, 0, 0, 0, 1, 1, 0, 0, 0, 0, 1, 1, 0, 1, 0, 0], dtype=int64)"
      ]
     },
     "execution_count": 19,
     "metadata": {},
     "output_type": "execute_result"
    }
   ],
   "source": [
    "y_test"
   ]
  },
  {
   "cell_type": "markdown",
   "id": "47c264e4",
   "metadata": {},
   "source": [
    "# MODEL BUILDING:"
   ]
  },
  {
   "cell_type": "code",
   "execution_count": 13,
   "id": "90399484",
   "metadata": {},
   "outputs": [
    {
     "data": {
      "text/plain": [
       "RandomForestClassifier(max_depth=5, max_features=1, n_estimators=10)"
      ]
     },
     "execution_count": 13,
     "metadata": {},
     "output_type": "execute_result"
    }
   ],
   "source": [
    "from sklearn.ensemble import RandomForestClassifier \n",
    "\n",
    "model = RandomForestClassifier(max_depth=5, n_estimators=10, max_features=1)\n",
    "model.fit(x_train,y_train)"
   ]
  },
  {
   "cell_type": "code",
   "execution_count": 14,
   "id": "ad3ae5d6",
   "metadata": {},
   "outputs": [
    {
     "data": {
      "text/plain": [
       "array([0, 0, 0, 0, 0, 0, 0, 0, 1, 0, 0, 1, 0, 0, 0, 1, 0, 0, 0, 0, 0, 0,\n",
       "       1, 0, 1, 0, 1, 0, 0, 0, 0, 1, 0, 0, 0, 0, 0, 0, 0, 1, 0, 0, 0, 1,\n",
       "       1, 0, 0, 0, 1, 1, 0, 0, 0, 0, 0, 1, 0, 1, 0, 0], dtype=int64)"
      ]
     },
     "execution_count": 14,
     "metadata": {},
     "output_type": "execute_result"
    }
   ],
   "source": [
    "y_pred = model.predict(x_test)\n",
    "y_pred"
   ]
  },
  {
   "cell_type": "code",
   "execution_count": 15,
   "id": "17ed896b",
   "metadata": {},
   "outputs": [
    {
     "data": {
      "text/plain": [
       "85.0"
      ]
     },
     "execution_count": 15,
     "metadata": {},
     "output_type": "execute_result"
    }
   ],
   "source": [
    "from sklearn.metrics import accuracy_score\n",
    "\n",
    "accuracy_score(y_test, y_pred)*100"
   ]
  },
  {
   "cell_type": "markdown",
   "id": "bb949800",
   "metadata": {},
   "source": [
    ">The accuracy score for this dataset is 85%."
   ]
  },
  {
   "cell_type": "code",
   "execution_count": null,
   "id": "a7229512",
   "metadata": {},
   "outputs": [],
   "source": []
  }
 ],
 "metadata": {
  "kernelspec": {
   "display_name": "Python 3",
   "language": "python",
   "name": "python3"
  },
  "language_info": {
   "codemirror_mode": {
    "name": "ipython",
    "version": 3
   },
   "file_extension": ".py",
   "mimetype": "text/x-python",
   "name": "python",
   "nbconvert_exporter": "python",
   "pygments_lexer": "ipython3",
   "version": "3.8.8"
  }
 },
 "nbformat": 4,
 "nbformat_minor": 5
}
